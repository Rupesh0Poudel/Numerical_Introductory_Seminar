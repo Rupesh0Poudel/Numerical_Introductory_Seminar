{
  "nbformat": 4,
  "nbformat_minor": 0,
  "metadata": {
    "colab": {
      "name": "Stock Modelling.ipynb",
      "provenance": [],
      "collapsed_sections": [],
      "authorship_tag": "ABX9TyP7JJeeDCrwpGko+mye5a83",
      "include_colab_link": true
    },
    "kernelspec": {
      "name": "python3",
      "display_name": "Python 3"
    },
    "language_info": {
      "name": "python"
    }
  },
  "cells": [
    {
      "cell_type": "markdown",
      "metadata": {
        "id": "view-in-github",
        "colab_type": "text"
      },
      "source": [
        "<a href=\"https://colab.research.google.com/github/Rupesh0Poudel/Numerical_Introductory_Seminar/blob/main/Stock_Modelling.ipynb\" target=\"_parent\"><img src=\"https://colab.research.google.com/assets/colab-badge.svg\" alt=\"Open In Colab\"/></a>"
      ]
    },
    {
      "cell_type": "code",
      "source": [
        "pip install yfinance"
      ],
      "metadata": {
        "id": "z7stKR_vQA61",
        "colab": {
          "base_uri": "https://localhost:8080/"
        },
        "outputId": "58d5064f-5cca-41a8-8a67-d07932c58ba3"
      },
      "execution_count": 3,
      "outputs": [
        {
          "output_type": "stream",
          "name": "stdout",
          "text": [
            "Requirement already satisfied: yfinance in /usr/local/lib/python3.7/dist-packages (0.1.69)\n",
            "Requirement already satisfied: multitasking>=0.0.7 in /usr/local/lib/python3.7/dist-packages (from yfinance) (0.0.10)\n",
            "Requirement already satisfied: lxml>=4.5.1 in /usr/local/lib/python3.7/dist-packages (from yfinance) (4.7.1)\n",
            "Requirement already satisfied: numpy>=1.15 in /usr/local/lib/python3.7/dist-packages (from yfinance) (1.19.5)\n",
            "Requirement already satisfied: requests>=2.26 in /usr/local/lib/python3.7/dist-packages (from yfinance) (2.27.1)\n",
            "Requirement already satisfied: pandas>=0.24 in /usr/local/lib/python3.7/dist-packages (from yfinance) (1.1.5)\n",
            "Requirement already satisfied: pytz>=2017.2 in /usr/local/lib/python3.7/dist-packages (from pandas>=0.24->yfinance) (2018.9)\n",
            "Requirement already satisfied: python-dateutil>=2.7.3 in /usr/local/lib/python3.7/dist-packages (from pandas>=0.24->yfinance) (2.8.2)\n",
            "Requirement already satisfied: six>=1.5 in /usr/local/lib/python3.7/dist-packages (from python-dateutil>=2.7.3->pandas>=0.24->yfinance) (1.15.0)\n",
            "Requirement already satisfied: idna<4,>=2.5 in /usr/local/lib/python3.7/dist-packages (from requests>=2.26->yfinance) (2.10)\n",
            "Requirement already satisfied: certifi>=2017.4.17 in /usr/local/lib/python3.7/dist-packages (from requests>=2.26->yfinance) (2021.10.8)\n",
            "Requirement already satisfied: charset-normalizer~=2.0.0 in /usr/local/lib/python3.7/dist-packages (from requests>=2.26->yfinance) (2.0.10)\n",
            "Requirement already satisfied: urllib3<1.27,>=1.21.1 in /usr/local/lib/python3.7/dist-packages (from requests>=2.26->yfinance) (1.24.3)\n"
          ]
        }
      ]
    },
    {
      "cell_type": "code",
      "execution_count": 2,
      "metadata": {
        "id": "5fyfpO1eOxUO"
      },
      "outputs": [],
      "source": [
        "import yfinance as yf\n",
        "import pandas as pd\n",
        "import numpy as np\n",
        "import matplotlib.pyplot as plt\n",
        "import seaborn as sns"
      ]
    },
    {
      "cell_type": "code",
      "source": [
        "apple = yf.Ticker(\"APPL\")\n",
        "amazon = yf.Ticker(\"AMZN\")\n",
        "tesla = yf.Ticker(\"TSLA\")\n",
        "microsoft = yf.Ticker(\"MSFT\")\n",
        "google = yf.Ticker(\"GOOG\")\n"
      ],
      "metadata": {
        "id": "6GT1E3qrPKC3"
      },
      "execution_count": null,
      "outputs": []
    },
    {
      "cell_type": "code",
      "source": [
        "#print(apple.info)\n",
        "df = yf.download(\"AAPL\", start = \"2020-1-1\", end=\"2021-11-30\")\n",
        "#print(df.head)\n",
        "\n"
      ],
      "metadata": {
        "id": "NXAM4YcoQXOZ",
        "colab": {
          "base_uri": "https://localhost:8080/"
        },
        "outputId": "23da2029-26a2-4749-9e46-49601f351b43"
      },
      "execution_count": 6,
      "outputs": [
        {
          "output_type": "stream",
          "name": "stdout",
          "text": [
            "\r[*********************100%***********************]  1 of 1 completed\n"
          ]
        }
      ]
    },
    {
      "cell_type": "code",
      "source": [
        "print(df.tail)"
      ],
      "metadata": {
        "id": "u4ZZ1gVlR8Fq",
        "colab": {
          "base_uri": "https://localhost:8080/"
        },
        "outputId": "3a4ae7f1-c857-44ad-dc71-d2ffe68ef01d"
      },
      "execution_count": null,
      "outputs": [
        {
          "output_type": "stream",
          "name": "stdout",
          "text": [
            "<bound method NDFrame.tail of              Open   High    Low  Close  Adj Close   Volume\n",
            "Date                                                      \n",
            "2019-06-24   7.20   7.22   7.10   7.10       7.10  3541100\n",
            "2019-06-25   7.10   7.16   7.06   7.12       7.12  4534700\n",
            "2019-06-26   7.33   7.40   7.29   7.37       7.37  4736100\n",
            "2019-06-27   7.53   7.58   7.46   7.54       7.54  7590400\n",
            "2019-06-28   7.71   7.77   7.58   7.63       7.63  7631800\n",
            "...           ...    ...    ...    ...        ...      ...\n",
            "2022-01-10  14.09  14.12  13.66  13.88      13.88  7580700\n",
            "2022-01-11  13.91  14.14  13.86  14.13      14.13  3529300\n",
            "2022-01-12  14.01  14.07  13.92  14.01      14.01  3013600\n",
            "2022-01-13  13.89  14.08  13.83  13.85      13.85  3433800\n",
            "2022-01-14  13.52  13.79  13.51  13.79      13.79  3061100\n",
            "\n",
            "[648 rows x 6 columns]>\n"
          ]
        }
      ]
    },
    {
      "cell_type": "code",
      "source": [
        "df.head()\n",
        "df.columns"
      ],
      "metadata": {
        "colab": {
          "base_uri": "https://localhost:8080/"
        },
        "id": "6rqBV-u2S1km",
        "outputId": "dcbe4725-2b78-48a8-b0e2-edf7438278d2"
      },
      "execution_count": 7,
      "outputs": [
        {
          "output_type": "execute_result",
          "data": {
            "text/plain": [
              "Index(['Open', 'High', 'Low', 'Close', 'Adj Close', 'Volume'], dtype='object')"
            ]
          },
          "metadata": {},
          "execution_count": 7
        }
      ]
    },
    {
      "cell_type": "code",
      "source": [
        "adj_close= df['Adj Close']\n",
        "adj_close.tail()"
      ],
      "metadata": {
        "colab": {
          "base_uri": "https://localhost:8080/"
        },
        "id": "XkjDLaBKUQeM",
        "outputId": "be2642c8-4ce3-4f7c-f762-950897165a40"
      },
      "execution_count": 8,
      "outputs": [
        {
          "output_type": "execute_result",
          "data": {
            "text/plain": [
              "Date\n",
              "2021-11-22    161.020004\n",
              "2021-11-23    161.410004\n",
              "2021-11-24    161.940002\n",
              "2021-11-26    156.809998\n",
              "2021-11-29    160.240005\n",
              "Name: Adj Close, dtype: float64"
            ]
          },
          "metadata": {},
          "execution_count": 8
        }
      ]
    },
    {
      "cell_type": "code",
      "source": [
        "returns = adj_close.pct_change()\n",
        "\n",
        "print(len(returns))\n",
        "returns.head()"
      ],
      "metadata": {
        "colab": {
          "base_uri": "https://localhost:8080/"
        },
        "id": "Yl1xBwhJUf1J",
        "outputId": "4f2bb482-e6e4-4e51-aa33-464cc3158b26"
      },
      "execution_count": 9,
      "outputs": [
        {
          "output_type": "stream",
          "name": "stdout",
          "text": [
            "482\n"
          ]
        },
        {
          "output_type": "execute_result",
          "data": {
            "text/plain": [
              "Date\n",
              "2020-01-02         NaN\n",
              "2020-01-03   -0.009722\n",
              "2020-01-06    0.007968\n",
              "2020-01-07   -0.004703\n",
              "2020-01-08    0.016086\n",
              "Name: Adj Close, dtype: float64"
            ]
          },
          "metadata": {},
          "execution_count": 9
        }
      ]
    },
    {
      "cell_type": "code",
      "source": [
        "adj_close.plot()"
      ],
      "metadata": {
        "colab": {
          "base_uri": "https://localhost:8080/",
          "height": 295
        },
        "id": "lW1f2gcfx9Jl",
        "outputId": "ab5b76c0-342a-4bd8-cc20-20327165f0b8"
      },
      "execution_count": 10,
      "outputs": [
        {
          "output_type": "execute_result",
          "data": {
            "text/plain": [
              "<matplotlib.axes._subplots.AxesSubplot at 0x7f5ff063ac90>"
            ]
          },
          "metadata": {},
          "execution_count": 10
        },
        {
          "output_type": "display_data",
          "data": {
            "image/png": "[encoded data removed]",
            "text/plain": [
              "<Figure size 432x288 with 1 Axes>"
            ]
          },
          "metadata": {
            "needs_background": "light"
          }
        }
      ]
    },
    {
      "cell_type": "code",
      "source": [
        "returns"
      ],
      "metadata": {
        "colab": {
          "base_uri": "https://localhost:8080/"
        },
        "id": "ODeTORSVYUHK",
        "outputId": "6fb1b426-8fa3-4b18-c7b9-679a7e3caec2"
      },
      "execution_count": 11,
      "outputs": [
        {
          "output_type": "execute_result",
          "data": {
            "text/plain": [
              "Date\n",
              "2020-01-02         NaN\n",
              "2020-01-03   -0.009722\n",
              "2020-01-06    0.007968\n",
              "2020-01-07   -0.004703\n",
              "2020-01-08    0.016086\n",
              "                ...   \n",
              "2021-11-22    0.002927\n",
              "2021-11-23    0.002422\n",
              "2021-11-24    0.003284\n",
              "2021-11-26   -0.031678\n",
              "2021-11-29    0.021874\n",
              "Name: Adj Close, Length: 482, dtype: float64"
            ]
          },
          "metadata": {},
          "execution_count": 11
        }
      ]
    },
    {
      "cell_type": "code",
      "source": [
        "returns\n",
        "df_new = returns[1:482]\n",
        "df_new"
      ],
      "metadata": {
        "colab": {
          "base_uri": "https://localhost:8080/"
        },
        "id": "XFt83jlpi_6D",
        "outputId": "da4ec585-5458-4b16-d90a-330565a2bb03"
      },
      "execution_count": 12,
      "outputs": [
        {
          "output_type": "execute_result",
          "data": {
            "text/plain": [
              "Date\n",
              "2020-01-03   -0.009722\n",
              "2020-01-06    0.007968\n",
              "2020-01-07   -0.004703\n",
              "2020-01-08    0.016086\n",
              "2020-01-09    0.021241\n",
              "                ...   \n",
              "2021-11-22    0.002927\n",
              "2021-11-23    0.002422\n",
              "2021-11-24    0.003284\n",
              "2021-11-26   -0.031678\n",
              "2021-11-29    0.021874\n",
              "Name: Adj Close, Length: 481, dtype: float64"
            ]
          },
          "metadata": {},
          "execution_count": 12
        }
      ]
    },
    {
      "cell_type": "code",
      "source": [
        "last_price = adj_close[-1]\n",
        "last_price"
      ],
      "metadata": {
        "id": "blahe_uHv_rI",
        "colab": {
          "base_uri": "https://localhost:8080/"
        },
        "outputId": "a54e54dd-f8e3-4d5e-9a72-1a189d4db34d"
      },
      "execution_count": 13,
      "outputs": [
        {
          "output_type": "execute_result",
          "data": {
            "text/plain": [
              "160.24000549316406"
            ]
          },
          "metadata": {},
          "execution_count": 13
        }
      ]
    },
    {
      "cell_type": "markdown",
      "source": [
        "We start with 1000 or 10000 simulation. We will try to draw the path for 252 trading days. To store the results of the simulation, pandas' dataframe was created."
      ],
      "metadata": {
        "id": "xubzpA6SMs69"
      }
    },
    {
      "cell_type": "code",
      "source": [
        "trials = 10000\n",
        "num_days = 252\n",
        "simulation_df = pd.DataFrame()"
      ],
      "metadata": {
        "id": "q85Nrtnc26MK"
      },
      "execution_count": 14,
      "outputs": []
    },
    {
      "cell_type": "markdown",
      "source": [
        "For Trial = 1, the first entry of the first for loop, we start with our volatility we calculated. Our price_series for the new trial is now blank. We calculate single instance of how a price might evolve. For the second till the desired instance, we calculate, in the second for loop, all the outputs for the first trial. that completes our first trial. \n",
        "The loop goes on till the desired trial is reached, and the simulated_df now consists a matrix of all trials and price paths in each trial.   "
      ],
      "metadata": {
        "id": "gJiUXD2zKDIH"
      }
    },
    {
      "cell_type": "code",
      "source": [
        "for x in range(trials):\n",
        "    count = 0\n",
        "    daily_vol = returns.std()\n",
        "    \n",
        "    price_series = []\n",
        "    \n",
        "    price = last_price * (1 + np.random.normal(0, daily_vol))\n",
        "    price_series.append(price)\n",
        "    \n",
        "    for y in range(num_days):\n",
        "        if count == 251:\n",
        "            break\n",
        "        price = price_series[count] * (1 + np.random.normal(0, daily_vol))\n",
        "        price_series.append(price)\n",
        "        count += 1\n",
        "    \n",
        "    simulation_df[x] = price_series\n",
        "    \n",
        "fig = plt.figure()\n",
        "fig.suptitle('Monte Carlo Simulation: AAPL')\n",
        "plt.plot(simulation_df)\n",
        "plt.axhline(y = last_price, color = 'r', linestyle = '-')\n",
        "plt.xlabel('Day')\n",
        "plt.ylabel('Price')\n",
        "plt.show()\n",
        "# code copied from/ inspired by youtube channel \"codebliss\""
      ],
      "metadata": {
        "colab": {
          "base_uri": "https://localhost:8080/",
          "height": 308
        },
        "id": "WGwGUPUiyn86",
        "outputId": "e62d7264-a07f-47cf-abb3-724545ed1220"
      },
      "execution_count": 15,
      "outputs": [
        {
          "output_type": "display_data",
          "data": {
            "image/png": "[encoded data removed]",
            "text/plain": [
              "<Figure size 432x288 with 1 Axes>"
            ]
          },
          "metadata": {
            "needs_background": "light"
          }
        }
      ]
    },
    {
      "cell_type": "code",
      "source": [
        "simulation_df\n"
      ],
      "metadata": {
        "colab": {
          "base_uri": "https://localhost:8080/",
          "height": 487
        },
        "id": "0tNIjQCd23d6",
        "outputId": "a498caac-f8fd-4af2-a9b7-a2d12b15ea69"
      },
      "execution_count": 16,
      "outputs": [
        {
          "output_type": "execute_result",
          "data": {
            "text/html": [
              "\n",
              "  <div id=\"df-a99e4e86-576b-42e1-918d-c39ea9f689b8\">\n",
              "    <div class=\"colab-df-container\">\n",
              "      <div>\n",
              "<style scoped>\n",
              "    .dataframe tbody tr th:only-of-type {\n",
              "        vertical-align: middle;\n",
              "    }\n",
              "\n",
              "    .dataframe tbody tr th {\n",
              "        vertical-align: top;\n",
              "    }\n",
              "\n",
              "    .dataframe thead th {\n",
              "        text-align: right;\n",
              "    }\n",
              "</style>\n",
              "<table border=\"1\" class=\"dataframe\">\n",
              "  <thead>\n",
              "    <tr style=\"text-align: right;\">\n",
              "      <th></th>\n",
              "      <th>0</th>\n",
              "      <th>1</th>\n",
              "      <th>2</th>\n",
              "      <th>3</th>\n",
              "      <th>4</th>\n",
              "      <th>5</th>\n",
              "      <th>6</th>\n",
              "      <th>7</th>\n",
              "      <th>8</th>\n",
              "      <th>9</th>\n",
              "      <th>10</th>\n",
              "      <th>11</th>\n",
              "      <th>12</th>\n",
              "      <th>13</th>\n",
              "      <th>14</th>\n",
              "      <th>15</th>\n",
              "      <th>16</th>\n",
              "      <th>17</th>\n",
              "      <th>18</th>\n",
              "      <th>19</th>\n",
              "      <th>20</th>\n",
              "      <th>21</th>\n",
              "      <th>22</th>\n",
              "      <th>23</th>\n",
              "      <th>24</th>\n",
              "      <th>25</th>\n",
              "      <th>26</th>\n",
              "      <th>27</th>\n",
              "      <th>28</th>\n",
              "      <th>29</th>\n",
              "      <th>30</th>\n",
              "      <th>31</th>\n",
              "      <th>32</th>\n",
              "      <th>33</th>\n",
              "      <th>34</th>\n",
              "      <th>35</th>\n",
              "      <th>36</th>\n",
              "      <th>37</th>\n",
              "      <th>38</th>\n",
              "      <th>39</th>\n",
              "      <th>...</th>\n",
              "      <th>9960</th>\n",
              "      <th>9961</th>\n",
              "      <th>9962</th>\n",
              "      <th>9963</th>\n",
              "      <th>9964</th>\n",
              "      <th>9965</th>\n",
              "      <th>9966</th>\n",
              "      <th>9967</th>\n",
              "      <th>9968</th>\n",
              "      <th>9969</th>\n",
              "      <th>9970</th>\n",
              "      <th>9971</th>\n",
              "      <th>9972</th>\n",
              "      <th>9973</th>\n",
              "      <th>9974</th>\n",
              "      <th>9975</th>\n",
              "      <th>9976</th>\n",
              "      <th>9977</th>\n",
              "      <th>9978</th>\n",
              "      <th>9979</th>\n",
              "      <th>9980</th>\n",
              "      <th>9981</th>\n",
              "      <th>9982</th>\n",
              "      <th>9983</th>\n",
              "      <th>9984</th>\n",
              "      <th>9985</th>\n",
              "      <th>9986</th>\n",
              "      <th>9987</th>\n",
              "      <th>9988</th>\n",
              "      <th>9989</th>\n",
              "      <th>9990</th>\n",
              "      <th>9991</th>\n",
              "      <th>9992</th>\n",
              "      <th>9993</th>\n",
              "      <th>9994</th>\n",
              "      <th>9995</th>\n",
              "      <th>9996</th>\n",
              "      <th>9997</th>\n",
              "      <th>9998</th>\n",
              "      <th>9999</th>\n",
              "    </tr>\n",
              "  </thead>\n",
              "  <tbody>\n",
              "    <tr>\n",
              "      <th>0</th>\n",
              "      <td>159.145609</td>\n",
              "      <td>162.321151</td>\n",
              "      <td>162.529838</td>\n",
              "      <td>159.502449</td>\n",
              "      <td>154.351292</td>\n",
              "      <td>155.883351</td>\n",
              "      <td>157.777710</td>\n",
              "      <td>160.931156</td>\n",
              "      <td>155.011435</td>\n",
              "      <td>156.556476</td>\n",
              "      <td>154.659805</td>\n",
              "      <td>163.254772</td>\n",
              "      <td>155.654224</td>\n",
              "      <td>153.512903</td>\n",
              "      <td>155.055825</td>\n",
              "      <td>162.524612</td>\n",
              "      <td>167.186859</td>\n",
              "      <td>163.233038</td>\n",
              "      <td>157.241941</td>\n",
              "      <td>163.259003</td>\n",
              "      <td>164.518519</td>\n",
              "      <td>160.576276</td>\n",
              "      <td>167.952639</td>\n",
              "      <td>158.663693</td>\n",
              "      <td>163.593402</td>\n",
              "      <td>157.837690</td>\n",
              "      <td>166.092201</td>\n",
              "      <td>161.617211</td>\n",
              "      <td>166.498960</td>\n",
              "      <td>152.969097</td>\n",
              "      <td>160.626406</td>\n",
              "      <td>160.283140</td>\n",
              "      <td>157.026831</td>\n",
              "      <td>157.040946</td>\n",
              "      <td>153.603004</td>\n",
              "      <td>163.158131</td>\n",
              "      <td>156.515072</td>\n",
              "      <td>162.537369</td>\n",
              "      <td>167.697720</td>\n",
              "      <td>154.650121</td>\n",
              "      <td>...</td>\n",
              "      <td>162.670876</td>\n",
              "      <td>161.088038</td>\n",
              "      <td>162.764416</td>\n",
              "      <td>161.033266</td>\n",
              "      <td>155.934549</td>\n",
              "      <td>166.282998</td>\n",
              "      <td>162.539630</td>\n",
              "      <td>151.721581</td>\n",
              "      <td>153.216763</td>\n",
              "      <td>159.633843</td>\n",
              "      <td>164.261879</td>\n",
              "      <td>164.276814</td>\n",
              "      <td>156.141992</td>\n",
              "      <td>159.096135</td>\n",
              "      <td>162.212404</td>\n",
              "      <td>160.935935</td>\n",
              "      <td>156.718565</td>\n",
              "      <td>166.117466</td>\n",
              "      <td>165.796166</td>\n",
              "      <td>158.309096</td>\n",
              "      <td>163.278608</td>\n",
              "      <td>159.768899</td>\n",
              "      <td>157.167781</td>\n",
              "      <td>156.626472</td>\n",
              "      <td>156.659521</td>\n",
              "      <td>170.649114</td>\n",
              "      <td>164.158903</td>\n",
              "      <td>162.195080</td>\n",
              "      <td>156.795193</td>\n",
              "      <td>163.430056</td>\n",
              "      <td>160.436349</td>\n",
              "      <td>160.564610</td>\n",
              "      <td>159.726793</td>\n",
              "      <td>161.488829</td>\n",
              "      <td>161.787528</td>\n",
              "      <td>156.662826</td>\n",
              "      <td>155.365724</td>\n",
              "      <td>158.974002</td>\n",
              "      <td>160.616198</td>\n",
              "      <td>165.806171</td>\n",
              "    </tr>\n",
              "    <tr>\n",
              "      <th>1</th>\n",
              "      <td>155.707397</td>\n",
              "      <td>154.037509</td>\n",
              "      <td>166.642659</td>\n",
              "      <td>158.352652</td>\n",
              "      <td>154.185854</td>\n",
              "      <td>158.899329</td>\n",
              "      <td>149.201806</td>\n",
              "      <td>158.949023</td>\n",
              "      <td>157.108392</td>\n",
              "      <td>160.041059</td>\n",
              "      <td>153.652039</td>\n",
              "      <td>163.367979</td>\n",
              "      <td>152.697332</td>\n",
              "      <td>152.400841</td>\n",
              "      <td>151.912856</td>\n",
              "      <td>164.850367</td>\n",
              "      <td>165.925566</td>\n",
              "      <td>160.559850</td>\n",
              "      <td>156.094395</td>\n",
              "      <td>171.180364</td>\n",
              "      <td>168.629477</td>\n",
              "      <td>163.056812</td>\n",
              "      <td>174.050270</td>\n",
              "      <td>155.675315</td>\n",
              "      <td>164.716037</td>\n",
              "      <td>158.622729</td>\n",
              "      <td>167.841342</td>\n",
              "      <td>158.559944</td>\n",
              "      <td>166.034209</td>\n",
              "      <td>148.048275</td>\n",
              "      <td>160.329290</td>\n",
              "      <td>157.867910</td>\n",
              "      <td>156.103695</td>\n",
              "      <td>157.812412</td>\n",
              "      <td>154.888844</td>\n",
              "      <td>164.276275</td>\n",
              "      <td>159.762938</td>\n",
              "      <td>163.042642</td>\n",
              "      <td>162.699579</td>\n",
              "      <td>150.013671</td>\n",
              "      <td>...</td>\n",
              "      <td>158.240250</td>\n",
              "      <td>161.257826</td>\n",
              "      <td>164.154217</td>\n",
              "      <td>167.590055</td>\n",
              "      <td>153.158315</td>\n",
              "      <td>171.418432</td>\n",
              "      <td>166.775337</td>\n",
              "      <td>146.682578</td>\n",
              "      <td>148.268452</td>\n",
              "      <td>158.785625</td>\n",
              "      <td>162.029014</td>\n",
              "      <td>161.037612</td>\n",
              "      <td>154.860101</td>\n",
              "      <td>157.419653</td>\n",
              "      <td>159.140544</td>\n",
              "      <td>163.473004</td>\n",
              "      <td>159.764830</td>\n",
              "      <td>163.333019</td>\n",
              "      <td>165.393256</td>\n",
              "      <td>165.142135</td>\n",
              "      <td>165.556117</td>\n",
              "      <td>161.536812</td>\n",
              "      <td>161.213669</td>\n",
              "      <td>153.742385</td>\n",
              "      <td>157.755642</td>\n",
              "      <td>168.822449</td>\n",
              "      <td>161.448738</td>\n",
              "      <td>166.912982</td>\n",
              "      <td>157.125749</td>\n",
              "      <td>167.166057</td>\n",
              "      <td>155.307856</td>\n",
              "      <td>158.722205</td>\n",
              "      <td>153.605683</td>\n",
              "      <td>169.373310</td>\n",
              "      <td>161.986014</td>\n",
              "      <td>149.630388</td>\n",
              "      <td>158.688856</td>\n",
              "      <td>154.549549</td>\n",
              "      <td>163.452950</td>\n",
              "      <td>166.205330</td>\n",
              "    </tr>\n",
              "    <tr>\n",
              "      <th>2</th>\n",
              "      <td>148.078814</td>\n",
              "      <td>151.835365</td>\n",
              "      <td>166.377389</td>\n",
              "      <td>157.981148</td>\n",
              "      <td>155.685767</td>\n",
              "      <td>159.908294</td>\n",
              "      <td>145.889923</td>\n",
              "      <td>161.356427</td>\n",
              "      <td>157.673152</td>\n",
              "      <td>158.125430</td>\n",
              "      <td>153.442937</td>\n",
              "      <td>162.617055</td>\n",
              "      <td>151.405459</td>\n",
              "      <td>154.850263</td>\n",
              "      <td>149.472996</td>\n",
              "      <td>158.739689</td>\n",
              "      <td>164.883591</td>\n",
              "      <td>159.050397</td>\n",
              "      <td>157.146534</td>\n",
              "      <td>172.269142</td>\n",
              "      <td>167.362973</td>\n",
              "      <td>164.200346</td>\n",
              "      <td>182.019944</td>\n",
              "      <td>151.883355</td>\n",
              "      <td>166.948326</td>\n",
              "      <td>161.569651</td>\n",
              "      <td>163.238146</td>\n",
              "      <td>163.349563</td>\n",
              "      <td>169.749261</td>\n",
              "      <td>140.088019</td>\n",
              "      <td>155.985429</td>\n",
              "      <td>163.822276</td>\n",
              "      <td>152.339634</td>\n",
              "      <td>164.291467</td>\n",
              "      <td>149.908413</td>\n",
              "      <td>156.558612</td>\n",
              "      <td>163.990981</td>\n",
              "      <td>168.703492</td>\n",
              "      <td>164.133475</td>\n",
              "      <td>148.900246</td>\n",
              "      <td>...</td>\n",
              "      <td>153.074964</td>\n",
              "      <td>163.308925</td>\n",
              "      <td>169.430079</td>\n",
              "      <td>169.329349</td>\n",
              "      <td>147.623355</td>\n",
              "      <td>169.643954</td>\n",
              "      <td>171.396963</td>\n",
              "      <td>155.207005</td>\n",
              "      <td>147.346527</td>\n",
              "      <td>158.460020</td>\n",
              "      <td>159.636273</td>\n",
              "      <td>160.777717</td>\n",
              "      <td>149.973295</td>\n",
              "      <td>162.078958</td>\n",
              "      <td>157.562896</td>\n",
              "      <td>164.287920</td>\n",
              "      <td>157.768517</td>\n",
              "      <td>156.460932</td>\n",
              "      <td>162.743706</td>\n",
              "      <td>166.492952</td>\n",
              "      <td>165.430464</td>\n",
              "      <td>158.825278</td>\n",
              "      <td>164.408187</td>\n",
              "      <td>162.248975</td>\n",
              "      <td>155.533412</td>\n",
              "      <td>170.181940</td>\n",
              "      <td>156.831143</td>\n",
              "      <td>166.711475</td>\n",
              "      <td>151.979228</td>\n",
              "      <td>164.972734</td>\n",
              "      <td>156.484351</td>\n",
              "      <td>162.378663</td>\n",
              "      <td>156.462757</td>\n",
              "      <td>176.565957</td>\n",
              "      <td>157.658559</td>\n",
              "      <td>153.924858</td>\n",
              "      <td>153.953393</td>\n",
              "      <td>152.099871</td>\n",
              "      <td>159.449764</td>\n",
              "      <td>162.012046</td>\n",
              "    </tr>\n",
              "    <tr>\n",
              "      <th>3</th>\n",
              "      <td>152.755409</td>\n",
              "      <td>148.422504</td>\n",
              "      <td>167.252682</td>\n",
              "      <td>158.944956</td>\n",
              "      <td>156.638389</td>\n",
              "      <td>158.508845</td>\n",
              "      <td>145.410434</td>\n",
              "      <td>164.536402</td>\n",
              "      <td>165.056198</td>\n",
              "      <td>152.925279</td>\n",
              "      <td>160.315484</td>\n",
              "      <td>162.558266</td>\n",
              "      <td>157.148616</td>\n",
              "      <td>151.782489</td>\n",
              "      <td>152.446454</td>\n",
              "      <td>162.755700</td>\n",
              "      <td>169.040007</td>\n",
              "      <td>160.953723</td>\n",
              "      <td>154.840491</td>\n",
              "      <td>173.595744</td>\n",
              "      <td>173.615108</td>\n",
              "      <td>164.432313</td>\n",
              "      <td>178.252003</td>\n",
              "      <td>150.307902</td>\n",
              "      <td>167.459424</td>\n",
              "      <td>165.360911</td>\n",
              "      <td>165.351978</td>\n",
              "      <td>163.251450</td>\n",
              "      <td>169.608949</td>\n",
              "      <td>143.195362</td>\n",
              "      <td>151.316308</td>\n",
              "      <td>175.985242</td>\n",
              "      <td>154.504025</td>\n",
              "      <td>165.915707</td>\n",
              "      <td>156.224575</td>\n",
              "      <td>156.212191</td>\n",
              "      <td>164.724523</td>\n",
              "      <td>170.912557</td>\n",
              "      <td>161.913784</td>\n",
              "      <td>149.445318</td>\n",
              "      <td>...</td>\n",
              "      <td>153.162752</td>\n",
              "      <td>157.176256</td>\n",
              "      <td>170.627696</td>\n",
              "      <td>171.709182</td>\n",
              "      <td>145.520725</td>\n",
              "      <td>169.617842</td>\n",
              "      <td>166.458874</td>\n",
              "      <td>151.677271</td>\n",
              "      <td>151.464002</td>\n",
              "      <td>160.497039</td>\n",
              "      <td>165.921947</td>\n",
              "      <td>162.810150</td>\n",
              "      <td>150.150407</td>\n",
              "      <td>156.742951</td>\n",
              "      <td>154.316464</td>\n",
              "      <td>165.330948</td>\n",
              "      <td>156.827586</td>\n",
              "      <td>158.790192</td>\n",
              "      <td>161.742378</td>\n",
              "      <td>166.352041</td>\n",
              "      <td>163.697041</td>\n",
              "      <td>153.102845</td>\n",
              "      <td>166.580323</td>\n",
              "      <td>162.415132</td>\n",
              "      <td>154.397616</td>\n",
              "      <td>165.977889</td>\n",
              "      <td>148.644886</td>\n",
              "      <td>167.015844</td>\n",
              "      <td>153.155014</td>\n",
              "      <td>164.729360</td>\n",
              "      <td>157.167324</td>\n",
              "      <td>155.359782</td>\n",
              "      <td>148.792977</td>\n",
              "      <td>173.709471</td>\n",
              "      <td>158.962889</td>\n",
              "      <td>156.591192</td>\n",
              "      <td>156.730796</td>\n",
              "      <td>154.534330</td>\n",
              "      <td>163.624397</td>\n",
              "      <td>157.681170</td>\n",
              "    </tr>\n",
              "    <tr>\n",
              "      <th>4</th>\n",
              "      <td>149.227987</td>\n",
              "      <td>142.831105</td>\n",
              "      <td>175.429768</td>\n",
              "      <td>157.626505</td>\n",
              "      <td>148.600538</td>\n",
              "      <td>155.669320</td>\n",
              "      <td>143.822034</td>\n",
              "      <td>164.369312</td>\n",
              "      <td>169.175135</td>\n",
              "      <td>156.302133</td>\n",
              "      <td>164.564496</td>\n",
              "      <td>159.832569</td>\n",
              "      <td>151.331289</td>\n",
              "      <td>149.121239</td>\n",
              "      <td>148.619808</td>\n",
              "      <td>168.588026</td>\n",
              "      <td>172.966037</td>\n",
              "      <td>161.231953</td>\n",
              "      <td>153.728247</td>\n",
              "      <td>175.543450</td>\n",
              "      <td>175.719515</td>\n",
              "      <td>158.973850</td>\n",
              "      <td>181.013949</td>\n",
              "      <td>148.570438</td>\n",
              "      <td>167.822144</td>\n",
              "      <td>168.010728</td>\n",
              "      <td>166.308512</td>\n",
              "      <td>159.669085</td>\n",
              "      <td>169.204182</td>\n",
              "      <td>145.613095</td>\n",
              "      <td>152.712830</td>\n",
              "      <td>172.066780</td>\n",
              "      <td>154.614244</td>\n",
              "      <td>169.664481</td>\n",
              "      <td>156.651177</td>\n",
              "      <td>150.574039</td>\n",
              "      <td>168.364053</td>\n",
              "      <td>161.255077</td>\n",
              "      <td>164.627452</td>\n",
              "      <td>153.490055</td>\n",
              "      <td>...</td>\n",
              "      <td>154.310369</td>\n",
              "      <td>154.490322</td>\n",
              "      <td>170.317263</td>\n",
              "      <td>177.232667</td>\n",
              "      <td>146.742434</td>\n",
              "      <td>166.384822</td>\n",
              "      <td>164.907232</td>\n",
              "      <td>147.777482</td>\n",
              "      <td>151.427494</td>\n",
              "      <td>162.251915</td>\n",
              "      <td>164.763890</td>\n",
              "      <td>164.655279</td>\n",
              "      <td>151.497105</td>\n",
              "      <td>160.365232</td>\n",
              "      <td>154.614301</td>\n",
              "      <td>162.494201</td>\n",
              "      <td>155.028209</td>\n",
              "      <td>156.295525</td>\n",
              "      <td>161.216556</td>\n",
              "      <td>162.434499</td>\n",
              "      <td>157.975034</td>\n",
              "      <td>155.518735</td>\n",
              "      <td>165.866983</td>\n",
              "      <td>162.408610</td>\n",
              "      <td>152.652218</td>\n",
              "      <td>162.405972</td>\n",
              "      <td>152.281022</td>\n",
              "      <td>171.064411</td>\n",
              "      <td>151.183719</td>\n",
              "      <td>161.410685</td>\n",
              "      <td>164.129307</td>\n",
              "      <td>156.146880</td>\n",
              "      <td>149.845276</td>\n",
              "      <td>175.498855</td>\n",
              "      <td>155.471986</td>\n",
              "      <td>159.332312</td>\n",
              "      <td>158.109990</td>\n",
              "      <td>155.083199</td>\n",
              "      <td>162.410568</td>\n",
              "      <td>160.113376</td>\n",
              "    </tr>\n",
              "    <tr>\n",
              "      <th>...</th>\n",
              "      <td>...</td>\n",
              "      <td>...</td>\n",
              "      <td>...</td>\n",
              "      <td>...</td>\n",
              "      <td>...</td>\n",
              "      <td>...</td>\n",
              "      <td>...</td>\n",
              "      <td>...</td>\n",
              "      <td>...</td>\n",
              "      <td>...</td>\n",
              "      <td>...</td>\n",
              "      <td>...</td>\n",
              "      <td>...</td>\n",
              "      <td>...</td>\n",
              "      <td>...</td>\n",
              "      <td>...</td>\n",
              "      <td>...</td>\n",
              "      <td>...</td>\n",
              "      <td>...</td>\n",
              "      <td>...</td>\n",
              "      <td>...</td>\n",
              "      <td>...</td>\n",
              "      <td>...</td>\n",
              "      <td>...</td>\n",
              "      <td>...</td>\n",
              "      <td>...</td>\n",
              "      <td>...</td>\n",
              "      <td>...</td>\n",
              "      <td>...</td>\n",
              "      <td>...</td>\n",
              "      <td>...</td>\n",
              "      <td>...</td>\n",
              "      <td>...</td>\n",
              "      <td>...</td>\n",
              "      <td>...</td>\n",
              "      <td>...</td>\n",
              "      <td>...</td>\n",
              "      <td>...</td>\n",
              "      <td>...</td>\n",
              "      <td>...</td>\n",
              "      <td>...</td>\n",
              "      <td>...</td>\n",
              "      <td>...</td>\n",
              "      <td>...</td>\n",
              "      <td>...</td>\n",
              "      <td>...</td>\n",
              "      <td>...</td>\n",
              "      <td>...</td>\n",
              "      <td>...</td>\n",
              "      <td>...</td>\n",
              "      <td>...</td>\n",
              "      <td>...</td>\n",
              "      <td>...</td>\n",
              "      <td>...</td>\n",
              "      <td>...</td>\n",
              "      <td>...</td>\n",
              "      <td>...</td>\n",
              "      <td>...</td>\n",
              "      <td>...</td>\n",
              "      <td>...</td>\n",
              "      <td>...</td>\n",
              "      <td>...</td>\n",
              "      <td>...</td>\n",
              "      <td>...</td>\n",
              "      <td>...</td>\n",
              "      <td>...</td>\n",
              "      <td>...</td>\n",
              "      <td>...</td>\n",
              "      <td>...</td>\n",
              "      <td>...</td>\n",
              "      <td>...</td>\n",
              "      <td>...</td>\n",
              "      <td>...</td>\n",
              "      <td>...</td>\n",
              "      <td>...</td>\n",
              "      <td>...</td>\n",
              "      <td>...</td>\n",
              "      <td>...</td>\n",
              "      <td>...</td>\n",
              "      <td>...</td>\n",
              "      <td>...</td>\n",
              "    </tr>\n",
              "    <tr>\n",
              "      <th>247</th>\n",
              "      <td>72.511589</td>\n",
              "      <td>204.271902</td>\n",
              "      <td>110.530835</td>\n",
              "      <td>130.641690</td>\n",
              "      <td>91.614892</td>\n",
              "      <td>95.186399</td>\n",
              "      <td>115.921012</td>\n",
              "      <td>222.161426</td>\n",
              "      <td>180.234396</td>\n",
              "      <td>137.912358</td>\n",
              "      <td>208.556169</td>\n",
              "      <td>187.409157</td>\n",
              "      <td>66.458526</td>\n",
              "      <td>175.360805</td>\n",
              "      <td>92.692493</td>\n",
              "      <td>126.953957</td>\n",
              "      <td>163.900989</td>\n",
              "      <td>69.910368</td>\n",
              "      <td>105.173046</td>\n",
              "      <td>222.815363</td>\n",
              "      <td>136.572957</td>\n",
              "      <td>142.456287</td>\n",
              "      <td>285.533036</td>\n",
              "      <td>154.975919</td>\n",
              "      <td>262.855530</td>\n",
              "      <td>123.276292</td>\n",
              "      <td>163.330543</td>\n",
              "      <td>83.712295</td>\n",
              "      <td>71.021099</td>\n",
              "      <td>117.236018</td>\n",
              "      <td>355.378913</td>\n",
              "      <td>176.986721</td>\n",
              "      <td>127.516205</td>\n",
              "      <td>225.008930</td>\n",
              "      <td>191.665469</td>\n",
              "      <td>263.294461</td>\n",
              "      <td>197.953967</td>\n",
              "      <td>71.173927</td>\n",
              "      <td>249.730161</td>\n",
              "      <td>128.569921</td>\n",
              "      <td>...</td>\n",
              "      <td>197.842465</td>\n",
              "      <td>132.876878</td>\n",
              "      <td>118.254188</td>\n",
              "      <td>107.782914</td>\n",
              "      <td>120.149680</td>\n",
              "      <td>189.345295</td>\n",
              "      <td>83.421832</td>\n",
              "      <td>230.304000</td>\n",
              "      <td>117.428415</td>\n",
              "      <td>138.512645</td>\n",
              "      <td>163.886218</td>\n",
              "      <td>110.916124</td>\n",
              "      <td>133.925410</td>\n",
              "      <td>171.703680</td>\n",
              "      <td>113.993023</td>\n",
              "      <td>105.056573</td>\n",
              "      <td>200.690915</td>\n",
              "      <td>143.805718</td>\n",
              "      <td>163.031687</td>\n",
              "      <td>218.658464</td>\n",
              "      <td>115.055672</td>\n",
              "      <td>108.442203</td>\n",
              "      <td>283.003874</td>\n",
              "      <td>158.621395</td>\n",
              "      <td>229.939973</td>\n",
              "      <td>137.690893</td>\n",
              "      <td>180.978261</td>\n",
              "      <td>113.785729</td>\n",
              "      <td>144.152952</td>\n",
              "      <td>187.819939</td>\n",
              "      <td>176.888130</td>\n",
              "      <td>161.793110</td>\n",
              "      <td>155.894417</td>\n",
              "      <td>81.054140</td>\n",
              "      <td>111.092514</td>\n",
              "      <td>165.679109</td>\n",
              "      <td>201.748002</td>\n",
              "      <td>108.241461</td>\n",
              "      <td>238.284945</td>\n",
              "      <td>284.703996</td>\n",
              "    </tr>\n",
              "    <tr>\n",
              "      <th>248</th>\n",
              "      <td>71.952776</td>\n",
              "      <td>213.501502</td>\n",
              "      <td>111.103505</td>\n",
              "      <td>130.163212</td>\n",
              "      <td>91.901550</td>\n",
              "      <td>95.167607</td>\n",
              "      <td>114.007101</td>\n",
              "      <td>228.784002</td>\n",
              "      <td>171.424527</td>\n",
              "      <td>138.486977</td>\n",
              "      <td>201.474063</td>\n",
              "      <td>192.578837</td>\n",
              "      <td>66.093295</td>\n",
              "      <td>180.284887</td>\n",
              "      <td>94.207519</td>\n",
              "      <td>130.495671</td>\n",
              "      <td>163.497688</td>\n",
              "      <td>66.339322</td>\n",
              "      <td>103.357663</td>\n",
              "      <td>226.430970</td>\n",
              "      <td>130.984326</td>\n",
              "      <td>147.782317</td>\n",
              "      <td>294.211590</td>\n",
              "      <td>156.858609</td>\n",
              "      <td>266.135450</td>\n",
              "      <td>124.479260</td>\n",
              "      <td>159.213319</td>\n",
              "      <td>82.267860</td>\n",
              "      <td>74.040426</td>\n",
              "      <td>115.782724</td>\n",
              "      <td>376.003230</td>\n",
              "      <td>180.647064</td>\n",
              "      <td>124.253099</td>\n",
              "      <td>230.135773</td>\n",
              "      <td>187.333313</td>\n",
              "      <td>260.352947</td>\n",
              "      <td>204.746175</td>\n",
              "      <td>70.805100</td>\n",
              "      <td>253.541895</td>\n",
              "      <td>125.816871</td>\n",
              "      <td>...</td>\n",
              "      <td>190.687594</td>\n",
              "      <td>132.459929</td>\n",
              "      <td>114.202089</td>\n",
              "      <td>106.133671</td>\n",
              "      <td>115.047835</td>\n",
              "      <td>194.115332</td>\n",
              "      <td>81.777938</td>\n",
              "      <td>233.201360</td>\n",
              "      <td>113.562788</td>\n",
              "      <td>138.885356</td>\n",
              "      <td>158.162149</td>\n",
              "      <td>110.549013</td>\n",
              "      <td>131.295857</td>\n",
              "      <td>174.233658</td>\n",
              "      <td>107.522627</td>\n",
              "      <td>101.964306</td>\n",
              "      <td>196.871111</td>\n",
              "      <td>140.553837</td>\n",
              "      <td>163.339475</td>\n",
              "      <td>215.748339</td>\n",
              "      <td>117.120555</td>\n",
              "      <td>111.296485</td>\n",
              "      <td>283.265899</td>\n",
              "      <td>157.146145</td>\n",
              "      <td>230.146762</td>\n",
              "      <td>138.725758</td>\n",
              "      <td>179.929481</td>\n",
              "      <td>112.900478</td>\n",
              "      <td>147.122928</td>\n",
              "      <td>178.689763</td>\n",
              "      <td>174.058248</td>\n",
              "      <td>160.906563</td>\n",
              "      <td>150.701007</td>\n",
              "      <td>80.743802</td>\n",
              "      <td>114.162279</td>\n",
              "      <td>159.900657</td>\n",
              "      <td>203.581976</td>\n",
              "      <td>108.529737</td>\n",
              "      <td>228.753289</td>\n",
              "      <td>287.682236</td>\n",
              "    </tr>\n",
              "    <tr>\n",
              "      <th>249</th>\n",
              "      <td>68.835383</td>\n",
              "      <td>213.599239</td>\n",
              "      <td>111.313874</td>\n",
              "      <td>136.949183</td>\n",
              "      <td>92.564622</td>\n",
              "      <td>94.088315</td>\n",
              "      <td>114.986446</td>\n",
              "      <td>224.243708</td>\n",
              "      <td>167.485004</td>\n",
              "      <td>140.649037</td>\n",
              "      <td>198.786668</td>\n",
              "      <td>186.772857</td>\n",
              "      <td>66.763093</td>\n",
              "      <td>175.716325</td>\n",
              "      <td>91.850830</td>\n",
              "      <td>127.762101</td>\n",
              "      <td>168.924736</td>\n",
              "      <td>64.517806</td>\n",
              "      <td>103.114265</td>\n",
              "      <td>225.911549</td>\n",
              "      <td>128.132157</td>\n",
              "      <td>154.365628</td>\n",
              "      <td>290.802027</td>\n",
              "      <td>155.082942</td>\n",
              "      <td>259.594712</td>\n",
              "      <td>127.014679</td>\n",
              "      <td>156.067784</td>\n",
              "      <td>83.044745</td>\n",
              "      <td>74.330421</td>\n",
              "      <td>114.559857</td>\n",
              "      <td>376.188877</td>\n",
              "      <td>180.458469</td>\n",
              "      <td>123.808519</td>\n",
              "      <td>230.539146</td>\n",
              "      <td>189.200880</td>\n",
              "      <td>261.073211</td>\n",
              "      <td>205.129466</td>\n",
              "      <td>67.883152</td>\n",
              "      <td>250.482308</td>\n",
              "      <td>122.733284</td>\n",
              "      <td>...</td>\n",
              "      <td>194.224578</td>\n",
              "      <td>132.058787</td>\n",
              "      <td>112.838145</td>\n",
              "      <td>100.145634</td>\n",
              "      <td>115.709709</td>\n",
              "      <td>183.586720</td>\n",
              "      <td>81.731600</td>\n",
              "      <td>226.889042</td>\n",
              "      <td>112.624051</td>\n",
              "      <td>142.108214</td>\n",
              "      <td>158.085137</td>\n",
              "      <td>108.384360</td>\n",
              "      <td>142.921972</td>\n",
              "      <td>173.619503</td>\n",
              "      <td>108.188044</td>\n",
              "      <td>101.715670</td>\n",
              "      <td>198.985847</td>\n",
              "      <td>139.037777</td>\n",
              "      <td>159.012270</td>\n",
              "      <td>208.743423</td>\n",
              "      <td>116.329913</td>\n",
              "      <td>115.459731</td>\n",
              "      <td>286.171263</td>\n",
              "      <td>153.858359</td>\n",
              "      <td>222.504781</td>\n",
              "      <td>140.304155</td>\n",
              "      <td>178.992293</td>\n",
              "      <td>116.238032</td>\n",
              "      <td>146.190079</td>\n",
              "      <td>173.118375</td>\n",
              "      <td>174.680468</td>\n",
              "      <td>161.689637</td>\n",
              "      <td>150.569722</td>\n",
              "      <td>82.181255</td>\n",
              "      <td>115.850572</td>\n",
              "      <td>162.359749</td>\n",
              "      <td>203.509886</td>\n",
              "      <td>103.902308</td>\n",
              "      <td>230.235728</td>\n",
              "      <td>289.101926</td>\n",
              "    </tr>\n",
              "    <tr>\n",
              "      <th>250</th>\n",
              "      <td>69.895545</td>\n",
              "      <td>212.951578</td>\n",
              "      <td>111.412123</td>\n",
              "      <td>138.520684</td>\n",
              "      <td>92.399740</td>\n",
              "      <td>98.229033</td>\n",
              "      <td>114.304462</td>\n",
              "      <td>226.590371</td>\n",
              "      <td>167.939282</td>\n",
              "      <td>137.064109</td>\n",
              "      <td>203.694836</td>\n",
              "      <td>187.368860</td>\n",
              "      <td>65.501003</td>\n",
              "      <td>180.083633</td>\n",
              "      <td>90.775587</td>\n",
              "      <td>123.280075</td>\n",
              "      <td>171.440906</td>\n",
              "      <td>65.086766</td>\n",
              "      <td>103.234927</td>\n",
              "      <td>230.461511</td>\n",
              "      <td>127.713210</td>\n",
              "      <td>154.183810</td>\n",
              "      <td>292.528159</td>\n",
              "      <td>156.374007</td>\n",
              "      <td>256.205014</td>\n",
              "      <td>125.232454</td>\n",
              "      <td>153.712769</td>\n",
              "      <td>84.723185</td>\n",
              "      <td>72.717750</td>\n",
              "      <td>113.214587</td>\n",
              "      <td>375.594090</td>\n",
              "      <td>177.022790</td>\n",
              "      <td>123.525444</td>\n",
              "      <td>232.259107</td>\n",
              "      <td>188.438999</td>\n",
              "      <td>267.126294</td>\n",
              "      <td>198.629794</td>\n",
              "      <td>67.228115</td>\n",
              "      <td>252.816291</td>\n",
              "      <td>122.769904</td>\n",
              "      <td>...</td>\n",
              "      <td>198.377718</td>\n",
              "      <td>132.273584</td>\n",
              "      <td>110.769813</td>\n",
              "      <td>101.675656</td>\n",
              "      <td>115.728644</td>\n",
              "      <td>178.297727</td>\n",
              "      <td>84.713429</td>\n",
              "      <td>225.085329</td>\n",
              "      <td>113.387568</td>\n",
              "      <td>144.601452</td>\n",
              "      <td>159.436335</td>\n",
              "      <td>108.663793</td>\n",
              "      <td>140.994762</td>\n",
              "      <td>167.420601</td>\n",
              "      <td>103.643971</td>\n",
              "      <td>100.105072</td>\n",
              "      <td>201.930338</td>\n",
              "      <td>142.154825</td>\n",
              "      <td>163.716351</td>\n",
              "      <td>210.549615</td>\n",
              "      <td>113.694602</td>\n",
              "      <td>114.092005</td>\n",
              "      <td>299.812293</td>\n",
              "      <td>151.889760</td>\n",
              "      <td>221.166883</td>\n",
              "      <td>140.627417</td>\n",
              "      <td>180.139258</td>\n",
              "      <td>114.286047</td>\n",
              "      <td>143.691988</td>\n",
              "      <td>172.080042</td>\n",
              "      <td>167.324811</td>\n",
              "      <td>162.332682</td>\n",
              "      <td>150.553799</td>\n",
              "      <td>87.357459</td>\n",
              "      <td>121.536302</td>\n",
              "      <td>154.579632</td>\n",
              "      <td>201.684844</td>\n",
              "      <td>100.121003</td>\n",
              "      <td>226.690554</td>\n",
              "      <td>296.497203</td>\n",
              "    </tr>\n",
              "    <tr>\n",
              "      <th>251</th>\n",
              "      <td>69.946771</td>\n",
              "      <td>210.559098</td>\n",
              "      <td>114.240556</td>\n",
              "      <td>137.757821</td>\n",
              "      <td>91.524211</td>\n",
              "      <td>96.634558</td>\n",
              "      <td>119.204382</td>\n",
              "      <td>225.487680</td>\n",
              "      <td>163.249857</td>\n",
              "      <td>134.624233</td>\n",
              "      <td>206.554856</td>\n",
              "      <td>192.613573</td>\n",
              "      <td>69.282850</td>\n",
              "      <td>182.542464</td>\n",
              "      <td>89.064303</td>\n",
              "      <td>119.897309</td>\n",
              "      <td>169.345512</td>\n",
              "      <td>65.441157</td>\n",
              "      <td>106.109831</td>\n",
              "      <td>230.046469</td>\n",
              "      <td>130.664881</td>\n",
              "      <td>148.442751</td>\n",
              "      <td>288.584139</td>\n",
              "      <td>150.035897</td>\n",
              "      <td>258.492418</td>\n",
              "      <td>126.040729</td>\n",
              "      <td>148.835914</td>\n",
              "      <td>85.621370</td>\n",
              "      <td>69.190872</td>\n",
              "      <td>109.025889</td>\n",
              "      <td>368.022192</td>\n",
              "      <td>176.702120</td>\n",
              "      <td>123.697726</td>\n",
              "      <td>225.007805</td>\n",
              "      <td>189.436254</td>\n",
              "      <td>261.691715</td>\n",
              "      <td>199.147291</td>\n",
              "      <td>66.382822</td>\n",
              "      <td>257.584944</td>\n",
              "      <td>120.340671</td>\n",
              "      <td>...</td>\n",
              "      <td>193.862141</td>\n",
              "      <td>126.836696</td>\n",
              "      <td>114.468588</td>\n",
              "      <td>100.998222</td>\n",
              "      <td>116.640884</td>\n",
              "      <td>170.445059</td>\n",
              "      <td>86.715630</td>\n",
              "      <td>218.599819</td>\n",
              "      <td>111.149599</td>\n",
              "      <td>141.166455</td>\n",
              "      <td>164.108199</td>\n",
              "      <td>109.302882</td>\n",
              "      <td>143.456989</td>\n",
              "      <td>165.431375</td>\n",
              "      <td>102.229949</td>\n",
              "      <td>96.442893</td>\n",
              "      <td>210.733499</td>\n",
              "      <td>140.829921</td>\n",
              "      <td>162.892520</td>\n",
              "      <td>207.925006</td>\n",
              "      <td>112.838514</td>\n",
              "      <td>117.408884</td>\n",
              "      <td>304.574060</td>\n",
              "      <td>150.921626</td>\n",
              "      <td>223.506748</td>\n",
              "      <td>135.554359</td>\n",
              "      <td>182.643808</td>\n",
              "      <td>111.250076</td>\n",
              "      <td>142.194912</td>\n",
              "      <td>173.936717</td>\n",
              "      <td>176.345273</td>\n",
              "      <td>165.570811</td>\n",
              "      <td>143.668149</td>\n",
              "      <td>87.702122</td>\n",
              "      <td>123.570680</td>\n",
              "      <td>159.908612</td>\n",
              "      <td>196.023116</td>\n",
              "      <td>103.073741</td>\n",
              "      <td>223.133118</td>\n",
              "      <td>291.197989</td>\n",
              "    </tr>\n",
              "  </tbody>\n",
              "</table>\n",
              "<p>252 rows × 10000 columns</p>\n",
              "</div>\n",
              "      <button class=\"colab-df-convert\" onclick=\"convertToInteractive('df-a99e4e86-576b-42e1-918d-c39ea9f689b8')\"\n",
              "              title=\"Convert this dataframe to an interactive table.\"\n",
              "              style=\"display:none;\">\n",
              "        \n",
              "  <svg xmlns=\"http://www.w3.org/2000/svg\" height=\"24px\"viewBox=\"0 0 24 24\"\n",
              "       width=\"24px\">\n",
              "    <path d=\"M0 0h24v24H0V0z\" fill=\"none\"/>\n",
              "    <path d=\"M18.56 5.44l.94 2.06.94-2.06 2.06-.94-2.06-.94-.94-2.06-.94 2.06-2.06.94zm-11 1L8.5 8.5l.94-2.06 2.06-.94-2.06-.94L8.5 2.5l-.94 2.06-2.06.94zm10 10l.94 2.06.94-2.06 2.06-.94-2.06-.94-.94-2.06-.94 2.06-2.06.94z\"/><path d=\"M17.41 7.96l-1.37-1.37c-.4-.4-.92-.59-1.43-.59-.52 0-1.04.2-1.43.59L10.3 9.45l-7.72 7.72c-.78.78-.78 2.05 0 2.83L4 21.41c.39.39.9.59 1.41.59.51 0 1.02-.2 1.41-.59l7.78-7.78 2.81-2.81c.8-.78.8-2.07 0-2.86zM5.41 20L4 18.59l7.72-7.72 1.47 1.35L5.41 20z\"/>\n",
              "  </svg>\n",
              "      </button>\n",
              "      \n",
              "  <style>\n",
              "    .colab-df-container {\n",
              "      display:flex;\n",
              "      flex-wrap:wrap;\n",
              "      gap: 12px;\n",
              "    }\n",
              "\n",
              "    .colab-df-convert {\n",
              "      background-color: #E8F0FE;\n",
              "      border: none;\n",
              "      border-radius: 50%;\n",
              "      cursor: pointer;\n",
              "      display: none;\n",
              "      fill: #1967D2;\n",
              "      height: 32px;\n",
              "      padding: 0 0 0 0;\n",
              "      width: 32px;\n",
              "    }\n",
              "\n",
              "    .colab-df-convert:hover {\n",
              "      background-color: #E2EBFA;\n",
              "      box-shadow: 0px 1px 2px rgba(60, 64, 67, 0.3), 0px 1px 3px 1px rgba(60, 64, 67, 0.15);\n",
              "      fill: #174EA6;\n",
              "    }\n",
              "\n",
              "    [theme=dark] .colab-df-convert {\n",
              "      background-color: #3B4455;\n",
              "      fill: #D2E3FC;\n",
              "    }\n",
              "\n",
              "    [theme=dark] .colab-df-convert:hover {\n",
              "      background-color: #434B5C;\n",
              "      box-shadow: 0px 1px 3px 1px rgba(0, 0, 0, 0.15);\n",
              "      filter: drop-shadow(0px 1px 2px rgba(0, 0, 0, 0.3));\n",
              "      fill: #FFFFFF;\n",
              "    }\n",
              "  </style>\n",
              "\n",
              "      <script>\n",
              "        const buttonEl =\n",
              "          document.querySelector('#df-a99e4e86-576b-42e1-918d-c39ea9f689b8 button.colab-df-convert');\n",
              "        buttonEl.style.display =\n",
              "          google.colab.kernel.accessAllowed ? 'block' : 'none';\n",
              "\n",
              "        async function convertToInteractive(key) {\n",
              "          const element = document.querySelector('#df-a99e4e86-576b-42e1-918d-c39ea9f689b8');\n",
              "          const dataTable =\n",
              "            await google.colab.kernel.invokeFunction('convertToInteractive',\n",
              "                                                     [key], {});\n",
              "          if (!dataTable) return;\n",
              "\n",
              "          const docLinkHtml = 'Like what you see? Visit the ' +\n",
              "            '<a target=\"_blank\" href=https://colab.research.google.com/notebooks/data_table.ipynb>data table notebook</a>'\n",
              "            + ' to learn more about interactive tables.';\n",
              "          element.innerHTML = '';\n",
              "          dataTable['output_type'] = 'display_data';\n",
              "          await google.colab.output.renderOutput(dataTable, element);\n",
              "          const docLink = document.createElement('div');\n",
              "          docLink.innerHTML = docLinkHtml;\n",
              "          element.appendChild(docLink);\n",
              "        }\n",
              "      </script>\n",
              "    </div>\n",
              "  </div>\n",
              "  "
            ],
            "text/plain": [
              "           0           1           2     ...        9997        9998        9999\n",
              "0    159.145609  162.321151  162.529838  ...  158.974002  160.616198  165.806171\n",
              "1    155.707397  154.037509  166.642659  ...  154.549549  163.452950  166.205330\n",
              "2    148.078814  151.835365  166.377389  ...  152.099871  159.449764  162.012046\n",
              "3    152.755409  148.422504  167.252682  ...  154.534330  163.624397  157.681170\n",
              "4    149.227987  142.831105  175.429768  ...  155.083199  162.410568  160.113376\n",
              "..          ...         ...         ...  ...         ...         ...         ...\n",
              "247   72.511589  204.271902  110.530835  ...  108.241461  238.284945  284.703996\n",
              "248   71.952776  213.501502  111.103505  ...  108.529737  228.753289  287.682236\n",
              "249   68.835383  213.599239  111.313874  ...  103.902308  230.235728  289.101926\n",
              "250   69.895545  212.951578  111.412123  ...  100.121003  226.690554  296.497203\n",
              "251   69.946771  210.559098  114.240556  ...  103.073741  223.133118  291.197989\n",
              "\n",
              "[252 rows x 10000 columns]"
            ]
          },
          "metadata": {},
          "execution_count": 16
        }
      ]
    },
    {
      "cell_type": "code",
      "source": [
        "final = simulation_df.iloc[-1]\n",
        "final"
      ],
      "metadata": {
        "colab": {
          "base_uri": "https://localhost:8080/"
        },
        "id": "wyBbOXM36-kc",
        "outputId": "a296bac9-e000-48df-8b61-054f9ac4415a"
      },
      "execution_count": 17,
      "outputs": [
        {
          "output_type": "execute_result",
          "data": {
            "text/plain": [
              "0        69.946771\n",
              "1       210.559098\n",
              "2       114.240556\n",
              "3       137.757821\n",
              "4        91.524211\n",
              "           ...    \n",
              "9995    159.908612\n",
              "9996    196.023116\n",
              "9997    103.073741\n",
              "9998    223.133118\n",
              "9999    291.197989\n",
              "Name: 251, Length: 10000, dtype: float64"
            ]
          },
          "metadata": {},
          "execution_count": 17
        }
      ]
    },
    {
      "cell_type": "code",
      "source": [
        "final.max()"
      ],
      "metadata": {
        "colab": {
          "base_uri": "https://localhost:8080/"
        },
        "id": "rX3w3TuODBjL",
        "outputId": "969a4b1b-8bba-4f9f-a8d4-a416185440dc"
      },
      "execution_count": 18,
      "outputs": [
        {
          "output_type": "execute_result",
          "data": {
            "text/plain": [
              "568.5300120697977"
            ]
          },
          "metadata": {},
          "execution_count": 18
        }
      ]
    },
    {
      "cell_type": "code",
      "source": [
        "final.min()"
      ],
      "metadata": {
        "colab": {
          "base_uri": "https://localhost:8080/"
        },
        "id": "f5xFr8bxDFAf",
        "outputId": "679a3063-380a-400e-9512-ea098f7539b7"
      },
      "execution_count": 19,
      "outputs": [
        {
          "output_type": "execute_result",
          "data": {
            "text/plain": [
              "20.08067543462071"
            ]
          },
          "metadata": {},
          "execution_count": 19
        }
      ]
    },
    {
      "cell_type": "code",
      "source": [
        "#kdeplot using seaborn library\n",
        "sns.kdeplot(final, shade = True)\n"
      ],
      "metadata": {
        "colab": {
          "base_uri": "https://localhost:8080/",
          "height": 297
        },
        "id": "-xtWJwiTB6Vf",
        "outputId": "168e042f-6252-45de-d7b5-84131b1971c5"
      },
      "execution_count": 22,
      "outputs": [
        {
          "output_type": "execute_result",
          "data": {
            "text/plain": [
              "<matplotlib.axes._subplots.AxesSubplot at 0x7f5fe0376610>"
            ]
          },
          "metadata": {},
          "execution_count": 22
        },
        {
          "output_type": "display_data",
          "data": {
            "image/png": "[encoded data removed]",
            "text/plain": [
              "<Figure size 432x288 with 1 Axes>"
            ]
          },
          "metadata": {
            "needs_background": "light"
          }
        }
      ]
    },
    {
      "cell_type": "code",
      "source": [
        "\n",
        "#for cdf instead of usual pdf, use this instead\n",
        "sns.kdeplot(final, cumulative=True)"
      ],
      "metadata": {
        "colab": {
          "base_uri": "https://localhost:8080/",
          "height": 297
        },
        "id": "KxnqikU2EJws",
        "outputId": "f99e4902-c67b-40de-9f32-9827a15b1bfb"
      },
      "execution_count": 23,
      "outputs": [
        {
          "output_type": "execute_result",
          "data": {
            "text/plain": [
              "<matplotlib.axes._subplots.AxesSubplot at 0x7f5fe0368190>"
            ]
          },
          "metadata": {},
          "execution_count": 23
        },
        {
          "output_type": "display_data",
          "data": {
            "image/png": "[encoded data removed]",
            "text/plain": [
              "<Figure size 432x288 with 1 Axes>"
            ]
          },
          "metadata": {
            "needs_background": "light"
          }
        }
      ]
    },
    {
      "cell_type": "code",
      "source": [
        "#bins_desired = [0,80,160,240,320,400,480,560,640,720]\n",
        "bins_desired = [0,40,80,120,160,200,240,280,320,360,400,480, 520, 560, 600, 640, 680, 720]\n",
        "\n",
        "plt.hist(final, bins = bins_desired, edgecolor = 'red')"
      ],
      "metadata": {
        "colab": {
          "base_uri": "https://localhost:8080/",
          "height": 378
        },
        "id": "yhjZFBG_9QeZ",
        "outputId": "200bfaaf-9784-4f47-89a0-40bab7b26857"
      },
      "execution_count": null,
      "outputs": [
        {
          "output_type": "execute_result",
          "data": {
            "text/plain": [
              "(array([2.000e+00, 5.430e+02, 2.276e+03, 2.863e+03, 2.128e+03, 1.128e+03,\n",
              "        5.830e+02, 2.580e+02, 1.150e+02, 4.800e+01, 4.700e+01, 6.000e+00,\n",
              "        1.000e+00, 1.000e+00, 1.000e+00, 0.000e+00, 0.000e+00]),\n",
              " array([  0,  40,  80, 120, 160, 200, 240, 280, 320, 360, 400, 480, 520,\n",
              "        560, 600, 640, 680, 720]),\n",
              " <a list of 17 Patch objects>)"
            ]
          },
          "metadata": {},
          "execution_count": 19
        },
        {
          "output_type": "display_data",
          "data": {
            "image/png": "[encoded data removed]",
            "text/plain": [
              "<Figure size 432x288 with 1 Axes>"
            ]
          },
          "metadata": {
            "needs_background": "light"
          }
        }
      ]
    },
    {
      "cell_type": "code",
      "source": [
        "counter_less140 = final[final<last_price]\n",
        "counter_less140\n",
        "prob = len(counter_less140) / trials \n",
        "print(prob)"
      ],
      "metadata": {
        "colab": {
          "base_uri": "https://localhost:8080/"
        },
        "id": "mFUpEdqXDfCY",
        "outputId": "6536f0cf-39ec-4f52-82c9-038afcec22bb"
      },
      "execution_count": null,
      "outputs": [
        {
          "output_type": "stream",
          "name": "stdout",
          "text": [
            "0.57\n"
          ]
        }
      ]
    },
    {
      "cell_type": "code",
      "source": [
        "time_value = last_price* 1.02\n",
        "print(len(final[final<time_value])/trials)"
      ],
      "metadata": {
        "colab": {
          "base_uri": "https://localhost:8080/"
        },
        "id": "24zGtNBPGxrx",
        "outputId": "5192c996-88e3-4d1c-e771-80d76db98064"
      },
      "execution_count": null,
      "outputs": [
        {
          "output_type": "stream",
          "name": "stdout",
          "text": [
            "0.5924\n"
          ]
        }
      ]
    },
    {
      "cell_type": "code",
      "source": [
        "#Box Müller Method\n",
        "import numpy as np\n",
        "import pandas as pd\n",
        "import matplotlib.pyplot as plt\n",
        "np.random.seed(521)\n",
        "U1 = np.random.uniform(size = 10000)\n",
        "U2 = np.random.uniform(size = 10000)\n",
        "R = np.sqrt(-2 * np.log(U1))\n",
        "Theta = 2 * np.pi * U2\n",
        "X = R * np.cos(Theta)\n",
        "Y = R * np.sin(Theta)\n",
        "#sns.kdeplot(X)\n",
        "#sns.kdeplot(Y)\n",
        "fig,(ax1,ax2) = plt.subplots(1,2)\n",
        "temp = ax1.hist(X)\n",
        "ax1.set_title(\"X\")\n",
        "temp = ax2.hist(Y)\n",
        "ax2.set_title(\"Y\")\n",
        "plt.show()"
      ],
      "metadata": {
        "colab": {
          "base_uri": "https://localhost:8080/",
          "height": 265
        },
        "id": "uzeZiNUwLKqv",
        "outputId": "efb98e3f-1ad9-4cac-fc7d-0e7a99efbaee"
      },
      "execution_count": 25,
      "outputs": [
        {
          "output_type": "display_data",
          "data": {
            "image/png": "[encoded data removed]",
            "text/plain": [
              "<Figure size 432x288 with 1 Axes>"
            ]
          },
          "metadata": {
            "needs_background": "light"
          }
        }
      ]
    },
    {
      "cell_type": "code",
      "source": [
        "\n",
        "from itertools import zip_longest\n",
        "from math import pi, sqrt, factorial\n",
        "from typing import List, Union\n",
        "import numpy as np\n",
        "\n",
        "\n",
        "class InverseCDF:\n",
        "    def __init__(self, degree: int) -> None:\n",
        "        \"\"\"\n",
        "        Store Taylor series coefficients of erfinv\n",
        "        :param degree: highest power of the Taylor series (one less than the number of terms due to constant term)\n",
        "        \"\"\"\n",
        "        self.taylor_coeffs = self.get_taylor_coeffs(n_terms=degree + 1)\n",
        "\n",
        "    def update_P(self, P: List[int], n: int) -> List[int]:\n",
        "        \"\"\"\n",
        "        Update polynomial for each term of Taylor series approximation of erfinv\n",
        "        :param P: polynomial of previous power (one less than current power)\n",
        "        :param n: power of current term\n",
        "        :return: polynomial of current power term\n",
        "        \"\"\"\n",
        "        EP = [0] + P\n",
        "        two_nEP = [2 * n * coeff for coeff in EP]\n",
        "        dP = [power * coeff for power, coeff in enumerate(P)][1:]\n",
        "        updated_P = [two_nEP_coeff + dP_coeff for two_nEP_coeff, dP_coeff in zip_longest(two_nEP, dP, fillvalue=0)]\n",
        "        return updated_P\n",
        "\n",
        "    def get_taylor_coeffs(self, n_terms: int) -> List[float]:\n",
        "        \"\"\"\n",
        "        Get coefficients of Taylor series approximation for erfinv (up to specified number of terms)\n",
        "        :param n_terms: number of terms of Taylor series\n",
        "        :return: list of Taylor series coefficients matching number of terms\n",
        "        \"\"\"\n",
        "        taylor_coeffs = [0, sqrt(pi) / 2]  # First two coefficients\n",
        "\n",
        "        if n_terms <= 2:\n",
        "            return taylor_coeffs[:n_terms]\n",
        "        else:\n",
        "            P = [0, 2]  # Polynomial of second derivative\n",
        "            dE = sqrt(pi) / 2  # First derivative at x = 0\n",
        "\n",
        "            # Find Taylor coefficient for each term from x^2 onwards\n",
        "            for n in range(2, n_terms):\n",
        "                P_const = P[0]\n",
        "                taylor_coeff = (dE ** n * P_const) / factorial(n)\n",
        "                P = self.update_P(P, n)\n",
        "                taylor_coeffs.append(taylor_coeff)\n",
        "            return taylor_coeffs\n",
        "\n",
        "    def calculate_sample(self, A: Union[float, np.array]) -> Union[float, np.array]:\n",
        "        \"\"\"\n",
        "        Return Gaussian sample(s) from sampled left-side area(s)\n",
        "        :param A: sampled left-side area(s), can be a single float or a numpy float array\n",
        "        :return: Gaussian sample(s) from applying inverse CDF to sampled area(s), can be single float or numpy float array\n",
        "        \"\"\"\n",
        "        sample = sqrt(2) * sum(coeff * (2*A-1)**power for power, coeff in enumerate(self.taylor_coeffs))\n",
        "        return sample"
      ],
      "metadata": {
        "id": "lEMSseoEOOLj"
      },
      "execution_count": null,
      "outputs": []
    },
    {
      "cell_type": "code",
      "source": [
        "# Step 1: Sample 1000 independent left-side areas\n",
        "# (independently for x and y coordinates)\n",
        "area_xs = np.random.RandomState(seed=42).uniform(size=1000)\n",
        "area_ys = np.random.RandomState(seed=24).uniform(size=1000)\n",
        "\n",
        "# Step 2: Apply 21-degree Taylor series approximation of inverse Gaussian CDF\n",
        "invcdf21 = InverseCDF(degree=21)\n",
        "\n",
        "# Step 3: Generate Gaussian samples for x and y coordinates\n",
        "gaussian_xs = invcdf21.calculate_sample(area_xs) # array([-0.31985238,  1.6399258 ,  0.61885465, ...])\n",
        "gaussian_ys = invcdf21.calculate_sample(area_ys) # array([ 1.72888778,  0.522997633,  2.27867102, ...])\n",
        "plt.hist(gaussian_xs, bins=30)\n",
        "plt.hist(gaussian_ys, bins = 45)"
      ],
      "metadata": {
        "colab": {
          "base_uri": "https://localhost:8080/",
          "height": 525
        },
        "id": "D_lzAPlAOfQ4",
        "outputId": "d9085aeb-93e5-44f8-c549-093d23fef7e4"
      },
      "execution_count": null,
      "outputs": [
        {
          "output_type": "execute_result",
          "data": {
            "text/plain": [
              "(array([ 4., 15.,  6.,  5., 10.,  5., 10., 16., 13., 15., 18., 15., 23.,\n",
              "        22., 29., 32., 35., 42., 39., 45., 40., 39., 32., 31., 42., 42.,\n",
              "        40., 40., 33., 28., 28., 24., 21., 21., 24., 20., 16., 18.,  6.,\n",
              "         6.,  8.,  9., 12.,  7., 14.]),\n",
              " array([-2.27705155, -2.17581327, -2.07457499, -1.97333671, -1.87209843,\n",
              "        -1.77086015, -1.66962187, -1.56838359, -1.46714532, -1.36590704,\n",
              "        -1.26466876, -1.16343048, -1.0621922 , -0.96095392, -0.85971564,\n",
              "        -0.75847736, -0.65723908, -0.5560008 , -0.45476252, -0.35352424,\n",
              "        -0.25228596, -0.15104769, -0.04980941,  0.05142887,  0.15266715,\n",
              "         0.25390543,  0.35514371,  0.45638199,  0.55762027,  0.65885855,\n",
              "         0.76009683,  0.86133511,  0.96257339,  1.06381167,  1.16504994,\n",
              "         1.26628822,  1.3675265 ,  1.46876478,  1.57000306,  1.67124134,\n",
              "         1.77247962,  1.8737179 ,  1.97495618,  2.07619446,  2.17743274,\n",
              "         2.27867102]),\n",
              " <a list of 45 Patch objects>)"
            ]
          },
          "metadata": {},
          "execution_count": 6
        },
        {
          "output_type": "display_data",
          "data": {
            "image/png": "[encoded data removed]",
            "text/plain": [
              "<Figure size 432x288 with 1 Axes>"
            ]
          },
          "metadata": {
            "needs_background": "light"
          }
        }
      ]
    },
    {
      "cell_type": "code",
      "source": [
        "#marsaglia polar method youtube channel StatMonteCarlo\n",
        "\n",
        "import numpy as np\n",
        "import numpy.random as rd\n",
        "from scipy import stats\n",
        "import matplotlib.pyplot as plt\n",
        "\n",
        "def f(u1, R_sq):\n",
        "  return u1 * np.sqrt(-2*np.log(R_sq) / R_sq)\n",
        "\n",
        "def sim(N):\n",
        "  out = np.zeros(N)\n",
        "  for i in range(N):\n",
        "    R_sq = 2\n",
        "    while R_sq > 1:\n",
        "      u1 = rd.uniform(-1,1)\n",
        "      u2 = rd.uniform(-1,1)\n",
        "      R_sq = u1**2 + u2**2\n",
        "    X = f(u1, R_sq)\n",
        "    out[i] = X\n",
        "  return out\n",
        "\n",
        "\n",
        "#plot\n",
        "X = sim(10**5)\n",
        "plt.figure()\n",
        "plt.hist(X, bins=100, density=True)\n",
        "xx=np.linspace(-3,3,100)\n",
        "plt.plot(xx,stats.norm.pdf(xx))\n"
      ],
      "metadata": {
        "colab": {
          "base_uri": "https://localhost:8080/",
          "height": 282
        },
        "id": "y7BUvzhAaeRm",
        "outputId": "610f2f74-6662-4a29-bd7b-360f0310a65c"
      },
      "execution_count": null,
      "outputs": [
        {
          "output_type": "execute_result",
          "data": {
            "text/plain": [
              "[<matplotlib.lines.Line2D at 0x7f002d9656d0>]"
            ]
          },
          "metadata": {},
          "execution_count": 16
        },
        {
          "output_type": "display_data",
          "data": {
            "image/png": "[encoded data removed]",
            "text/plain": [
              "<Figure size 432x288 with 1 Axes>"
            ]
          },
          "metadata": {
            "needs_background": "light"
          }
        }
      ]
    },
    {
      "cell_type": "code",
      "source": [
        "#Box Müller Method _ Youtube channel StatMonteCarlo\n",
        "\n",
        "import numpy as np\n",
        "import numpy.random as rd\n",
        "from scipy import stats\n",
        "import matplotlib.pyplot as plt\n",
        "\n",
        "def fcos(theta, E):\n",
        "  #return [np.cos(theta), np.sin(theta)] * np.sqrt(2*E)\n",
        "  return np.cos(theta) * np.sqrt(2*E)\n",
        "  \n",
        "\n",
        "def BoxMuller(N, mu = 0, sigma = 1 ):\n",
        "  out = np.zeros(N)\n",
        "  for j in range(N):\n",
        "    theta = rd.uniform(low = 0, high = 2*np.pi, size = 1)\n",
        "    E = rd.exponential(scale = 1/1, size = 1)\n",
        "    Y = fcos(theta,E)\n",
        "    out[j] = mu + Y* sigma\n",
        "  return out\n",
        "plt.figure()\n",
        "Y = BoxMuller(10**5)\n",
        "plt.hist(Y, bins=100, density=True)\n",
        "xd=np.linspace(-3,3,100)\n",
        "plt.plot(xd,stats.norm.pdf(xd))\n",
        "#for distribution with mean unequal to 0 and sigma unequal to 1, run the phi module\n",
        "#and use the following code to plot the outline instead for mean 5 and sigma 2\n",
        "#plt.plot(xd,phi(xd,5,2))\n"
      ],
      "metadata": {
        "colab": {
          "base_uri": "https://localhost:8080/",
          "height": 282
        },
        "id": "zoDloVt5awui",
        "outputId": "405009ea-4967-4712-a7ae-0ada74e1ef16"
      },
      "execution_count": null,
      "outputs": [
        {
          "output_type": "execute_result",
          "data": {
            "text/plain": [
              "[<matplotlib.lines.Line2D at 0x7effe92de1d0>]"
            ]
          },
          "metadata": {},
          "execution_count": 21
        },
        {
          "output_type": "display_data",
          "data": {
            "image/png": "[encoded data removed]",
            "text/plain": [
              "<Figure size 432x288 with 1 Axes>"
            ]
          },
          "metadata": {
            "needs_background": "light"
          }
        }
      ]
    },
    {
      "cell_type": "code",
      "source": [
        "#characteristics function for arbitrary mu and sigma for normal distribution\n",
        "\n",
        "def phi(X, mu, sigma):\n",
        "  return 1/np.sqrt(2*np.pi*sigma**2)*np.exp(-(x-mu)**2/(2*sigma**2))"
      ],
      "metadata": {
        "id": "4tULSSkEfqLz"
      },
      "execution_count": null,
      "outputs": []
    },
    {
      "cell_type": "code",
      "source": [
        "#Linear Congruential Generator\n",
        "\n",
        "def LCG(N,S):\n",
        "  a = 7**5\n",
        "  M = 2**31-1\n",
        "\n",
        "  def fn(S):\n",
        "    return (a*S) % M\n",
        "\n",
        "  U = []\n",
        "\n",
        "  for k in range(N):\n",
        "    S = fn(S)\n",
        "    U += [S/M]\n",
        "\n",
        "  return U\n",
        "\n",
        "U = LCG(10**6, 123)\n",
        "\n",
        "import matplotlib.pyplot as plt\n",
        "import numpy as np\n",
        "\n",
        "X = -np.log(U)/5\n",
        "\n",
        "plt.figure ()\n",
        "plt.hist(X, bins = 50, density=True)\n",
        "\n",
        "def f(x):\n",
        "  return 5* np.exp(-x*5)\n",
        "\n",
        "xx = np.linspace (0,10,200)\n",
        "\n",
        "plt.plot(xx, f(xx))\n"
      ],
      "metadata": {
        "colab": {
          "base_uri": "https://localhost:8080/",
          "height": 282
        },
        "id": "tUGKcFyBkm9o",
        "outputId": "f785324f-774c-40d4-b256-84a5e2fe6e1e"
      },
      "execution_count": null,
      "outputs": [
        {
          "output_type": "execute_result",
          "data": {
            "text/plain": [
              "[<matplotlib.lines.Line2D at 0x7effe6684a50>]"
            ]
          },
          "metadata": {},
          "execution_count": 31
        },
        {
          "output_type": "display_data",
          "data": {
            "image/png": "[encoded data removed]",
            "text/plain": [
              "<Figure size 432x288 with 1 Axes>"
            ]
          },
          "metadata": {
            "needs_background": "light"
          }
        }
      ]
    },
    {
      "cell_type": "code",
      "source": [
        "\n",
        "plt.hist(U, bins = 10, density=True)\n"
      ],
      "metadata": {
        "colab": {
          "base_uri": "https://localhost:8080/",
          "height": 369
        },
        "id": "JCCzjIaDnjEL",
        "outputId": "3941de60-747f-4391-9da9-383435faddaf"
      },
      "execution_count": null,
      "outputs": [
        {
          "output_type": "execute_result",
          "data": {
            "text/plain": [
              "(array([1.00515042, 0.99472042, 0.99209042, 0.99936042, 1.00343042,\n",
              "        1.00264042, 0.99967042, 0.99622042, 1.00273042, 1.00399042]),\n",
              " array([1.29453838e-07, 1.00000088e-01, 2.00000046e-01, 3.00000004e-01,\n",
              "        3.99999962e-01, 4.99999920e-01, 5.99999878e-01, 6.99999836e-01,\n",
              "        7.99999794e-01, 8.99999752e-01, 9.99999710e-01]),\n",
              " <a list of 10 Patch objects>)"
            ]
          },
          "metadata": {},
          "execution_count": 32
        },
        {
          "output_type": "display_data",
          "data": {
            "image/png": "[encoded data removed]",
            "text/plain": [
              "<Figure size 432x288 with 1 Axes>"
            ]
          },
          "metadata": {
            "needs_background": "light"
          }
        }
      ]
    },
    {
      "cell_type": "code",
      "source": [
        "#fibonacci method for uniformly distributed random number\n",
        "\n",
        "\n",
        "# parameter settings\n",
        "nn   = 18\n",
        "a    = 1366\n",
        "b    = 150889\n",
        "M    = 714025\n",
        "seed = 1234567\n",
        "n    = 10000\n",
        "yy   = c(seed)\n",
        "i    = 2\n",
        "\n",
        "# Main computation\n",
        "while i <= nn:\n",
        "    yy = cbind(yy, ((a * yy[i - 1] + b)%%M))\n",
        "    i  = i + 1\n",
        "\n",
        "y = yy/M\n",
        "i = 19\n",
        "\n",
        "while i <= n + 18:\n",
        "    zeta = y[i - 17] - y[i - 5]\n",
        "    if zeta < 0:\n",
        "        zeta = zeta + 1\n",
        "    \n",
        "    y[i] = zeta\n",
        "    i = i + 1\n",
        "\n",
        "y   = y[19:n + 18]\n",
        "n1  = n - 2\n",
        "n2  = n - 1\n",
        "dat = c(y[1:n1], y[2:n2])\n",
        "\n",
        "# Plot\n",
        "plot(y[1:n1], y[2:n2], type = \"p\", pch = 20, xlab = expression(U[i - 1]), ylab = expression(U[i]), \n",
        "    xaxp = c(0, 1, 10), yaxp = c(0, 1, 10), xlim = c(0, 1), ylim = c(0, 1))\n"
      ],
      "metadata": {
        "id": "hIMYX29Zooow"
      },
      "execution_count": null,
      "outputs": []
    },
    {
      "cell_type": "code",
      "source": [
        "# Inverse method\n",
        "# Ndtri : Returns the argument x for which the area under the Gaussian probability density function (integrated from minus infinity to x) is equal to y.\n",
        "\n",
        "from scipy.special import ndtri\n",
        "ndtri(0.95)\n"
      ],
      "metadata": {
        "colab": {
          "base_uri": "https://localhost:8080/"
        },
        "id": "Zp6GezN-xzyf",
        "outputId": "7b4ed7b2-718e-4b80-8b64-d966409cd866"
      },
      "execution_count": null,
      "outputs": [
        {
          "output_type": "execute_result",
          "data": {
            "text/plain": [
              "1.6448536269514722"
            ]
          },
          "metadata": {},
          "execution_count": 33
        }
      ]
    }
  ]
}