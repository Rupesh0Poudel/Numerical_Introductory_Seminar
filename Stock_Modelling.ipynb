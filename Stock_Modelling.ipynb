{
  "nbformat": 4,
  "nbformat_minor": 0,
  "metadata": {
    "colab": {
      "provenance": [],
      "authorship_tag": "ABX9TyN4oejStANzdKSv99ydl+E1",
      "include_colab_link": true
    },
    "kernelspec": {
      "name": "python3",
      "display_name": "Python 3"
    },
    "language_info": {
      "name": "python"
    }
  },
  "cells": [
    {
      "cell_type": "markdown",
      "metadata": {
        "id": "view-in-github",
        "colab_type": "text"
      },
      "source": [
        "<a href=\"https://colab.research.google.com/github/Rupesh0Poudel/Numerical_Introductory_Seminar/blob/main/Stock_Modelling.ipynb\" target=\"_parent\"><img src=\"https://colab.research.google.com/assets/colab-badge.svg\" alt=\"Open In Colab\"/></a>"
      ]
    },
    {
      "cell_type": "code",
      "source": [
        "pip install yfinance"
      ],
      "metadata": {
        "id": "z7stKR_vQA61",
        "colab": {
          "base_uri": "https://localhost:8080/"
        },
        "outputId": "e61a9b43-a412-4052-deb3-8caa7b257a8d"
      },
      "execution_count": null,
      "outputs": [
        {
          "output_type": "stream",
          "name": "stdout",
          "text": [
            "Looking in indexes: https://pypi.org/simple, https://us-python.pkg.dev/colab-wheels/public/simple/\n",
            "Collecting yfinance\n",
            "  Downloading yfinance-0.1.89-py2.py3-none-any.whl (29 kB)\n",
            "Collecting requests>=2.26\n",
            "  Downloading requests-2.28.1-py3-none-any.whl (62 kB)\n",
            "\u001b[K     |████████████████████████████████| 62 kB 380 kB/s \n",
            "\u001b[?25hRequirement already satisfied: pandas>=1.3.0 in /usr/local/lib/python3.8/dist-packages (from yfinance) (1.3.5)\n",
            "Requirement already satisfied: appdirs>=1.4.4 in /usr/local/lib/python3.8/dist-packages (from yfinance) (1.4.4)\n",
            "Requirement already satisfied: numpy>=1.16.5 in /usr/local/lib/python3.8/dist-packages (from yfinance) (1.21.6)\n",
            "Requirement already satisfied: multitasking>=0.0.7 in /usr/local/lib/python3.8/dist-packages (from yfinance) (0.0.11)\n",
            "Requirement already satisfied: pytz>=2017.3 in /usr/local/lib/python3.8/dist-packages (from pandas>=1.3.0->yfinance) (2022.6)\n",
            "Requirement already satisfied: python-dateutil>=2.7.3 in /usr/local/lib/python3.8/dist-packages (from pandas>=1.3.0->yfinance) (2.8.2)\n",
            "Requirement already satisfied: six>=1.5 in /usr/local/lib/python3.8/dist-packages (from python-dateutil>=2.7.3->pandas>=1.3.0->yfinance) (1.15.0)\n",
            "Requirement already satisfied: charset-normalizer<3,>=2 in /usr/local/lib/python3.8/dist-packages (from requests>=2.26->yfinance) (2.1.1)\n",
            "Requirement already satisfied: urllib3<1.27,>=1.21.1 in /usr/local/lib/python3.8/dist-packages (from requests>=2.26->yfinance) (1.24.3)\n",
            "Requirement already satisfied: certifi>=2017.4.17 in /usr/local/lib/python3.8/dist-packages (from requests>=2.26->yfinance) (2022.9.24)\n",
            "Requirement already satisfied: idna<4,>=2.5 in /usr/local/lib/python3.8/dist-packages (from requests>=2.26->yfinance) (2.10)\n",
            "Installing collected packages: requests, yfinance\n",
            "  Attempting uninstall: requests\n",
            "    Found existing installation: requests 2.23.0\n",
            "    Uninstalling requests-2.23.0:\n",
            "      Successfully uninstalled requests-2.23.0\n",
            "Successfully installed requests-2.28.1 yfinance-0.1.89\n"
          ]
        }
      ]
    },
    {
      "cell_type": "code",
      "execution_count": null,
      "metadata": {
        "id": "5fyfpO1eOxUO"
      },
      "outputs": [],
      "source": [
        "import yfinance as yf\n",
        "import pandas as pd\n",
        "import numpy as np\n",
        "import matplotlib.pyplot as plt\n",
        "import seaborn as sns"
      ]
    },
    {
      "cell_type": "code",
      "source": [
        "apple = yf.Ticker(\"APPL\")\n",
        "amazon = yf.Ticker(\"AMZN\")\n",
        "tesla = yf.Ticker(\"TSLA\")\n",
        "microsoft = yf.Ticker(\"MSFT\")\n",
        "google = yf.Ticker(\"GOOG\")\n",
        "\n"
      ],
      "metadata": {
        "id": "6GT1E3qrPKC3"
      },
      "execution_count": null,
      "outputs": []
    },
    {
      "cell_type": "code",
      "source": [
        "df = yf.download(\"SOW.DE\", start = \"2020-1-1\", end=\"2022-11-30\")\n",
        "\n"
      ],
      "metadata": {
        "id": "NXAM4YcoQXOZ",
        "colab": {
          "base_uri": "https://localhost:8080/"
        },
        "outputId": "4050f38e-4527-41e9-c4a2-4f389617d53d"
      },
      "execution_count": null,
      "outputs": [
        {
          "output_type": "stream",
          "name": "stdout",
          "text": [
            "\r[*********************100%***********************]  1 of 1 completed\n"
          ]
        }
      ]
    },
    {
      "cell_type": "code",
      "source": [
        "print(df.tail)"
      ],
      "metadata": {
        "id": "u4ZZ1gVlR8Fq",
        "colab": {
          "base_uri": "https://localhost:8080/"
        },
        "outputId": "e8881d4a-2e1f-495d-9061-a41c93dfb455"
      },
      "execution_count": null,
      "outputs": [
        {
          "output_type": "stream",
          "name": "stdout",
          "text": [
            "<bound method NDFrame.tail of                  Open       High        Low      Close  Adj Close  Volume\n",
            "Date                                                                     \n",
            "2020-01-02  31.110001  31.450001  31.110001  31.330000  29.218414   90538\n",
            "2020-01-03  31.290001  31.290001  30.730000  30.780001  28.705486  101324\n",
            "2020-01-06  30.709999  30.780001  30.080000  30.780001  28.705486  209811\n",
            "2020-01-07  30.850000  31.730000  30.840000  31.420000  29.302349  164562\n",
            "2020-01-08  31.049999  31.889999  30.879999  31.889999  29.740671  114655\n",
            "...               ...        ...        ...        ...        ...     ...\n",
            "2022-11-23  25.000000  25.440001  25.000000  25.440001  25.440001   74041\n",
            "2022-11-24  25.400000  26.040001  25.400000  25.959999  25.959999   55223\n",
            "2022-11-25  25.820000  25.980000  25.600000  25.860001  25.860001   68366\n",
            "2022-11-28  25.700001  25.719999  24.920000  24.940001  24.940001   71718\n",
            "2022-11-29  24.879999  25.000000  23.879999  23.920000  23.920000   88713\n",
            "\n",
            "[744 rows x 6 columns]>\n"
          ]
        }
      ]
    },
    {
      "cell_type": "code",
      "source": [
        "df.head()\n",
        "df.columns"
      ],
      "metadata": {
        "colab": {
          "base_uri": "https://localhost:8080/"
        },
        "id": "6rqBV-u2S1km",
        "outputId": "dcbe4725-2b78-48a8-b0e2-edf7438278d2"
      },
      "execution_count": null,
      "outputs": [
        {
          "output_type": "execute_result",
          "data": {
            "text/plain": [
              "Index(['Open', 'High', 'Low', 'Close', 'Adj Close', 'Volume'], dtype='object')"
            ]
          },
          "metadata": {},
          "execution_count": 7
        }
      ]
    },
    {
      "cell_type": "code",
      "source": [
        "adj_close= df['Adj Close']\n",
        "adj_close.tail()"
      ],
      "metadata": {
        "colab": {
          "base_uri": "https://localhost:8080/"
        },
        "id": "XkjDLaBKUQeM",
        "outputId": "83b19c56-a2d4-47ca-d478-817c7cc0d34f"
      },
      "execution_count": null,
      "outputs": [
        {
          "output_type": "execute_result",
          "data": {
            "text/plain": [
              "Date\n",
              "2022-11-23    25.440001\n",
              "2022-11-24    25.959999\n",
              "2022-11-25    25.860001\n",
              "2022-11-28    24.940001\n",
              "2022-11-29    23.920000\n",
              "Name: Adj Close, dtype: float64"
            ]
          },
          "metadata": {},
          "execution_count": 8
        }
      ]
    },
    {
      "cell_type": "code",
      "source": [
        "returns = adj_close.pct_change()\n",
        "\n",
        "print(len(returns))\n",
        "returns.head()"
      ],
      "metadata": {
        "colab": {
          "base_uri": "https://localhost:8080/"
        },
        "id": "Yl1xBwhJUf1J",
        "outputId": "6fcbb849-ec36-478e-a36b-ae75b28b0e19"
      },
      "execution_count": null,
      "outputs": [
        {
          "output_type": "stream",
          "name": "stdout",
          "text": [
            "744\n"
          ]
        },
        {
          "output_type": "execute_result",
          "data": {
            "text/plain": [
              "Date\n",
              "2020-01-02         NaN\n",
              "2020-01-03   -0.017555\n",
              "2020-01-06    0.000000\n",
              "2020-01-07    0.020793\n",
              "2020-01-08    0.014959\n",
              "Name: Adj Close, dtype: float64"
            ]
          },
          "metadata": {},
          "execution_count": 9
        }
      ]
    },
    {
      "cell_type": "code",
      "source": [
        "adj_close.plot()"
      ],
      "metadata": {
        "colab": {
          "base_uri": "https://localhost:8080/",
          "height": 295
        },
        "id": "lW1f2gcfx9Jl",
        "outputId": "0cac04ee-4fd7-4fb9-84e8-9bcefca099ab"
      },
      "execution_count": null,
      "outputs": [
        {
          "output_type": "execute_result",
          "data": {
            "text/plain": [
              "<matplotlib.axes._subplots.AxesSubplot at 0x7ff6626ff190>"
            ]
          },
          "metadata": {},
          "execution_count": 10
        },
        {
          "output_type": "display_data",
          "data": {
            "text/plain": [
              "<Figure size 432x288 with 1 Axes>"
            ],
            "image/png": "[encoded data removed]"
          },
          "metadata": {
            "needs_background": "light"
          }
        }
      ]
    },
    {
      "cell_type": "code",
      "source": [
        "returns.plot()"
      ],
      "metadata": {
        "colab": {
          "base_uri": "https://localhost:8080/",
          "height": 295
        },
        "id": "JI1uP8RJHIN1",
        "outputId": "f2cf11a6-9231-433f-8726-c62a7fad7e1d"
      },
      "execution_count": null,
      "outputs": [
        {
          "output_type": "execute_result",
          "data": {
            "text/plain": [
              "<matplotlib.axes._subplots.AxesSubplot at 0x7ff662197250>"
            ]
          },
          "metadata": {},
          "execution_count": 11
        },
        {
          "output_type": "display_data",
          "data": {
            "text/plain": [
              "<Figure size 432x288 with 1 Axes>"
            ],
            "image/png": "[encoded data removed]"
          },
          "metadata": {
            "needs_background": "light"
          }
        }
      ]
    },
    {
      "cell_type": "code",
      "source": [
        "returns"
      ],
      "metadata": {
        "colab": {
          "base_uri": "https://localhost:8080/"
        },
        "id": "ODeTORSVYUHK",
        "outputId": "e95ce873-eb4b-4c5c-b05c-706cbbd1074c"
      },
      "execution_count": null,
      "outputs": [
        {
          "output_type": "execute_result",
          "data": {
            "text/plain": [
              "Date\n",
              "2020-01-02         NaN\n",
              "2020-01-03   -0.017555\n",
              "2020-01-06    0.000000\n",
              "2020-01-07    0.020793\n",
              "2020-01-08    0.014959\n",
              "                ...   \n",
              "2022-11-23    0.010326\n",
              "2022-11-24    0.020440\n",
              "2022-11-25   -0.003852\n",
              "2022-11-28   -0.035576\n",
              "2022-11-29   -0.040898\n",
              "Name: Adj Close, Length: 744, dtype: float64"
            ]
          },
          "metadata": {},
          "execution_count": 12
        }
      ]
    },
    {
      "cell_type": "code",
      "source": [
        "returns\n",
        "df_new = returns[1:482]\n",
        "df_new"
      ],
      "metadata": {
        "colab": {
          "base_uri": "https://localhost:8080/"
        },
        "id": "XFt83jlpi_6D",
        "outputId": "8042cda8-8b02-4e96-ac3c-07f886fef68f"
      },
      "execution_count": null,
      "outputs": [
        {
          "output_type": "execute_result",
          "data": {
            "text/plain": [
              "Date\n",
              "2020-01-03   -0.017555\n",
              "2020-01-06    0.000000\n",
              "2020-01-07    0.020793\n",
              "2020-01-08    0.014959\n",
              "2020-01-09    0.022891\n",
              "                ...   \n",
              "2021-11-16    0.002770\n",
              "2021-11-17   -0.004972\n",
              "2021-11-18   -0.006663\n",
              "2021-11-19    0.003354\n",
              "2021-11-22   -0.028412\n",
              "Name: Adj Close, Length: 481, dtype: float64"
            ]
          },
          "metadata": {},
          "execution_count": 13
        }
      ]
    },
    {
      "cell_type": "code",
      "source": [
        "last_price = adj_close[-1]\n",
        "last_price"
      ],
      "metadata": {
        "id": "blahe_uHv_rI",
        "colab": {
          "base_uri": "https://localhost:8080/"
        },
        "outputId": "300a254d-6de3-4881-f15a-6739083243a5"
      },
      "execution_count": null,
      "outputs": [
        {
          "output_type": "execute_result",
          "data": {
            "text/plain": [
              "23.920000076293945"
            ]
          },
          "metadata": {},
          "execution_count": 14
        }
      ]
    },
    {
      "cell_type": "markdown",
      "source": [
        "We start with 10000 simulation. We will try to draw the path for 40 trading days. To store the results of the simulation, pandas' dataframe was created."
      ],
      "metadata": {
        "id": "xubzpA6SMs69"
      }
    },
    {
      "cell_type": "code",
      "source": [
        "trials = 10000\n",
        "num_days = 40\n",
        "simulation_df = pd.DataFrame()"
      ],
      "metadata": {
        "id": "q85Nrtnc26MK"
      },
      "execution_count": null,
      "outputs": []
    },
    {
      "cell_type": "markdown",
      "source": [
        "For Trial = 1, the first entry of the first for loop, we start with our volatility we calculated. Our price_series for the new trial is now blank. We calculate single instance of how a price might evolve. For the second till the desired instance, we calculate, in the second for loop, all the outputs for the first trial. that completes our first trial. \n",
        "The loop goes on till the desired trial is reached, and the simulated_df now consists a matrix of all trials and price paths in each trial.   "
      ],
      "metadata": {
        "id": "gJiUXD2zKDIH"
      }
    },
    {
      "cell_type": "code",
      "source": [
        "for x in range(trials):\n",
        "    count = 0\n",
        "    daily_vol = returns.std()\n",
        "    \n",
        "    price_series = []\n",
        "    \n",
        "    price = last_price * (1 + np.random.normal(0, daily_vol))\n",
        "    price_series.append(price)\n",
        "    \n",
        "    for y in range(num_days):\n",
        "        if count == 251:\n",
        "            break\n",
        "        price = price_series[count] * (1 + np.random.normal(0, daily_vol))\n",
        "        price_series.append(price)\n",
        "        count += 1\n",
        "    \n",
        "    simulation_df[x] = price_series\n",
        "    \n",
        "fig = plt.figure()\n",
        "fig.suptitle('Monte Carlo Simulation: SOW.DE')\n",
        "plt.plot(simulation_df)\n",
        "plt.axhline(y = last_price, color = 'r', linestyle = '-')\n",
        "plt.xlabel('Day')\n",
        "plt.ylabel('Price')\n",
        "plt.show()\n",
        "# code copied from/ inspired by youtube channel \"codebliss\""
      ],
      "metadata": {
        "colab": {
          "base_uri": "https://localhost:8080/",
          "height": 308
        },
        "id": "WGwGUPUiyn86",
        "outputId": "0b3b3438-aaa8-4378-8cfa-193d9ac8b04b"
      },
      "execution_count": null,
      "outputs": [
        {
          "output_type": "display_data",
          "data": {
            "text/plain": [
              "<Figure size 432x288 with 1 Axes>"
            ],
            "image/png": "[encoded data removed]"
          },
          "metadata": {
            "needs_background": "light"
          }
        }
      ]
    },
    {
      "cell_type": "code",
      "source": [
        "simulation_df\n"
      ],
      "metadata": {
        "colab": {
          "base_uri": "https://localhost:8080/",
          "height": 1000
        },
        "id": "0tNIjQCd23d6",
        "outputId": "4a51f174-6c98-4b3b-c7f1-6080938c73f4"
      },
      "execution_count": null,
      "outputs": [
        {
          "output_type": "execute_result",
          "data": {
            "text/plain": [
              "         0          1          2          3          4          5     \\\n",
              "0   24.448724  23.771352  23.355344  24.365352  22.988211  23.893566   \n",
              "1   23.215085  23.543754  23.441305  24.181934  22.662548  23.823696   \n",
              "2   22.916013  22.829358  23.783496  24.456037  22.213193  24.128855   \n",
              "3   23.299526  22.447855  23.727135  23.939185  22.659154  24.247267   \n",
              "4   23.426188  22.311314  23.845206  22.651752  22.517632  24.674215   \n",
              "5   23.958198  22.448838  24.014917  22.850421  23.213544  25.207389   \n",
              "6   23.460407  21.818878  23.977333  22.543881  23.341966  25.713819   \n",
              "7   23.604905  20.765239  23.051340  22.101617  24.198696  24.640991   \n",
              "8   23.481582  20.522598  23.835752  23.087600  24.151400  24.353051   \n",
              "9   23.239254  20.758929  23.838741  23.064332  24.607476  23.955286   \n",
              "10  23.320242  21.205777  24.136132  23.021563  25.142738  24.129291   \n",
              "11  23.383268  20.376056  23.191002  24.328935  25.280403  24.464051   \n",
              "12  23.397780  20.535551  22.821132  24.607721  24.597361  24.933115   \n",
              "13  23.847165  21.158576  22.357691  25.103663  24.127729  24.467616   \n",
              "14  23.703939  21.770169  22.183204  25.190230  23.991443  24.612291   \n",
              "15  23.469992  21.563534  21.363699  25.041770  24.247624  25.017778   \n",
              "16  23.954679  21.431750  21.147180  25.103220  24.115797  25.426775   \n",
              "17  24.112973  21.213015  20.301794  25.507078  23.728436  25.272380   \n",
              "18  24.632857  20.365846  20.251914  24.755556  23.157005  24.914317   \n",
              "19  24.453231  20.821561  19.479443  26.352878  22.516155  25.331380   \n",
              "20  24.663089  20.528567  19.691946  25.740044  21.945085  25.076188   \n",
              "21  24.654551  20.387800  20.253369  25.650009  21.147584  25.061144   \n",
              "22  25.840408  21.211500  20.145639  26.164937  20.904704  24.678048   \n",
              "23  25.612111  21.070775  21.009491  25.177055  21.226908  25.349507   \n",
              "24  24.900840  21.730041  21.209771  24.100042  21.200624  25.389605   \n",
              "25  25.558336  21.951496  21.661555  24.088822  22.095420  26.002175   \n",
              "26  25.348643  22.254693  21.739993  23.496568  21.943556  25.521970   \n",
              "27  26.445825  21.359806  21.887497  23.352700  21.886014  24.759019   \n",
              "28  26.889004  21.228476  21.591630  23.113643  22.021862  24.944758   \n",
              "29  27.384292  21.383656  22.170979  23.697377  22.104938  24.185041   \n",
              "30  27.816286  21.681691  21.518062  23.620939  22.534059  24.106094   \n",
              "31  28.677830  22.428760  21.323763  23.397167  22.557249  24.058737   \n",
              "32  28.195196  21.717567  21.713731  23.891447  23.022505  24.699948   \n",
              "33  28.619378  22.386987  21.632133  23.892591  23.854309  24.404978   \n",
              "34  28.546135  21.779823  21.294713  24.682120  23.769420  25.510642   \n",
              "35  29.100240  21.527300  21.471822  25.144539  24.023500  24.642304   \n",
              "36  29.420475  21.785347  21.858134  23.798829  23.736419  24.039235   \n",
              "37  30.075543  21.218624  22.121051  25.111297  23.913195  24.424861   \n",
              "38  31.804385  22.004661  22.204860  24.733206  23.431644  24.597725   \n",
              "39  31.812879  21.685644  22.732773  24.328376  22.841999  22.896744   \n",
              "40  31.455495  21.701652  23.321135  24.110878  23.302710  23.009030   \n",
              "\n",
              "         6          7          8          9     ...       9990       9991  \\\n",
              "0   22.850759  24.027002  24.751859  24.235385  ...  25.189425  24.528952   \n",
              "1   22.952698  25.112893  24.638118  24.040004  ...  25.773020  24.326076   \n",
              "2   22.647931  24.533624  24.877169  23.612131  ...  24.909671  23.741582   \n",
              "3   22.573099  24.911551  24.212931  23.167514  ...  24.327085  22.936615   \n",
              "4   22.377356  24.459536  23.275076  23.232392  ...  25.371924  22.414695   \n",
              "5   22.958248  24.660876  23.864287  23.602100  ...  24.241895  22.431724   \n",
              "6   23.012270  24.715272  23.198848  23.160540  ...  24.208738  22.045598   \n",
              "7   22.918542  24.900855  23.047083  23.030818  ...  24.825989  22.397234   \n",
              "8   23.554127  25.138944  23.896952  22.699115  ...  25.347238  22.358452   \n",
              "9   23.906724  25.697711  24.325060  22.600592  ...  26.090958  22.689402   \n",
              "10  23.612667  24.769123  24.174056  23.038511  ...  26.028810  23.406621   \n",
              "11  23.990152  24.965871  23.274786  22.694149  ...  25.617066  22.925560   \n",
              "12  23.204518  24.922765  22.729519  23.159464  ...  26.625433  22.878194   \n",
              "13  23.045426  25.176306  22.909671  23.163664  ...  26.232474  23.039633   \n",
              "14  23.438790  24.823294  23.053461  22.807952  ...  26.392276  23.753355   \n",
              "15  23.661483  25.316502  23.693583  23.316989  ...  26.143083  24.331705   \n",
              "16  23.601846  25.096505  24.158300  22.997296  ...  26.307022  25.321490   \n",
              "17  23.632935  24.871965  24.123564  22.501406  ...  27.221075  24.938449   \n",
              "18  23.596674  25.202789  24.522081  22.833332  ...  27.909979  24.379801   \n",
              "19  23.968566  25.595765  24.443649  22.154773  ...  27.308496  24.752329   \n",
              "20  25.125046  24.531899  24.858369  22.197871  ...  26.902746  24.156869   \n",
              "21  25.127414  24.584987  24.081174  21.955179  ...  27.298832  24.513764   \n",
              "22  25.199283  25.375774  24.024467  21.691536  ...  27.359858  24.050938   \n",
              "23  24.606449  25.755797  23.212598  20.912031  ...  27.950110  23.746594   \n",
              "24  24.693207  26.197196  23.054833  20.568900  ...  27.889083  23.582661   \n",
              "25  24.971398  25.363298  22.901240  20.105718  ...  27.201313  23.289037   \n",
              "26  25.021050  26.155080  23.077991  19.554983  ...  25.722828  23.495080   \n",
              "27  25.509645  26.070279  22.965817  18.970439  ...  26.084188  22.498040   \n",
              "28  26.153765  26.660157  22.890488  19.125558  ...  26.283241  22.192328   \n",
              "29  26.629510  27.654313  22.441051  19.738300  ...  26.683712  21.878229   \n",
              "30  26.428515  27.854916  22.191895  19.495502  ...  27.133574  21.476755   \n",
              "31  27.211686  28.484888  22.635130  19.551036  ...  26.508701  20.896761   \n",
              "32  26.906693  27.971090  22.533321  19.675569  ...  26.303846  20.788143   \n",
              "33  26.471511  28.640611  22.538666  19.192698  ...  25.991479  21.212211   \n",
              "34  27.414612  28.032461  22.802398  19.530937  ...  25.301544  21.207124   \n",
              "35  27.897366  27.136229  22.122940  19.774336  ...  24.188031  20.816381   \n",
              "36  27.793871  26.629214  21.722011  20.019288  ...  24.265488  20.145250   \n",
              "37  28.134350  26.847005  22.272758  20.114075  ...  23.284471  20.463190   \n",
              "38  28.493329  26.662864  21.513382  19.877819  ...  23.394758  19.919920   \n",
              "39  28.611395  28.133636  21.548828  20.172232  ...  23.205840  19.755482   \n",
              "40  28.347363  27.853033  20.960167  19.925754  ...  22.552547  19.935923   \n",
              "\n",
              "         9992       9993       9994       9995       9996       9997  \\\n",
              "0   23.769480  23.752368  23.395553  23.631246  24.180408  23.731645   \n",
              "1   25.318860  24.226598  22.903231  23.233188  24.017224  24.601069   \n",
              "2   24.755255  24.018688  22.906218  22.853667  24.091632  24.033330   \n",
              "3   24.626781  24.675520  22.338648  22.443593  23.405247  23.294939   \n",
              "4   24.080789  26.496110  21.997864  22.489545  24.117258  23.209797   \n",
              "5   23.960513  25.924594  22.252248  22.390517  24.681902  23.183934   \n",
              "6   23.571803  25.245479  22.180376  22.940348  25.475919  23.562017   \n",
              "7   24.119263  25.533609  22.300514  24.240521  25.966188  24.195692   \n",
              "8   23.711331  26.160778  22.660815  23.475679  24.983239  24.334880   \n",
              "9   23.512413  25.935298  22.562873  22.191940  25.020487  25.131677   \n",
              "10  23.412418  25.888343  23.012121  22.023587  24.929140  25.090113   \n",
              "11  24.589915  26.401834  22.571398  21.624284  24.654482  25.686081   \n",
              "12  24.365615  26.545551  22.703816  21.505956  24.721042  25.167907   \n",
              "13  23.824707  27.017018  22.754282  21.331219  24.168309  25.917059   \n",
              "14  24.302896  26.824716  22.315969  21.428523  23.702456  25.867453   \n",
              "15  24.590055  26.857086  22.645288  21.616247  24.455294  25.711321   \n",
              "16  25.019192  27.246711  22.272900  22.161278  24.969345  25.577037   \n",
              "17  24.731484  27.399788  22.768549  22.502217  25.098539  25.194804   \n",
              "18  25.228282  26.738436  21.882565  22.073742  25.155449  25.041208   \n",
              "19  24.780837  26.466499  22.039927  21.774085  25.801548  24.080709   \n",
              "20  25.388921  26.858161  22.154513  21.226931  26.065630  24.643777   \n",
              "21  25.249526  28.117876  21.945917  21.592569  25.433186  24.321701   \n",
              "22  25.618549  27.629276  22.240513  21.069070  25.602918  23.979788   \n",
              "23  27.027184  27.546725  21.667525  20.532609  26.149895  24.237688   \n",
              "24  27.881289  28.241462  21.091154  20.936166  26.116985  24.437244   \n",
              "25  27.189180  29.494282  21.216137  20.849451  25.658691  25.410831   \n",
              "26  26.426636  29.931775  21.495931  20.919279  25.259650  25.747185   \n",
              "27  27.169238  31.194694  21.529805  20.307611  25.009811  24.976821   \n",
              "28  28.585791  30.737506  22.195072  20.313258  24.195965  24.225934   \n",
              "29  29.204177  31.847868  22.478585  20.464079  24.054919  24.509350   \n",
              "30  29.382385  31.779476  22.611404  20.452446  24.032333  23.463510   \n",
              "31  30.479439  32.060131  22.667582  20.990113  24.024918  23.809617   \n",
              "32  30.015456  31.777963  23.164446  21.368047  24.697146  24.059965   \n",
              "33  30.501055  32.534602  23.742175  21.351225  24.806231  23.861516   \n",
              "34  30.118792  32.080710  23.378478  20.761723  25.231959  24.498282   \n",
              "35  29.538657  32.646546  23.765121  21.070895  24.701173  24.046048   \n",
              "36  29.736201  32.924411  23.282641  20.691116  24.406592  24.215982   \n",
              "37  29.722569  32.899085  22.766471  20.406811  24.940603  24.258509   \n",
              "38  29.004101  33.244850  22.246895  20.404275  25.440033  24.326203   \n",
              "39  28.976497  33.046559  22.571038  20.207503  25.444623  24.229602   \n",
              "40  28.592560  31.728709  23.342332  20.649879  25.505059  23.797889   \n",
              "\n",
              "         9998       9999  \n",
              "0   23.971045  24.366812  \n",
              "1   24.335074  23.465585  \n",
              "2   24.127229  23.770341  \n",
              "3   24.086355  22.371651  \n",
              "4   24.413493  21.946549  \n",
              "5   23.968563  22.710037  \n",
              "6   24.831278  23.559179  \n",
              "7   24.562669  23.757654  \n",
              "8   24.894500  23.767425  \n",
              "9   24.213115  23.388715  \n",
              "10  23.834047  22.964264  \n",
              "11  23.707989  22.241040  \n",
              "12  23.726050  23.173235  \n",
              "13  23.545574  22.940082  \n",
              "14  24.150343  22.960849  \n",
              "15  23.400579  22.763590  \n",
              "16  24.314243  23.086911  \n",
              "17  24.681165  22.291013  \n",
              "18  24.971180  21.510282  \n",
              "19  25.997142  22.506334  \n",
              "20  26.064263  21.612858  \n",
              "21  25.048630  20.975078  \n",
              "22  25.423678  21.110324  \n",
              "23  24.567505  20.998526  \n",
              "24  24.236524  21.115989  \n",
              "25  24.274387  20.772308  \n",
              "26  24.108085  20.587586  \n",
              "27  23.989336  20.167351  \n",
              "28  23.707324  20.264472  \n",
              "29  23.594249  21.001569  \n",
              "30  24.185641  21.127515  \n",
              "31  24.576866  21.198781  \n",
              "32  25.110956  21.383082  \n",
              "33  24.690941  21.584491  \n",
              "34  24.071384  21.476973  \n",
              "35  24.124719  21.915411  \n",
              "36  25.162157  21.964373  \n",
              "37  24.266759  22.203797  \n",
              "38  23.434242  22.918450  \n",
              "39  22.604541  23.236243  \n",
              "40  22.971660  23.344613  \n",
              "\n",
              "[41 rows x 10000 columns]"
            ],
            "text/html": [
              "\n",
              "  <div id=\"df-cf21c805-f3de-4548-9132-a974e9b1cf71\">\n",
              "    <div class=\"colab-df-container\">\n",
              "      <div>\n",
              "<style scoped>\n",
              "    .dataframe tbody tr th:only-of-type {\n",
              "        vertical-align: middle;\n",
              "    }\n",
              "\n",
              "    .dataframe tbody tr th {\n",
              "        vertical-align: top;\n",
              "    }\n",
              "\n",
              "    .dataframe thead th {\n",
              "        text-align: right;\n",
              "    }\n",
              "</style>\n",
              "<table border=\"1\" class=\"dataframe\">\n",
              "  <thead>\n",
              "    <tr style=\"text-align: right;\">\n",
              "      <th></th>\n",
              "      <th>0</th>\n",
              "      <th>1</th>\n",
              "      <th>2</th>\n",
              "      <th>3</th>\n",
              "      <th>4</th>\n",
              "      <th>5</th>\n",
              "      <th>6</th>\n",
              "      <th>7</th>\n",
              "      <th>8</th>\n",
              "      <th>9</th>\n",
              "      <th>...</th>\n",
              "      <th>9990</th>\n",
              "      <th>9991</th>\n",
              "      <th>9992</th>\n",
              "      <th>9993</th>\n",
              "      <th>9994</th>\n",
              "      <th>9995</th>\n",
              "      <th>9996</th>\n",
              "      <th>9997</th>\n",
              "      <th>9998</th>\n",
              "      <th>9999</th>\n",
              "    </tr>\n",
              "  </thead>\n",
              "  <tbody>\n",
              "    <tr>\n",
              "      <th>0</th>\n",
              "      <td>24.448724</td>\n",
              "      <td>23.771352</td>\n",
              "      <td>23.355344</td>\n",
              "      <td>24.365352</td>\n",
              "      <td>22.988211</td>\n",
              "      <td>23.893566</td>\n",
              "      <td>22.850759</td>\n",
              "      <td>24.027002</td>\n",
              "      <td>24.751859</td>\n",
              "      <td>24.235385</td>\n",
              "      <td>...</td>\n",
              "      <td>25.189425</td>\n",
              "      <td>24.528952</td>\n",
              "      <td>23.769480</td>\n",
              "      <td>23.752368</td>\n",
              "      <td>23.395553</td>\n",
              "      <td>23.631246</td>\n",
              "      <td>24.180408</td>\n",
              "      <td>23.731645</td>\n",
              "      <td>23.971045</td>\n",
              "      <td>24.366812</td>\n",
              "    </tr>\n",
              "    <tr>\n",
              "      <th>1</th>\n",
              "      <td>23.215085</td>\n",
              "      <td>23.543754</td>\n",
              "      <td>23.441305</td>\n",
              "      <td>24.181934</td>\n",
              "      <td>22.662548</td>\n",
              "      <td>23.823696</td>\n",
              "      <td>22.952698</td>\n",
              "      <td>25.112893</td>\n",
              "      <td>24.638118</td>\n",
              "      <td>24.040004</td>\n",
              "      <td>...</td>\n",
              "      <td>25.773020</td>\n",
              "      <td>24.326076</td>\n",
              "      <td>25.318860</td>\n",
              "      <td>24.226598</td>\n",
              "      <td>22.903231</td>\n",
              "      <td>23.233188</td>\n",
              "      <td>24.017224</td>\n",
              "      <td>24.601069</td>\n",
              "      <td>24.335074</td>\n",
              "      <td>23.465585</td>\n",
              "    </tr>\n",
              "    <tr>\n",
              "      <th>2</th>\n",
              "      <td>22.916013</td>\n",
              "      <td>22.829358</td>\n",
              "      <td>23.783496</td>\n",
              "      <td>24.456037</td>\n",
              "      <td>22.213193</td>\n",
              "      <td>24.128855</td>\n",
              "      <td>22.647931</td>\n",
              "      <td>24.533624</td>\n",
              "      <td>24.877169</td>\n",
              "      <td>23.612131</td>\n",
              "      <td>...</td>\n",
              "      <td>24.909671</td>\n",
              "      <td>23.741582</td>\n",
              "      <td>24.755255</td>\n",
              "      <td>24.018688</td>\n",
              "      <td>22.906218</td>\n",
              "      <td>22.853667</td>\n",
              "      <td>24.091632</td>\n",
              "      <td>24.033330</td>\n",
              "      <td>24.127229</td>\n",
              "      <td>23.770341</td>\n",
              "    </tr>\n",
              "    <tr>\n",
              "      <th>3</th>\n",
              "      <td>23.299526</td>\n",
              "      <td>22.447855</td>\n",
              "      <td>23.727135</td>\n",
              "      <td>23.939185</td>\n",
              "      <td>22.659154</td>\n",
              "      <td>24.247267</td>\n",
              "      <td>22.573099</td>\n",
              "      <td>24.911551</td>\n",
              "      <td>24.212931</td>\n",
              "      <td>23.167514</td>\n",
              "      <td>...</td>\n",
              "      <td>24.327085</td>\n",
              "      <td>22.936615</td>\n",
              "      <td>24.626781</td>\n",
              "      <td>24.675520</td>\n",
              "      <td>22.338648</td>\n",
              "      <td>22.443593</td>\n",
              "      <td>23.405247</td>\n",
              "      <td>23.294939</td>\n",
              "      <td>24.086355</td>\n",
              "      <td>22.371651</td>\n",
              "    </tr>\n",
              "    <tr>\n",
              "      <th>4</th>\n",
              "      <td>23.426188</td>\n",
              "      <td>22.311314</td>\n",
              "      <td>23.845206</td>\n",
              "      <td>22.651752</td>\n",
              "      <td>22.517632</td>\n",
              "      <td>24.674215</td>\n",
              "      <td>22.377356</td>\n",
              "      <td>24.459536</td>\n",
              "      <td>23.275076</td>\n",
              "      <td>23.232392</td>\n",
              "      <td>...</td>\n",
              "      <td>25.371924</td>\n",
              "      <td>22.414695</td>\n",
              "      <td>24.080789</td>\n",
              "      <td>26.496110</td>\n",
              "      <td>21.997864</td>\n",
              "      <td>22.489545</td>\n",
              "      <td>24.117258</td>\n",
              "      <td>23.209797</td>\n",
              "      <td>24.413493</td>\n",
              "      <td>21.946549</td>\n",
              "    </tr>\n",
              "    <tr>\n",
              "      <th>5</th>\n",
              "      <td>23.958198</td>\n",
              "      <td>22.448838</td>\n",
              "      <td>24.014917</td>\n",
              "      <td>22.850421</td>\n",
              "      <td>23.213544</td>\n",
              "      <td>25.207389</td>\n",
              "      <td>22.958248</td>\n",
              "      <td>24.660876</td>\n",
              "      <td>23.864287</td>\n",
              "      <td>23.602100</td>\n",
              "      <td>...</td>\n",
              "      <td>24.241895</td>\n",
              "      <td>22.431724</td>\n",
              "      <td>23.960513</td>\n",
              "      <td>25.924594</td>\n",
              "      <td>22.252248</td>\n",
              "      <td>22.390517</td>\n",
              "      <td>24.681902</td>\n",
              "      <td>23.183934</td>\n",
              "      <td>23.968563</td>\n",
              "      <td>22.710037</td>\n",
              "    </tr>\n",
              "    <tr>\n",
              "      <th>6</th>\n",
              "      <td>23.460407</td>\n",
              "      <td>21.818878</td>\n",
              "      <td>23.977333</td>\n",
              "      <td>22.543881</td>\n",
              "      <td>23.341966</td>\n",
              "      <td>25.713819</td>\n",
              "      <td>23.012270</td>\n",
              "      <td>24.715272</td>\n",
              "      <td>23.198848</td>\n",
              "      <td>23.160540</td>\n",
              "      <td>...</td>\n",
              "      <td>24.208738</td>\n",
              "      <td>22.045598</td>\n",
              "      <td>23.571803</td>\n",
              "      <td>25.245479</td>\n",
              "      <td>22.180376</td>\n",
              "      <td>22.940348</td>\n",
              "      <td>25.475919</td>\n",
              "      <td>23.562017</td>\n",
              "      <td>24.831278</td>\n",
              "      <td>23.559179</td>\n",
              "    </tr>\n",
              "    <tr>\n",
              "      <th>7</th>\n",
              "      <td>23.604905</td>\n",
              "      <td>20.765239</td>\n",
              "      <td>23.051340</td>\n",
              "      <td>22.101617</td>\n",
              "      <td>24.198696</td>\n",
              "      <td>24.640991</td>\n",
              "      <td>22.918542</td>\n",
              "      <td>24.900855</td>\n",
              "      <td>23.047083</td>\n",
              "      <td>23.030818</td>\n",
              "      <td>...</td>\n",
              "      <td>24.825989</td>\n",
              "      <td>22.397234</td>\n",
              "      <td>24.119263</td>\n",
              "      <td>25.533609</td>\n",
              "      <td>22.300514</td>\n",
              "      <td>24.240521</td>\n",
              "      <td>25.966188</td>\n",
              "      <td>24.195692</td>\n",
              "      <td>24.562669</td>\n",
              "      <td>23.757654</td>\n",
              "    </tr>\n",
              "    <tr>\n",
              "      <th>8</th>\n",
              "      <td>23.481582</td>\n",
              "      <td>20.522598</td>\n",
              "      <td>23.835752</td>\n",
              "      <td>23.087600</td>\n",
              "      <td>24.151400</td>\n",
              "      <td>24.353051</td>\n",
              "      <td>23.554127</td>\n",
              "      <td>25.138944</td>\n",
              "      <td>23.896952</td>\n",
              "      <td>22.699115</td>\n",
              "      <td>...</td>\n",
              "      <td>25.347238</td>\n",
              "      <td>22.358452</td>\n",
              "      <td>23.711331</td>\n",
              "      <td>26.160778</td>\n",
              "      <td>22.660815</td>\n",
              "      <td>23.475679</td>\n",
              "      <td>24.983239</td>\n",
              "      <td>24.334880</td>\n",
              "      <td>24.894500</td>\n",
              "      <td>23.767425</td>\n",
              "    </tr>\n",
              "    <tr>\n",
              "      <th>9</th>\n",
              "      <td>23.239254</td>\n",
              "      <td>20.758929</td>\n",
              "      <td>23.838741</td>\n",
              "      <td>23.064332</td>\n",
              "      <td>24.607476</td>\n",
              "      <td>23.955286</td>\n",
              "      <td>23.906724</td>\n",
              "      <td>25.697711</td>\n",
              "      <td>24.325060</td>\n",
              "      <td>22.600592</td>\n",
              "      <td>...</td>\n",
              "      <td>26.090958</td>\n",
              "      <td>22.689402</td>\n",
              "      <td>23.512413</td>\n",
              "      <td>25.935298</td>\n",
              "      <td>22.562873</td>\n",
              "      <td>22.191940</td>\n",
              "      <td>25.020487</td>\n",
              "      <td>25.131677</td>\n",
              "      <td>24.213115</td>\n",
              "      <td>23.388715</td>\n",
              "    </tr>\n",
              "    <tr>\n",
              "      <th>10</th>\n",
              "      <td>23.320242</td>\n",
              "      <td>21.205777</td>\n",
              "      <td>24.136132</td>\n",
              "      <td>23.021563</td>\n",
              "      <td>25.142738</td>\n",
              "      <td>24.129291</td>\n",
              "      <td>23.612667</td>\n",
              "      <td>24.769123</td>\n",
              "      <td>24.174056</td>\n",
              "      <td>23.038511</td>\n",
              "      <td>...</td>\n",
              "      <td>26.028810</td>\n",
              "      <td>23.406621</td>\n",
              "      <td>23.412418</td>\n",
              "      <td>25.888343</td>\n",
              "      <td>23.012121</td>\n",
              "      <td>22.023587</td>\n",
              "      <td>24.929140</td>\n",
              "      <td>25.090113</td>\n",
              "      <td>23.834047</td>\n",
              "      <td>22.964264</td>\n",
              "    </tr>\n",
              "    <tr>\n",
              "      <th>11</th>\n",
              "      <td>23.383268</td>\n",
              "      <td>20.376056</td>\n",
              "      <td>23.191002</td>\n",
              "      <td>24.328935</td>\n",
              "      <td>25.280403</td>\n",
              "      <td>24.464051</td>\n",
              "      <td>23.990152</td>\n",
              "      <td>24.965871</td>\n",
              "      <td>23.274786</td>\n",
              "      <td>22.694149</td>\n",
              "      <td>...</td>\n",
              "      <td>25.617066</td>\n",
              "      <td>22.925560</td>\n",
              "      <td>24.589915</td>\n",
              "      <td>26.401834</td>\n",
              "      <td>22.571398</td>\n",
              "      <td>21.624284</td>\n",
              "      <td>24.654482</td>\n",
              "      <td>25.686081</td>\n",
              "      <td>23.707989</td>\n",
              "      <td>22.241040</td>\n",
              "    </tr>\n",
              "    <tr>\n",
              "      <th>12</th>\n",
              "      <td>23.397780</td>\n",
              "      <td>20.535551</td>\n",
              "      <td>22.821132</td>\n",
              "      <td>24.607721</td>\n",
              "      <td>24.597361</td>\n",
              "      <td>24.933115</td>\n",
              "      <td>23.204518</td>\n",
              "      <td>24.922765</td>\n",
              "      <td>22.729519</td>\n",
              "      <td>23.159464</td>\n",
              "      <td>...</td>\n",
              "      <td>26.625433</td>\n",
              "      <td>22.878194</td>\n",
              "      <td>24.365615</td>\n",
              "      <td>26.545551</td>\n",
              "      <td>22.703816</td>\n",
              "      <td>21.505956</td>\n",
              "      <td>24.721042</td>\n",
              "      <td>25.167907</td>\n",
              "      <td>23.726050</td>\n",
              "      <td>23.173235</td>\n",
              "    </tr>\n",
              "    <tr>\n",
              "      <th>13</th>\n",
              "      <td>23.847165</td>\n",
              "      <td>21.158576</td>\n",
              "      <td>22.357691</td>\n",
              "      <td>25.103663</td>\n",
              "      <td>24.127729</td>\n",
              "      <td>24.467616</td>\n",
              "      <td>23.045426</td>\n",
              "      <td>25.176306</td>\n",
              "      <td>22.909671</td>\n",
              "      <td>23.163664</td>\n",
              "      <td>...</td>\n",
              "      <td>26.232474</td>\n",
              "      <td>23.039633</td>\n",
              "      <td>23.824707</td>\n",
              "      <td>27.017018</td>\n",
              "      <td>22.754282</td>\n",
              "      <td>21.331219</td>\n",
              "      <td>24.168309</td>\n",
              "      <td>25.917059</td>\n",
              "      <td>23.545574</td>\n",
              "      <td>22.940082</td>\n",
              "    </tr>\n",
              "    <tr>\n",
              "      <th>14</th>\n",
              "      <td>23.703939</td>\n",
              "      <td>21.770169</td>\n",
              "      <td>22.183204</td>\n",
              "      <td>25.190230</td>\n",
              "      <td>23.991443</td>\n",
              "      <td>24.612291</td>\n",
              "      <td>23.438790</td>\n",
              "      <td>24.823294</td>\n",
              "      <td>23.053461</td>\n",
              "      <td>22.807952</td>\n",
              "      <td>...</td>\n",
              "      <td>26.392276</td>\n",
              "      <td>23.753355</td>\n",
              "      <td>24.302896</td>\n",
              "      <td>26.824716</td>\n",
              "      <td>22.315969</td>\n",
              "      <td>21.428523</td>\n",
              "      <td>23.702456</td>\n",
              "      <td>25.867453</td>\n",
              "      <td>24.150343</td>\n",
              "      <td>22.960849</td>\n",
              "    </tr>\n",
              "    <tr>\n",
              "      <th>15</th>\n",
              "      <td>23.469992</td>\n",
              "      <td>21.563534</td>\n",
              "      <td>21.363699</td>\n",
              "      <td>25.041770</td>\n",
              "      <td>24.247624</td>\n",
              "      <td>25.017778</td>\n",
              "      <td>23.661483</td>\n",
              "      <td>25.316502</td>\n",
              "      <td>23.693583</td>\n",
              "      <td>23.316989</td>\n",
              "      <td>...</td>\n",
              "      <td>26.143083</td>\n",
              "      <td>24.331705</td>\n",
              "      <td>24.590055</td>\n",
              "      <td>26.857086</td>\n",
              "      <td>22.645288</td>\n",
              "      <td>21.616247</td>\n",
              "      <td>24.455294</td>\n",
              "      <td>25.711321</td>\n",
              "      <td>23.400579</td>\n",
              "      <td>22.763590</td>\n",
              "    </tr>\n",
              "    <tr>\n",
              "      <th>16</th>\n",
              "      <td>23.954679</td>\n",
              "      <td>21.431750</td>\n",
              "      <td>21.147180</td>\n",
              "      <td>25.103220</td>\n",
              "      <td>24.115797</td>\n",
              "      <td>25.426775</td>\n",
              "      <td>23.601846</td>\n",
              "      <td>25.096505</td>\n",
              "      <td>24.158300</td>\n",
              "      <td>22.997296</td>\n",
              "      <td>...</td>\n",
              "      <td>26.307022</td>\n",
              "      <td>25.321490</td>\n",
              "      <td>25.019192</td>\n",
              "      <td>27.246711</td>\n",
              "      <td>22.272900</td>\n",
              "      <td>22.161278</td>\n",
              "      <td>24.969345</td>\n",
              "      <td>25.577037</td>\n",
              "      <td>24.314243</td>\n",
              "      <td>23.086911</td>\n",
              "    </tr>\n",
              "    <tr>\n",
              "      <th>17</th>\n",
              "      <td>24.112973</td>\n",
              "      <td>21.213015</td>\n",
              "      <td>20.301794</td>\n",
              "      <td>25.507078</td>\n",
              "      <td>23.728436</td>\n",
              "      <td>25.272380</td>\n",
              "      <td>23.632935</td>\n",
              "      <td>24.871965</td>\n",
              "      <td>24.123564</td>\n",
              "      <td>22.501406</td>\n",
              "      <td>...</td>\n",
              "      <td>27.221075</td>\n",
              "      <td>24.938449</td>\n",
              "      <td>24.731484</td>\n",
              "      <td>27.399788</td>\n",
              "      <td>22.768549</td>\n",
              "      <td>22.502217</td>\n",
              "      <td>25.098539</td>\n",
              "      <td>25.194804</td>\n",
              "      <td>24.681165</td>\n",
              "      <td>22.291013</td>\n",
              "    </tr>\n",
              "    <tr>\n",
              "      <th>18</th>\n",
              "      <td>24.632857</td>\n",
              "      <td>20.365846</td>\n",
              "      <td>20.251914</td>\n",
              "      <td>24.755556</td>\n",
              "      <td>23.157005</td>\n",
              "      <td>24.914317</td>\n",
              "      <td>23.596674</td>\n",
              "      <td>25.202789</td>\n",
              "      <td>24.522081</td>\n",
              "      <td>22.833332</td>\n",
              "      <td>...</td>\n",
              "      <td>27.909979</td>\n",
              "      <td>24.379801</td>\n",
              "      <td>25.228282</td>\n",
              "      <td>26.738436</td>\n",
              "      <td>21.882565</td>\n",
              "      <td>22.073742</td>\n",
              "      <td>25.155449</td>\n",
              "      <td>25.041208</td>\n",
              "      <td>24.971180</td>\n",
              "      <td>21.510282</td>\n",
              "    </tr>\n",
              "    <tr>\n",
              "      <th>19</th>\n",
              "      <td>24.453231</td>\n",
              "      <td>20.821561</td>\n",
              "      <td>19.479443</td>\n",
              "      <td>26.352878</td>\n",
              "      <td>22.516155</td>\n",
              "      <td>25.331380</td>\n",
              "      <td>23.968566</td>\n",
              "      <td>25.595765</td>\n",
              "      <td>24.443649</td>\n",
              "      <td>22.154773</td>\n",
              "      <td>...</td>\n",
              "      <td>27.308496</td>\n",
              "      <td>24.752329</td>\n",
              "      <td>24.780837</td>\n",
              "      <td>26.466499</td>\n",
              "      <td>22.039927</td>\n",
              "      <td>21.774085</td>\n",
              "      <td>25.801548</td>\n",
              "      <td>24.080709</td>\n",
              "      <td>25.997142</td>\n",
              "      <td>22.506334</td>\n",
              "    </tr>\n",
              "    <tr>\n",
              "      <th>20</th>\n",
              "      <td>24.663089</td>\n",
              "      <td>20.528567</td>\n",
              "      <td>19.691946</td>\n",
              "      <td>25.740044</td>\n",
              "      <td>21.945085</td>\n",
              "      <td>25.076188</td>\n",
              "      <td>25.125046</td>\n",
              "      <td>24.531899</td>\n",
              "      <td>24.858369</td>\n",
              "      <td>22.197871</td>\n",
              "      <td>...</td>\n",
              "      <td>26.902746</td>\n",
              "      <td>24.156869</td>\n",
              "      <td>25.388921</td>\n",
              "      <td>26.858161</td>\n",
              "      <td>22.154513</td>\n",
              "      <td>21.226931</td>\n",
              "      <td>26.065630</td>\n",
              "      <td>24.643777</td>\n",
              "      <td>26.064263</td>\n",
              "      <td>21.612858</td>\n",
              "    </tr>\n",
              "    <tr>\n",
              "      <th>21</th>\n",
              "      <td>24.654551</td>\n",
              "      <td>20.387800</td>\n",
              "      <td>20.253369</td>\n",
              "      <td>25.650009</td>\n",
              "      <td>21.147584</td>\n",
              "      <td>25.061144</td>\n",
              "      <td>25.127414</td>\n",
              "      <td>24.584987</td>\n",
              "      <td>24.081174</td>\n",
              "      <td>21.955179</td>\n",
              "      <td>...</td>\n",
              "      <td>27.298832</td>\n",
              "      <td>24.513764</td>\n",
              "      <td>25.249526</td>\n",
              "      <td>28.117876</td>\n",
              "      <td>21.945917</td>\n",
              "      <td>21.592569</td>\n",
              "      <td>25.433186</td>\n",
              "      <td>24.321701</td>\n",
              "      <td>25.048630</td>\n",
              "      <td>20.975078</td>\n",
              "    </tr>\n",
              "    <tr>\n",
              "      <th>22</th>\n",
              "      <td>25.840408</td>\n",
              "      <td>21.211500</td>\n",
              "      <td>20.145639</td>\n",
              "      <td>26.164937</td>\n",
              "      <td>20.904704</td>\n",
              "      <td>24.678048</td>\n",
              "      <td>25.199283</td>\n",
              "      <td>25.375774</td>\n",
              "      <td>24.024467</td>\n",
              "      <td>21.691536</td>\n",
              "      <td>...</td>\n",
              "      <td>27.359858</td>\n",
              "      <td>24.050938</td>\n",
              "      <td>25.618549</td>\n",
              "      <td>27.629276</td>\n",
              "      <td>22.240513</td>\n",
              "      <td>21.069070</td>\n",
              "      <td>25.602918</td>\n",
              "      <td>23.979788</td>\n",
              "      <td>25.423678</td>\n",
              "      <td>21.110324</td>\n",
              "    </tr>\n",
              "    <tr>\n",
              "      <th>23</th>\n",
              "      <td>25.612111</td>\n",
              "      <td>21.070775</td>\n",
              "      <td>21.009491</td>\n",
              "      <td>25.177055</td>\n",
              "      <td>21.226908</td>\n",
              "      <td>25.349507</td>\n",
              "      <td>24.606449</td>\n",
              "      <td>25.755797</td>\n",
              "      <td>23.212598</td>\n",
              "      <td>20.912031</td>\n",
              "      <td>...</td>\n",
              "      <td>27.950110</td>\n",
              "      <td>23.746594</td>\n",
              "      <td>27.027184</td>\n",
              "      <td>27.546725</td>\n",
              "      <td>21.667525</td>\n",
              "      <td>20.532609</td>\n",
              "      <td>26.149895</td>\n",
              "      <td>24.237688</td>\n",
              "      <td>24.567505</td>\n",
              "      <td>20.998526</td>\n",
              "    </tr>\n",
              "    <tr>\n",
              "      <th>24</th>\n",
              "      <td>24.900840</td>\n",
              "      <td>21.730041</td>\n",
              "      <td>21.209771</td>\n",
              "      <td>24.100042</td>\n",
              "      <td>21.200624</td>\n",
              "      <td>25.389605</td>\n",
              "      <td>24.693207</td>\n",
              "      <td>26.197196</td>\n",
              "      <td>23.054833</td>\n",
              "      <td>20.568900</td>\n",
              "      <td>...</td>\n",
              "      <td>27.889083</td>\n",
              "      <td>23.582661</td>\n",
              "      <td>27.881289</td>\n",
              "      <td>28.241462</td>\n",
              "      <td>21.091154</td>\n",
              "      <td>20.936166</td>\n",
              "      <td>26.116985</td>\n",
              "      <td>24.437244</td>\n",
              "      <td>24.236524</td>\n",
              "      <td>21.115989</td>\n",
              "    </tr>\n",
              "    <tr>\n",
              "      <th>25</th>\n",
              "      <td>25.558336</td>\n",
              "      <td>21.951496</td>\n",
              "      <td>21.661555</td>\n",
              "      <td>24.088822</td>\n",
              "      <td>22.095420</td>\n",
              "      <td>26.002175</td>\n",
              "      <td>24.971398</td>\n",
              "      <td>25.363298</td>\n",
              "      <td>22.901240</td>\n",
              "      <td>20.105718</td>\n",
              "      <td>...</td>\n",
              "      <td>27.201313</td>\n",
              "      <td>23.289037</td>\n",
              "      <td>27.189180</td>\n",
              "      <td>29.494282</td>\n",
              "      <td>21.216137</td>\n",
              "      <td>20.849451</td>\n",
              "      <td>25.658691</td>\n",
              "      <td>25.410831</td>\n",
              "      <td>24.274387</td>\n",
              "      <td>20.772308</td>\n",
              "    </tr>\n",
              "    <tr>\n",
              "      <th>26</th>\n",
              "      <td>25.348643</td>\n",
              "      <td>22.254693</td>\n",
              "      <td>21.739993</td>\n",
              "      <td>23.496568</td>\n",
              "      <td>21.943556</td>\n",
              "      <td>25.521970</td>\n",
              "      <td>25.021050</td>\n",
              "      <td>26.155080</td>\n",
              "      <td>23.077991</td>\n",
              "      <td>19.554983</td>\n",
              "      <td>...</td>\n",
              "      <td>25.722828</td>\n",
              "      <td>23.495080</td>\n",
              "      <td>26.426636</td>\n",
              "      <td>29.931775</td>\n",
              "      <td>21.495931</td>\n",
              "      <td>20.919279</td>\n",
              "      <td>25.259650</td>\n",
              "      <td>25.747185</td>\n",
              "      <td>24.108085</td>\n",
              "      <td>20.587586</td>\n",
              "    </tr>\n",
              "    <tr>\n",
              "      <th>27</th>\n",
              "      <td>26.445825</td>\n",
              "      <td>21.359806</td>\n",
              "      <td>21.887497</td>\n",
              "      <td>23.352700</td>\n",
              "      <td>21.886014</td>\n",
              "      <td>24.759019</td>\n",
              "      <td>25.509645</td>\n",
              "      <td>26.070279</td>\n",
              "      <td>22.965817</td>\n",
              "      <td>18.970439</td>\n",
              "      <td>...</td>\n",
              "      <td>26.084188</td>\n",
              "      <td>22.498040</td>\n",
              "      <td>27.169238</td>\n",
              "      <td>31.194694</td>\n",
              "      <td>21.529805</td>\n",
              "      <td>20.307611</td>\n",
              "      <td>25.009811</td>\n",
              "      <td>24.976821</td>\n",
              "      <td>23.989336</td>\n",
              "      <td>20.167351</td>\n",
              "    </tr>\n",
              "    <tr>\n",
              "      <th>28</th>\n",
              "      <td>26.889004</td>\n",
              "      <td>21.228476</td>\n",
              "      <td>21.591630</td>\n",
              "      <td>23.113643</td>\n",
              "      <td>22.021862</td>\n",
              "      <td>24.944758</td>\n",
              "      <td>26.153765</td>\n",
              "      <td>26.660157</td>\n",
              "      <td>22.890488</td>\n",
              "      <td>19.125558</td>\n",
              "      <td>...</td>\n",
              "      <td>26.283241</td>\n",
              "      <td>22.192328</td>\n",
              "      <td>28.585791</td>\n",
              "      <td>30.737506</td>\n",
              "      <td>22.195072</td>\n",
              "      <td>20.313258</td>\n",
              "      <td>24.195965</td>\n",
              "      <td>24.225934</td>\n",
              "      <td>23.707324</td>\n",
              "      <td>20.264472</td>\n",
              "    </tr>\n",
              "    <tr>\n",
              "      <th>29</th>\n",
              "      <td>27.384292</td>\n",
              "      <td>21.383656</td>\n",
              "      <td>22.170979</td>\n",
              "      <td>23.697377</td>\n",
              "      <td>22.104938</td>\n",
              "      <td>24.185041</td>\n",
              "      <td>26.629510</td>\n",
              "      <td>27.654313</td>\n",
              "      <td>22.441051</td>\n",
              "      <td>19.738300</td>\n",
              "      <td>...</td>\n",
              "      <td>26.683712</td>\n",
              "      <td>21.878229</td>\n",
              "      <td>29.204177</td>\n",
              "      <td>31.847868</td>\n",
              "      <td>22.478585</td>\n",
              "      <td>20.464079</td>\n",
              "      <td>24.054919</td>\n",
              "      <td>24.509350</td>\n",
              "      <td>23.594249</td>\n",
              "      <td>21.001569</td>\n",
              "    </tr>\n",
              "    <tr>\n",
              "      <th>30</th>\n",
              "      <td>27.816286</td>\n",
              "      <td>21.681691</td>\n",
              "      <td>21.518062</td>\n",
              "      <td>23.620939</td>\n",
              "      <td>22.534059</td>\n",
              "      <td>24.106094</td>\n",
              "      <td>26.428515</td>\n",
              "      <td>27.854916</td>\n",
              "      <td>22.191895</td>\n",
              "      <td>19.495502</td>\n",
              "      <td>...</td>\n",
              "      <td>27.133574</td>\n",
              "      <td>21.476755</td>\n",
              "      <td>29.382385</td>\n",
              "      <td>31.779476</td>\n",
              "      <td>22.611404</td>\n",
              "      <td>20.452446</td>\n",
              "      <td>24.032333</td>\n",
              "      <td>23.463510</td>\n",
              "      <td>24.185641</td>\n",
              "      <td>21.127515</td>\n",
              "    </tr>\n",
              "    <tr>\n",
              "      <th>31</th>\n",
              "      <td>28.677830</td>\n",
              "      <td>22.428760</td>\n",
              "      <td>21.323763</td>\n",
              "      <td>23.397167</td>\n",
              "      <td>22.557249</td>\n",
              "      <td>24.058737</td>\n",
              "      <td>27.211686</td>\n",
              "      <td>28.484888</td>\n",
              "      <td>22.635130</td>\n",
              "      <td>19.551036</td>\n",
              "      <td>...</td>\n",
              "      <td>26.508701</td>\n",
              "      <td>20.896761</td>\n",
              "      <td>30.479439</td>\n",
              "      <td>32.060131</td>\n",
              "      <td>22.667582</td>\n",
              "      <td>20.990113</td>\n",
              "      <td>24.024918</td>\n",
              "      <td>23.809617</td>\n",
              "      <td>24.576866</td>\n",
              "      <td>21.198781</td>\n",
              "    </tr>\n",
              "    <tr>\n",
              "      <th>32</th>\n",
              "      <td>28.195196</td>\n",
              "      <td>21.717567</td>\n",
              "      <td>21.713731</td>\n",
              "      <td>23.891447</td>\n",
              "      <td>23.022505</td>\n",
              "      <td>24.699948</td>\n",
              "      <td>26.906693</td>\n",
              "      <td>27.971090</td>\n",
              "      <td>22.533321</td>\n",
              "      <td>19.675569</td>\n",
              "      <td>...</td>\n",
              "      <td>26.303846</td>\n",
              "      <td>20.788143</td>\n",
              "      <td>30.015456</td>\n",
              "      <td>31.777963</td>\n",
              "      <td>23.164446</td>\n",
              "      <td>21.368047</td>\n",
              "      <td>24.697146</td>\n",
              "      <td>24.059965</td>\n",
              "      <td>25.110956</td>\n",
              "      <td>21.383082</td>\n",
              "    </tr>\n",
              "    <tr>\n",
              "      <th>33</th>\n",
              "      <td>28.619378</td>\n",
              "      <td>22.386987</td>\n",
              "      <td>21.632133</td>\n",
              "      <td>23.892591</td>\n",
              "      <td>23.854309</td>\n",
              "      <td>24.404978</td>\n",
              "      <td>26.471511</td>\n",
              "      <td>28.640611</td>\n",
              "      <td>22.538666</td>\n",
              "      <td>19.192698</td>\n",
              "      <td>...</td>\n",
              "      <td>25.991479</td>\n",
              "      <td>21.212211</td>\n",
              "      <td>30.501055</td>\n",
              "      <td>32.534602</td>\n",
              "      <td>23.742175</td>\n",
              "      <td>21.351225</td>\n",
              "      <td>24.806231</td>\n",
              "      <td>23.861516</td>\n",
              "      <td>24.690941</td>\n",
              "      <td>21.584491</td>\n",
              "    </tr>\n",
              "    <tr>\n",
              "      <th>34</th>\n",
              "      <td>28.546135</td>\n",
              "      <td>21.779823</td>\n",
              "      <td>21.294713</td>\n",
              "      <td>24.682120</td>\n",
              "      <td>23.769420</td>\n",
              "      <td>25.510642</td>\n",
              "      <td>27.414612</td>\n",
              "      <td>28.032461</td>\n",
              "      <td>22.802398</td>\n",
              "      <td>19.530937</td>\n",
              "      <td>...</td>\n",
              "      <td>25.301544</td>\n",
              "      <td>21.207124</td>\n",
              "      <td>30.118792</td>\n",
              "      <td>32.080710</td>\n",
              "      <td>23.378478</td>\n",
              "      <td>20.761723</td>\n",
              "      <td>25.231959</td>\n",
              "      <td>24.498282</td>\n",
              "      <td>24.071384</td>\n",
              "      <td>21.476973</td>\n",
              "    </tr>\n",
              "    <tr>\n",
              "      <th>35</th>\n",
              "      <td>29.100240</td>\n",
              "      <td>21.527300</td>\n",
              "      <td>21.471822</td>\n",
              "      <td>25.144539</td>\n",
              "      <td>24.023500</td>\n",
              "      <td>24.642304</td>\n",
              "      <td>27.897366</td>\n",
              "      <td>27.136229</td>\n",
              "      <td>22.122940</td>\n",
              "      <td>19.774336</td>\n",
              "      <td>...</td>\n",
              "      <td>24.188031</td>\n",
              "      <td>20.816381</td>\n",
              "      <td>29.538657</td>\n",
              "      <td>32.646546</td>\n",
              "      <td>23.765121</td>\n",
              "      <td>21.070895</td>\n",
              "      <td>24.701173</td>\n",
              "      <td>24.046048</td>\n",
              "      <td>24.124719</td>\n",
              "      <td>21.915411</td>\n",
              "    </tr>\n",
              "    <tr>\n",
              "      <th>36</th>\n",
              "      <td>29.420475</td>\n",
              "      <td>21.785347</td>\n",
              "      <td>21.858134</td>\n",
              "      <td>23.798829</td>\n",
              "      <td>23.736419</td>\n",
              "      <td>24.039235</td>\n",
              "      <td>27.793871</td>\n",
              "      <td>26.629214</td>\n",
              "      <td>21.722011</td>\n",
              "      <td>20.019288</td>\n",
              "      <td>...</td>\n",
              "      <td>24.265488</td>\n",
              "      <td>20.145250</td>\n",
              "      <td>29.736201</td>\n",
              "      <td>32.924411</td>\n",
              "      <td>23.282641</td>\n",
              "      <td>20.691116</td>\n",
              "      <td>24.406592</td>\n",
              "      <td>24.215982</td>\n",
              "      <td>25.162157</td>\n",
              "      <td>21.964373</td>\n",
              "    </tr>\n",
              "    <tr>\n",
              "      <th>37</th>\n",
              "      <td>30.075543</td>\n",
              "      <td>21.218624</td>\n",
              "      <td>22.121051</td>\n",
              "      <td>25.111297</td>\n",
              "      <td>23.913195</td>\n",
              "      <td>24.424861</td>\n",
              "      <td>28.134350</td>\n",
              "      <td>26.847005</td>\n",
              "      <td>22.272758</td>\n",
              "      <td>20.114075</td>\n",
              "      <td>...</td>\n",
              "      <td>23.284471</td>\n",
              "      <td>20.463190</td>\n",
              "      <td>29.722569</td>\n",
              "      <td>32.899085</td>\n",
              "      <td>22.766471</td>\n",
              "      <td>20.406811</td>\n",
              "      <td>24.940603</td>\n",
              "      <td>24.258509</td>\n",
              "      <td>24.266759</td>\n",
              "      <td>22.203797</td>\n",
              "    </tr>\n",
              "    <tr>\n",
              "      <th>38</th>\n",
              "      <td>31.804385</td>\n",
              "      <td>22.004661</td>\n",
              "      <td>22.204860</td>\n",
              "      <td>24.733206</td>\n",
              "      <td>23.431644</td>\n",
              "      <td>24.597725</td>\n",
              "      <td>28.493329</td>\n",
              "      <td>26.662864</td>\n",
              "      <td>21.513382</td>\n",
              "      <td>19.877819</td>\n",
              "      <td>...</td>\n",
              "      <td>23.394758</td>\n",
              "      <td>19.919920</td>\n",
              "      <td>29.004101</td>\n",
              "      <td>33.244850</td>\n",
              "      <td>22.246895</td>\n",
              "      <td>20.404275</td>\n",
              "      <td>25.440033</td>\n",
              "      <td>24.326203</td>\n",
              "      <td>23.434242</td>\n",
              "      <td>22.918450</td>\n",
              "    </tr>\n",
              "    <tr>\n",
              "      <th>39</th>\n",
              "      <td>31.812879</td>\n",
              "      <td>21.685644</td>\n",
              "      <td>22.732773</td>\n",
              "      <td>24.328376</td>\n",
              "      <td>22.841999</td>\n",
              "      <td>22.896744</td>\n",
              "      <td>28.611395</td>\n",
              "      <td>28.133636</td>\n",
              "      <td>21.548828</td>\n",
              "      <td>20.172232</td>\n",
              "      <td>...</td>\n",
              "      <td>23.205840</td>\n",
              "      <td>19.755482</td>\n",
              "      <td>28.976497</td>\n",
              "      <td>33.046559</td>\n",
              "      <td>22.571038</td>\n",
              "      <td>20.207503</td>\n",
              "      <td>25.444623</td>\n",
              "      <td>24.229602</td>\n",
              "      <td>22.604541</td>\n",
              "      <td>23.236243</td>\n",
              "    </tr>\n",
              "    <tr>\n",
              "      <th>40</th>\n",
              "      <td>31.455495</td>\n",
              "      <td>21.701652</td>\n",
              "      <td>23.321135</td>\n",
              "      <td>24.110878</td>\n",
              "      <td>23.302710</td>\n",
              "      <td>23.009030</td>\n",
              "      <td>28.347363</td>\n",
              "      <td>27.853033</td>\n",
              "      <td>20.960167</td>\n",
              "      <td>19.925754</td>\n",
              "      <td>...</td>\n",
              "      <td>22.552547</td>\n",
              "      <td>19.935923</td>\n",
              "      <td>28.592560</td>\n",
              "      <td>31.728709</td>\n",
              "      <td>23.342332</td>\n",
              "      <td>20.649879</td>\n",
              "      <td>25.505059</td>\n",
              "      <td>23.797889</td>\n",
              "      <td>22.971660</td>\n",
              "      <td>23.344613</td>\n",
              "    </tr>\n",
              "  </tbody>\n",
              "</table>\n",
              "<p>41 rows × 10000 columns</p>\n",
              "</div>\n",
              "      <button class=\"colab-df-convert\" onclick=\"convertToInteractive('df-cf21c805-f3de-4548-9132-a974e9b1cf71')\"\n",
              "              title=\"Convert this dataframe to an interactive table.\"\n",
              "              style=\"display:none;\">\n",
              "        \n",
              "  <svg xmlns=\"http://www.w3.org/2000/svg\" height=\"24px\"viewBox=\"0 0 24 24\"\n",
              "       width=\"24px\">\n",
              "    <path d=\"M0 0h24v24H0V0z\" fill=\"none\"/>\n",
              "    <path d=\"M18.56 5.44l.94 2.06.94-2.06 2.06-.94-2.06-.94-.94-2.06-.94 2.06-2.06.94zm-11 1L8.5 8.5l.94-2.06 2.06-.94-2.06-.94L8.5 2.5l-.94 2.06-2.06.94zm10 10l.94 2.06.94-2.06 2.06-.94-2.06-.94-.94-2.06-.94 2.06-2.06.94z\"/><path d=\"M17.41 7.96l-1.37-1.37c-.4-.4-.92-.59-1.43-.59-.52 0-1.04.2-1.43.59L10.3 9.45l-7.72 7.72c-.78.78-.78 2.05 0 2.83L4 21.41c.39.39.9.59 1.41.59.51 0 1.02-.2 1.41-.59l7.78-7.78 2.81-2.81c.8-.78.8-2.07 0-2.86zM5.41 20L4 18.59l7.72-7.72 1.47 1.35L5.41 20z\"/>\n",
              "  </svg>\n",
              "      </button>\n",
              "      \n",
              "  <style>\n",
              "    .colab-df-container {\n",
              "      display:flex;\n",
              "      flex-wrap:wrap;\n",
              "      gap: 12px;\n",
              "    }\n",
              "\n",
              "    .colab-df-convert {\n",
              "      background-color: #E8F0FE;\n",
              "      border: none;\n",
              "      border-radius: 50%;\n",
              "      cursor: pointer;\n",
              "      display: none;\n",
              "      fill: #1967D2;\n",
              "      height: 32px;\n",
              "      padding: 0 0 0 0;\n",
              "      width: 32px;\n",
              "    }\n",
              "\n",
              "    .colab-df-convert:hover {\n",
              "      background-color: #E2EBFA;\n",
              "      box-shadow: 0px 1px 2px rgba(60, 64, 67, 0.3), 0px 1px 3px 1px rgba(60, 64, 67, 0.15);\n",
              "      fill: #174EA6;\n",
              "    }\n",
              "\n",
              "    [theme=dark] .colab-df-convert {\n",
              "      background-color: #3B4455;\n",
              "      fill: #D2E3FC;\n",
              "    }\n",
              "\n",
              "    [theme=dark] .colab-df-convert:hover {\n",
              "      background-color: #434B5C;\n",
              "      box-shadow: 0px 1px 3px 1px rgba(0, 0, 0, 0.15);\n",
              "      filter: drop-shadow(0px 1px 2px rgba(0, 0, 0, 0.3));\n",
              "      fill: #FFFFFF;\n",
              "    }\n",
              "  </style>\n",
              "\n",
              "      <script>\n",
              "        const buttonEl =\n",
              "          document.querySelector('#df-cf21c805-f3de-4548-9132-a974e9b1cf71 button.colab-df-convert');\n",
              "        buttonEl.style.display =\n",
              "          google.colab.kernel.accessAllowed ? 'block' : 'none';\n",
              "\n",
              "        async function convertToInteractive(key) {\n",
              "          const element = document.querySelector('#df-cf21c805-f3de-4548-9132-a974e9b1cf71');\n",
              "          const dataTable =\n",
              "            await google.colab.kernel.invokeFunction('convertToInteractive',\n",
              "                                                     [key], {});\n",
              "          if (!dataTable) return;\n",
              "\n",
              "          const docLinkHtml = 'Like what you see? Visit the ' +\n",
              "            '<a target=\"_blank\" href=https://colab.research.google.com/notebooks/data_table.ipynb>data table notebook</a>'\n",
              "            + ' to learn more about interactive tables.';\n",
              "          element.innerHTML = '';\n",
              "          dataTable['output_type'] = 'display_data';\n",
              "          await google.colab.output.renderOutput(dataTable, element);\n",
              "          const docLink = document.createElement('div');\n",
              "          docLink.innerHTML = docLinkHtml;\n",
              "          element.appendChild(docLink);\n",
              "        }\n",
              "      </script>\n",
              "    </div>\n",
              "  </div>\n",
              "  "
            ]
          },
          "metadata": {},
          "execution_count": 18
        }
      ]
    },
    {
      "cell_type": "code",
      "source": [
        "final = simulation_df.iloc[-1]\n",
        "final"
      ],
      "metadata": {
        "colab": {
          "base_uri": "https://localhost:8080/"
        },
        "id": "wyBbOXM36-kc",
        "outputId": "5b645efa-07c4-457c-d813-477b6d0ff4e9"
      },
      "execution_count": null,
      "outputs": [
        {
          "output_type": "execute_result",
          "data": {
            "text/plain": [
              "0       31.455495\n",
              "1       21.701652\n",
              "2       23.321135\n",
              "3       24.110878\n",
              "4       23.302710\n",
              "          ...    \n",
              "9995    20.649879\n",
              "9996    25.505059\n",
              "9997    23.797889\n",
              "9998    22.971660\n",
              "9999    23.344613\n",
              "Name: 40, Length: 10000, dtype: float64"
            ]
          },
          "metadata": {},
          "execution_count": 19
        }
      ]
    },
    {
      "cell_type": "code",
      "source": [
        "final.max()"
      ],
      "metadata": {
        "colab": {
          "base_uri": "https://localhost:8080/"
        },
        "id": "rX3w3TuODBjL",
        "outputId": "ad4964e6-69b2-4542-ab38-0147c1a844fa"
      },
      "execution_count": null,
      "outputs": [
        {
          "output_type": "execute_result",
          "data": {
            "text/plain": [
              "38.80801794175029"
            ]
          },
          "metadata": {},
          "execution_count": 20
        }
      ]
    },
    {
      "cell_type": "code",
      "source": [
        "final.min()"
      ],
      "metadata": {
        "colab": {
          "base_uri": "https://localhost:8080/"
        },
        "id": "f5xFr8bxDFAf",
        "outputId": "60bf1887-2193-43b0-9bca-498d50f8e87c"
      },
      "execution_count": null,
      "outputs": [
        {
          "output_type": "execute_result",
          "data": {
            "text/plain": [
              "13.045241930781577"
            ]
          },
          "metadata": {},
          "execution_count": 21
        }
      ]
    },
    {
      "cell_type": "code",
      "source": [
        "average = np.mean(final)\n",
        "\n",
        "std = np.std(final)\n",
        "average, std"
      ],
      "metadata": {
        "colab": {
          "base_uri": "https://localhost:8080/"
        },
        "id": "XOCY8emb50nB",
        "outputId": "13b7f98b-1b64-45a8-c70a-50446dea5072"
      },
      "execution_count": null,
      "outputs": [
        {
          "output_type": "execute_result",
          "data": {
            "text/plain": [
              "(23.951004489714542, 3.480190676606934)"
            ]
          },
          "metadata": {},
          "execution_count": 26
        }
      ]
    },
    {
      "cell_type": "code",
      "source": [
        "#kdeplot using seaborn library\n",
        "sns.kdeplot(final, shade = True)\n"
      ],
      "metadata": {
        "colab": {
          "base_uri": "https://localhost:8080/",
          "height": 297
        },
        "id": "-xtWJwiTB6Vf",
        "outputId": "c1c6df00-bfaf-478a-98e6-ee39717428da"
      },
      "execution_count": null,
      "outputs": [
        {
          "output_type": "execute_result",
          "data": {
            "text/plain": [
              "<matplotlib.axes._subplots.AxesSubplot at 0x7ff65c1869a0>"
            ]
          },
          "metadata": {},
          "execution_count": 22
        },
        {
          "output_type": "display_data",
          "data": {
            "text/plain": [
              "<Figure size 432x288 with 1 Axes>"
            ],
            "image/png": "[encoded data removed]"
          },
          "metadata": {
            "needs_background": "light"
          }
        }
      ]
    },
    {
      "cell_type": "code",
      "source": [
        "\n",
        "#for cdf instead of usual pdf, use this instead\n",
        "sns.kdeplot(final, cumulative=True)"
      ],
      "metadata": {
        "colab": {
          "base_uri": "https://localhost:8080/",
          "height": 297
        },
        "id": "KxnqikU2EJws",
        "outputId": "f99e4902-c67b-40de-9f32-9827a15b1bfb"
      },
      "execution_count": null,
      "outputs": [
        {
          "output_type": "execute_result",
          "data": {
            "text/plain": [
              "<matplotlib.axes._subplots.AxesSubplot at 0x7f5fe0368190>"
            ]
          },
          "metadata": {},
          "execution_count": 23
        },
        {
          "output_type": "display_data",
          "data": {
            "image/png": "[encoded data removed]",
            "text/plain": [
              "<Figure size 432x288 with 1 Axes>"
            ]
          },
          "metadata": {
            "needs_background": "light"
          }
        }
      ]
    },
    {
      "cell_type": "code",
      "source": [
        "#bins_desired = [0,80,160,240,320,400,480,560,640,720]\n",
        "bins_desired = [0,40,80,120,160,200,240,280,320,360,400,480, 520, 560, 600, 640, 680, 720]\n",
        "\n",
        "plt.hist(final, bins = bins_desired, edgecolor = 'red')"
      ],
      "metadata": {
        "colab": {
          "base_uri": "https://localhost:8080/",
          "height": 378
        },
        "id": "yhjZFBG_9QeZ",
        "outputId": "200bfaaf-9784-4f47-89a0-40bab7b26857"
      },
      "execution_count": null,
      "outputs": [
        {
          "output_type": "execute_result",
          "data": {
            "text/plain": [
              "(array([2.000e+00, 5.430e+02, 2.276e+03, 2.863e+03, 2.128e+03, 1.128e+03,\n",
              "        5.830e+02, 2.580e+02, 1.150e+02, 4.800e+01, 4.700e+01, 6.000e+00,\n",
              "        1.000e+00, 1.000e+00, 1.000e+00, 0.000e+00, 0.000e+00]),\n",
              " array([  0,  40,  80, 120, 160, 200, 240, 280, 320, 360, 400, 480, 520,\n",
              "        560, 600, 640, 680, 720]),\n",
              " <a list of 17 Patch objects>)"
            ]
          },
          "metadata": {},
          "execution_count": 19
        },
        {
          "output_type": "display_data",
          "data": {
            "image/png": "[encoded data removed]",
            "text/plain": [
              "<Figure size 432x288 with 1 Axes>"
            ]
          },
          "metadata": {
            "needs_background": "light"
          }
        }
      ]
    },
    {
      "cell_type": "code",
      "source": [
        "counter_less140 = final[final<last_price]\n",
        "counter_less140\n",
        "prob = len(counter_less140) / trials \n",
        "print(prob)"
      ],
      "metadata": {
        "colab": {
          "base_uri": "https://localhost:8080/"
        },
        "id": "mFUpEdqXDfCY",
        "outputId": "6536f0cf-39ec-4f52-82c9-038afcec22bb"
      },
      "execution_count": null,
      "outputs": [
        {
          "output_type": "stream",
          "name": "stdout",
          "text": [
            "0.57\n"
          ]
        }
      ]
    },
    {
      "cell_type": "code",
      "source": [
        "time_value = last_price* 1.02\n",
        "print(len(final[final<time_value])/trials)"
      ],
      "metadata": {
        "colab": {
          "base_uri": "https://localhost:8080/"
        },
        "id": "24zGtNBPGxrx",
        "outputId": "5192c996-88e3-4d1c-e771-80d76db98064"
      },
      "execution_count": null,
      "outputs": [
        {
          "output_type": "stream",
          "name": "stdout",
          "text": [
            "0.5924\n"
          ]
        }
      ]
    },
    {
      "cell_type": "code",
      "source": [
        "#Box Müller Method\n",
        "import numpy as np\n",
        "import pandas as pd\n",
        "import matplotlib.pyplot as plt\n",
        "np.random.seed(521)\n",
        "U1 = np.random.uniform(size = 10000)\n",
        "U2 = np.random.uniform(size = 10000)\n",
        "R = np.sqrt(-2 * np.log(U1))\n",
        "Theta = 2 * np.pi * U2\n",
        "X = R * np.cos(Theta)\n",
        "Y = R * np.sin(Theta)\n",
        "#sns.kdeplot(X)\n",
        "#sns.kdeplot(Y)\n",
        "fig,(ax1,ax2) = plt.subplots(1,2)\n",
        "temp = ax1.hist(X)\n",
        "ax1.set_title(\"X\")\n",
        "temp = ax2.hist(Y)\n",
        "ax2.set_title(\"Y\")\n",
        "plt.show()"
      ],
      "metadata": {
        "colab": {
          "base_uri": "https://localhost:8080/",
          "height": 265
        },
        "id": "uzeZiNUwLKqv",
        "outputId": "efb98e3f-1ad9-4cac-fc7d-0e7a99efbaee"
      },
      "execution_count": null,
      "outputs": [
        {
          "output_type": "display_data",
          "data": {
            "image/png": "[encoded data removed]",
            "text/plain": [
              "<Figure size 432x288 with 1 Axes>"
            ]
          },
          "metadata": {
            "needs_background": "light"
          }
        }
      ]
    },
    {
      "cell_type": "code",
      "source": [
        "\n",
        "from itertools import zip_longest\n",
        "from math import pi, sqrt, factorial\n",
        "from typing import List, Union\n",
        "import numpy as np\n",
        "\n",
        "\n",
        "class InverseCDF:\n",
        "    def __init__(self, degree: int) -> None:\n",
        "        \"\"\"\n",
        "        Store Taylor series coefficients of erfinv\n",
        "        :param degree: highest power of the Taylor series (one less than the number of terms due to constant term)\n",
        "        \"\"\"\n",
        "        self.taylor_coeffs = self.get_taylor_coeffs(n_terms=degree + 1)\n",
        "\n",
        "    def update_P(self, P: List[int], n: int) -> List[int]:\n",
        "        \"\"\"\n",
        "        Update polynomial for each term of Taylor series approximation of erfinv\n",
        "        :param P: polynomial of previous power (one less than current power)\n",
        "        :param n: power of current term\n",
        "        :return: polynomial of current power term\n",
        "        \"\"\"\n",
        "        EP = [0] + P\n",
        "        two_nEP = [2 * n * coeff for coeff in EP]\n",
        "        dP = [power * coeff for power, coeff in enumerate(P)][1:]\n",
        "        updated_P = [two_nEP_coeff + dP_coeff for two_nEP_coeff, dP_coeff in zip_longest(two_nEP, dP, fillvalue=0)]\n",
        "        return updated_P\n",
        "\n",
        "    def get_taylor_coeffs(self, n_terms: int) -> List[float]:\n",
        "        \"\"\"\n",
        "        Get coefficients of Taylor series approximation for erfinv (up to specified number of terms)\n",
        "        :param n_terms: number of terms of Taylor series\n",
        "        :return: list of Taylor series coefficients matching number of terms\n",
        "        \"\"\"\n",
        "        taylor_coeffs = [0, sqrt(pi) / 2]  # First two coefficients\n",
        "\n",
        "        if n_terms <= 2:\n",
        "            return taylor_coeffs[:n_terms]\n",
        "        else:\n",
        "            P = [0, 2]  # Polynomial of second derivative\n",
        "            dE = sqrt(pi) / 2  # First derivative at x = 0\n",
        "\n",
        "            # Find Taylor coefficient for each term from x^2 onwards\n",
        "            for n in range(2, n_terms):\n",
        "                P_const = P[0]\n",
        "                taylor_coeff = (dE ** n * P_const) / factorial(n)\n",
        "                P = self.update_P(P, n)\n",
        "                taylor_coeffs.append(taylor_coeff)\n",
        "            return taylor_coeffs\n",
        "\n",
        "    def calculate_sample(self, A: Union[float, np.array]) -> Union[float, np.array]:\n",
        "        \"\"\"\n",
        "        Return Gaussian sample(s) from sampled left-side area(s)\n",
        "        :param A: sampled left-side area(s), can be a single float or a numpy float array\n",
        "        :return: Gaussian sample(s) from applying inverse CDF to sampled area(s), can be single float or numpy float array\n",
        "        \"\"\"\n",
        "        sample = sqrt(2) * sum(coeff * (2*A-1)**power for power, coeff in enumerate(self.taylor_coeffs))\n",
        "        return sample"
      ],
      "metadata": {
        "id": "lEMSseoEOOLj"
      },
      "execution_count": null,
      "outputs": []
    },
    {
      "cell_type": "code",
      "source": [
        "# Step 1: Sample 1000 independent left-side areas\n",
        "# (independently for x and y coordinates)\n",
        "area_xs = np.random.RandomState(seed=42).uniform(size=1000)\n",
        "area_ys = np.random.RandomState(seed=24).uniform(size=1000)\n",
        "\n",
        "# Step 2: Apply 21-degree Taylor series approximation of inverse Gaussian CDF\n",
        "invcdf21 = InverseCDF(degree=21)\n",
        "\n",
        "# Step 3: Generate Gaussian samples for x and y coordinates\n",
        "gaussian_xs = invcdf21.calculate_sample(area_xs) # array([-0.31985238,  1.6399258 ,  0.61885465, ...])\n",
        "gaussian_ys = invcdf21.calculate_sample(area_ys) # array([ 1.72888778,  0.522997633,  2.27867102, ...])\n",
        "plt.hist(gaussian_xs, bins=30)\n",
        "plt.hist(gaussian_ys, bins = 45)"
      ],
      "metadata": {
        "colab": {
          "base_uri": "https://localhost:8080/",
          "height": 525
        },
        "id": "D_lzAPlAOfQ4",
        "outputId": "d9085aeb-93e5-44f8-c549-093d23fef7e4"
      },
      "execution_count": null,
      "outputs": [
        {
          "output_type": "execute_result",
          "data": {
            "text/plain": [
              "(array([ 4., 15.,  6.,  5., 10.,  5., 10., 16., 13., 15., 18., 15., 23.,\n",
              "        22., 29., 32., 35., 42., 39., 45., 40., 39., 32., 31., 42., 42.,\n",
              "        40., 40., 33., 28., 28., 24., 21., 21., 24., 20., 16., 18.,  6.,\n",
              "         6.,  8.,  9., 12.,  7., 14.]),\n",
              " array([-2.27705155, -2.17581327, -2.07457499, -1.97333671, -1.87209843,\n",
              "        -1.77086015, -1.66962187, -1.56838359, -1.46714532, -1.36590704,\n",
              "        -1.26466876, -1.16343048, -1.0621922 , -0.96095392, -0.85971564,\n",
              "        -0.75847736, -0.65723908, -0.5560008 , -0.45476252, -0.35352424,\n",
              "        -0.25228596, -0.15104769, -0.04980941,  0.05142887,  0.15266715,\n",
              "         0.25390543,  0.35514371,  0.45638199,  0.55762027,  0.65885855,\n",
              "         0.76009683,  0.86133511,  0.96257339,  1.06381167,  1.16504994,\n",
              "         1.26628822,  1.3675265 ,  1.46876478,  1.57000306,  1.67124134,\n",
              "         1.77247962,  1.8737179 ,  1.97495618,  2.07619446,  2.17743274,\n",
              "         2.27867102]),\n",
              " <a list of 45 Patch objects>)"
            ]
          },
          "metadata": {},
          "execution_count": 6
        },
        {
          "output_type": "display_data",
          "data": {
            "image/png": "[encoded data removed]",
            "text/plain": [
              "<Figure size 432x288 with 1 Axes>"
            ]
          },
          "metadata": {
            "needs_background": "light"
          }
        }
      ]
    },
    {
      "cell_type": "code",
      "source": [
        "#marsaglia polar method youtube channel StatMonteCarlo\n",
        "\n",
        "import numpy as np\n",
        "import numpy.random as rd\n",
        "from scipy import stats\n",
        "import matplotlib.pyplot as plt\n",
        "\n",
        "def f(u1, R_sq):\n",
        "  return u1 * np.sqrt(-2*np.log(R_sq) / R_sq)\n",
        "\n",
        "def sim(N):\n",
        "  out = np.zeros(N)\n",
        "  for i in range(N):\n",
        "    R_sq = 2\n",
        "    while R_sq > 1:\n",
        "      u1 = rd.uniform(-1,1)\n",
        "      u2 = rd.uniform(-1,1)\n",
        "      R_sq = u1**2 + u2**2\n",
        "    X = f(u1, R_sq)\n",
        "    out[i] = X\n",
        "  return out\n",
        "\n",
        "\n",
        "#plot\n",
        "X = sim(10**5)\n",
        "plt.figure()\n",
        "plt.hist(X, bins=100, density=True)\n",
        "xx=np.linspace(-3,3,100)\n",
        "plt.plot(xx,stats.norm.pdf(xx))\n"
      ],
      "metadata": {
        "colab": {
          "base_uri": "https://localhost:8080/",
          "height": 282
        },
        "id": "y7BUvzhAaeRm",
        "outputId": "610f2f74-6662-4a29-bd7b-360f0310a65c"
      },
      "execution_count": null,
      "outputs": [
        {
          "output_type": "execute_result",
          "data": {
            "text/plain": [
              "[<matplotlib.lines.Line2D at 0x7f002d9656d0>]"
            ]
          },
          "metadata": {},
          "execution_count": 16
        },
        {
          "output_type": "display_data",
          "data": {
            "image/png": "[encoded data removed]",
            "text/plain": [
              "<Figure size 432x288 with 1 Axes>"
            ]
          },
          "metadata": {
            "needs_background": "light"
          }
        }
      ]
    },
    {
      "cell_type": "code",
      "source": [
        "#Box Müller Method _ Youtube channel StatMonteCarlo\n",
        "\n",
        "import numpy as np\n",
        "import numpy.random as rd\n",
        "from scipy import stats\n",
        "import matplotlib.pyplot as plt\n",
        "\n",
        "def fcos(theta, E):\n",
        "  #return [np.cos(theta), np.sin(theta)] * np.sqrt(2*E)\n",
        "  return np.cos(theta) * np.sqrt(2*E)\n",
        "  \n",
        "\n",
        "def BoxMuller(N, mu = 0, sigma = 1 ):\n",
        "  out = np.zeros(N)\n",
        "  for j in range(N):\n",
        "    theta = rd.uniform(low = 0, high = 2*np.pi, size = 1)\n",
        "    E = rd.exponential(scale = 1/1, size = 1)\n",
        "    Y = fcos(theta,E)\n",
        "    out[j] = mu + Y* sigma\n",
        "  return out\n",
        "plt.figure()\n",
        "Y = BoxMuller(10**5)\n",
        "plt.hist(Y, bins=100, density=True)\n",
        "xd=np.linspace(-3,3,100)\n",
        "plt.plot(xd,stats.norm.pdf(xd))\n",
        "#for distribution with mean unequal to 0 and sigma unequal to 1, run the phi module\n",
        "#and use the following code to plot the outline instead for mean 5 and sigma 2\n",
        "#plt.plot(xd,phi(xd,5,2))\n"
      ],
      "metadata": {
        "colab": {
          "base_uri": "https://localhost:8080/",
          "height": 282
        },
        "id": "zoDloVt5awui",
        "outputId": "405009ea-4967-4712-a7ae-0ada74e1ef16"
      },
      "execution_count": null,
      "outputs": [
        {
          "output_type": "execute_result",
          "data": {
            "text/plain": [
              "[<matplotlib.lines.Line2D at 0x7effe92de1d0>]"
            ]
          },
          "metadata": {},
          "execution_count": 21
        },
        {
          "output_type": "display_data",
          "data": {
            "image/png": "[encoded data removed]",
            "text/plain": [
              "<Figure size 432x288 with 1 Axes>"
            ]
          },
          "metadata": {
            "needs_background": "light"
          }
        }
      ]
    },
    {
      "cell_type": "code",
      "source": [
        "#characteristics function for arbitrary mu and sigma for normal distribution\n",
        "\n",
        "def phi(X, mu, sigma):\n",
        "  return 1/np.sqrt(2*np.pi*sigma**2)*np.exp(-(x-mu)**2/(2*sigma**2))"
      ],
      "metadata": {
        "id": "4tULSSkEfqLz"
      },
      "execution_count": null,
      "outputs": []
    },
    {
      "cell_type": "code",
      "source": [
        "#Linear Congruential Generator\n",
        "\n",
        "def LCG(N,S):\n",
        "  a = 7**5\n",
        "  M = 2**31-1\n",
        "\n",
        "  def fn(S):\n",
        "    return (a*S) % M\n",
        "\n",
        "  U = []\n",
        "\n",
        "  for k in range(N):\n",
        "    S = fn(S)\n",
        "    U += [S/M]\n",
        "\n",
        "  return U\n",
        "\n",
        "U = LCG(10**6, 123)\n",
        "\n",
        "import matplotlib.pyplot as plt\n",
        "import numpy as np\n",
        "\n",
        "X = -np.log(U)/5\n",
        "\n",
        "plt.figure ()\n",
        "plt.hist(X, bins = 50, density=True)\n",
        "\n",
        "def f(x):\n",
        "  return 5* np.exp(-x*5)\n",
        "\n",
        "xx = np.linspace (0,10,200)\n",
        "\n",
        "plt.plot(xx, f(xx))\n"
      ],
      "metadata": {
        "colab": {
          "base_uri": "https://localhost:8080/",
          "height": 282
        },
        "id": "tUGKcFyBkm9o",
        "outputId": "f785324f-774c-40d4-b256-84a5e2fe6e1e"
      },
      "execution_count": null,
      "outputs": [
        {
          "output_type": "execute_result",
          "data": {
            "text/plain": [
              "[<matplotlib.lines.Line2D at 0x7effe6684a50>]"
            ]
          },
          "metadata": {},
          "execution_count": 31
        },
        {
          "output_type": "display_data",
          "data": {
            "image/png": "[encoded data removed]",
            "text/plain": [
              "<Figure size 432x288 with 1 Axes>"
            ]
          },
          "metadata": {
            "needs_background": "light"
          }
        }
      ]
    },
    {
      "cell_type": "code",
      "source": [
        "\n",
        "plt.hist(U, bins = 10, density=True)\n"
      ],
      "metadata": {
        "colab": {
          "base_uri": "https://localhost:8080/",
          "height": 369
        },
        "id": "JCCzjIaDnjEL",
        "outputId": "3941de60-747f-4391-9da9-383435faddaf"
      },
      "execution_count": null,
      "outputs": [
        {
          "output_type": "execute_result",
          "data": {
            "text/plain": [
              "(array([1.00515042, 0.99472042, 0.99209042, 0.99936042, 1.00343042,\n",
              "        1.00264042, 0.99967042, 0.99622042, 1.00273042, 1.00399042]),\n",
              " array([1.29453838e-07, 1.00000088e-01, 2.00000046e-01, 3.00000004e-01,\n",
              "        3.99999962e-01, 4.99999920e-01, 5.99999878e-01, 6.99999836e-01,\n",
              "        7.99999794e-01, 8.99999752e-01, 9.99999710e-01]),\n",
              " <a list of 10 Patch objects>)"
            ]
          },
          "metadata": {},
          "execution_count": 32
        },
        {
          "output_type": "display_data",
          "data": {
            "image/png": "[encoded data removed]",
            "text/plain": [
              "<Figure size 432x288 with 1 Axes>"
            ]
          },
          "metadata": {
            "needs_background": "light"
          }
        }
      ]
    },
    {
      "cell_type": "code",
      "source": [
        "#fibonacci method for uniformly distributed random number\n",
        "\n",
        "\n",
        "# parameter settings\n",
        "nn   = 18\n",
        "a    = 1366\n",
        "b    = 150889\n",
        "M    = 714025\n",
        "seed = 1234567\n",
        "n    = 10000\n",
        "yy[0]   = 1234567\n",
        "i    = 1\n",
        "\n",
        "# Main computation\n",
        "while i <= nn:\n",
        "    yy.append = (a * yy[i - 1] + b) % M)\n",
        "    i  = i + 1\n",
        "\n",
        "y = yy/M\n",
        "i = 19\n",
        "\n",
        "while i <= n + 18:\n",
        "    zeta = y[i - 17] - y[i - 5]\n",
        "    if zeta < 0:\n",
        "        zeta = zeta + 1\n",
        "    \n",
        "    y[i] = zeta\n",
        "    i = i + 1\n",
        "\n",
        "y   = y[19:n + 18]\n",
        "n1  = n - 2\n",
        "n2  = n - 1\n",
        "dat = c(y[1:n1], y[2:n2])\n",
        "\n",
        "# Plot\n",
        "plot(y[1:n1], y[2:n2], type = \"p\", pch = 20, xlab = expression(U[i - 1]), ylab = expression(U[i]), \n",
        "    xaxp = c(0, 1, 10), yaxp = c(0, 1, 10), xlim = c(0, 1), ylim = c(0, 1))\n"
      ],
      "metadata": {
        "id": "hIMYX29Zooow",
        "colab": {
          "base_uri": "https://localhost:8080/",
          "height": 134
        },
        "outputId": "43991689-9a32-4508-accc-317f40e7358b"
      },
      "execution_count": null,
      "outputs": [
        {
          "output_type": "error",
          "ename": "SyntaxError",
          "evalue": "ignored",
          "traceback": [
            "\u001b[0;36m  File \u001b[0;32m\"<ipython-input-1-eb93194eca34>\"\u001b[0;36m, line \u001b[0;32m16\u001b[0m\n\u001b[0;31m    yy.append = (a * yy[i - 1] + b) % M)\u001b[0m\n\u001b[0m                                       ^\u001b[0m\n\u001b[0;31mSyntaxError\u001b[0m\u001b[0;31m:\u001b[0m invalid syntax\n"
          ]
        }
      ]
    },
    {
      "cell_type": "code",
      "source": [
        "# Inverse method\n",
        "# Ndtri : Returns the argument x for which the area under the Gaussian probability density function (integrated from minus infinity to x) is equal to y.\n",
        "\n",
        "from scipy.special import ndtri\n",
        "ndtri(0.95)\n"
      ],
      "metadata": {
        "colab": {
          "base_uri": "https://localhost:8080/"
        },
        "id": "Zp6GezN-xzyf",
        "outputId": "7b4ed7b2-718e-4b80-8b64-d966409cd866"
      },
      "execution_count": null,
      "outputs": [
        {
          "output_type": "execute_result",
          "data": {
            "text/plain": [
              "1.6448536269514722"
            ]
          },
          "metadata": {},
          "execution_count": 33
        }
      ]
    }
  ]
}