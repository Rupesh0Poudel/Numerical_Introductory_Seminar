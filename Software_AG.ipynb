{
  "nbformat": 4,
  "nbformat_minor": 0,
  "metadata": {
    "colab": {
      "provenance": [],
      "authorship_tag": "ABX9TyOBO6Y+rcFoMhmYeYgxa7R8",
      "include_colab_link": true
    },
    "kernelspec": {
      "name": "python3",
      "display_name": "Python 3"
    },
    "language_info": {
      "name": "python"
    }
  },
  "cells": [
    {
      "cell_type": "markdown",
      "metadata": {
        "id": "view-in-github",
        "colab_type": "text"
      },
      "source": [
        "<a href=\"https://colab.research.google.com/github/Rupesh0Poudel/Numerical_Introductory_Seminar/blob/main/Software_AG.ipynb\" target=\"_parent\"><img src=\"https://colab.research.google.com/assets/colab-badge.svg\" alt=\"Open In Colab\"/></a>"
      ]
    },
    {
      "cell_type": "code",
      "source": [
        "pip install yfinance"
      ],
      "metadata": {
        "id": "z7stKR_vQA61",
        "colab": {
          "base_uri": "https://localhost:8080/"
        },
        "outputId": "843c50f9-ef4c-48b0-80f6-81ec755f60ce"
      },
      "execution_count": 1,
      "outputs": [
        {
          "output_type": "stream",
          "name": "stdout",
          "text": [
            "Looking in indexes: https://pypi.org/simple, https://us-python.pkg.dev/colab-wheels/public/simple/\n",
            "Collecting yfinance\n",
            "  Downloading yfinance-0.1.89-py2.py3-none-any.whl (29 kB)\n",
            "Collecting requests>=2.26\n",
            "  Downloading requests-2.28.1-py3-none-any.whl (62 kB)\n",
            "\u001b[K     |████████████████████████████████| 62 kB 551 kB/s \n",
            "\u001b[?25hRequirement already satisfied: numpy>=1.16.5 in /usr/local/lib/python3.8/dist-packages (from yfinance) (1.21.6)\n",
            "Requirement already satisfied: appdirs>=1.4.4 in /usr/local/lib/python3.8/dist-packages (from yfinance) (1.4.4)\n",
            "Requirement already satisfied: multitasking>=0.0.7 in /usr/local/lib/python3.8/dist-packages (from yfinance) (0.0.11)\n",
            "Requirement already satisfied: pandas>=1.3.0 in /usr/local/lib/python3.8/dist-packages (from yfinance) (1.3.5)\n",
            "Requirement already satisfied: pytz>=2017.3 in /usr/local/lib/python3.8/dist-packages (from pandas>=1.3.0->yfinance) (2022.6)\n",
            "Requirement already satisfied: python-dateutil>=2.7.3 in /usr/local/lib/python3.8/dist-packages (from pandas>=1.3.0->yfinance) (2.8.2)\n",
            "Requirement already satisfied: six>=1.5 in /usr/local/lib/python3.8/dist-packages (from python-dateutil>=2.7.3->pandas>=1.3.0->yfinance) (1.15.0)\n",
            "Requirement already satisfied: idna<4,>=2.5 in /usr/local/lib/python3.8/dist-packages (from requests>=2.26->yfinance) (2.10)\n",
            "Requirement already satisfied: certifi>=2017.4.17 in /usr/local/lib/python3.8/dist-packages (from requests>=2.26->yfinance) (2022.9.24)\n",
            "Requirement already satisfied: urllib3<1.27,>=1.21.1 in /usr/local/lib/python3.8/dist-packages (from requests>=2.26->yfinance) (1.24.3)\n",
            "Requirement already satisfied: charset-normalizer<3,>=2 in /usr/local/lib/python3.8/dist-packages (from requests>=2.26->yfinance) (2.1.1)\n",
            "Installing collected packages: requests, yfinance\n",
            "  Attempting uninstall: requests\n",
            "    Found existing installation: requests 2.23.0\n",
            "    Uninstalling requests-2.23.0:\n",
            "      Successfully uninstalled requests-2.23.0\n",
            "Successfully installed requests-2.28.1 yfinance-0.1.89\n"
          ]
        }
      ]
    },
    {
      "cell_type": "code",
      "execution_count": 2,
      "metadata": {
        "id": "5fyfpO1eOxUO"
      },
      "outputs": [],
      "source": [
        "import yfinance as yf\n",
        "import pandas as pd\n",
        "import numpy as np\n",
        "import matplotlib.pyplot as plt\n",
        "import seaborn as sns"
      ]
    },
    {
      "cell_type": "code",
      "source": [
        "df = yf.download(\"SOW.DE\", start = \"2020-1-1\", end=\"2022-11-30\")\n",
        "\n"
      ],
      "metadata": {
        "id": "NXAM4YcoQXOZ",
        "colab": {
          "base_uri": "https://localhost:8080/"
        },
        "outputId": "7c3b199c-dec0-4135-9b62-bb5b139f0d79"
      },
      "execution_count": 4,
      "outputs": [
        {
          "output_type": "stream",
          "name": "stdout",
          "text": [
            "\r[*********************100%***********************]  1 of 1 completed\n"
          ]
        }
      ]
    },
    {
      "cell_type": "code",
      "source": [
        "print(df.tail)"
      ],
      "metadata": {
        "id": "u4ZZ1gVlR8Fq",
        "colab": {
          "base_uri": "https://localhost:8080/"
        },
        "outputId": "e772c831-4b7d-4cfd-abda-bcd26e0503ad"
      },
      "execution_count": 5,
      "outputs": [
        {
          "output_type": "stream",
          "name": "stdout",
          "text": [
            "<bound method NDFrame.tail of                  Open       High        Low      Close  Adj Close  Volume\n",
            "Date                                                                     \n",
            "2020-01-02  31.110001  31.450001  31.110001  31.330000  29.218414   90538\n",
            "2020-01-03  31.290001  31.290001  30.730000  30.780001  28.705486  101324\n",
            "2020-01-06  30.709999  30.780001  30.080000  30.780001  28.705486  209811\n",
            "2020-01-07  30.850000  31.730000  30.840000  31.420000  29.302349  164562\n",
            "2020-01-08  31.049999  31.889999  30.879999  31.889999  29.740671  114655\n",
            "...               ...        ...        ...        ...        ...     ...\n",
            "2022-11-23  25.000000  25.440001  25.000000  25.440001  25.440001   74041\n",
            "2022-11-24  25.400000  26.040001  25.400000  25.959999  25.959999   55223\n",
            "2022-11-25  25.820000  25.980000  25.600000  25.860001  25.860001   68366\n",
            "2022-11-28  25.700001  25.719999  24.920000  24.940001  24.940001   71718\n",
            "2022-11-29  24.879999  25.000000  23.879999  23.920000  23.920000   88713\n",
            "\n",
            "[744 rows x 6 columns]>\n"
          ]
        }
      ]
    },
    {
      "cell_type": "code",
      "source": [
        "df.head()\n",
        "df.columns"
      ],
      "metadata": {
        "colab": {
          "base_uri": "https://localhost:8080/"
        },
        "id": "6rqBV-u2S1km",
        "outputId": "b5b9ff2f-3b59-4115-8c5d-5a372087cc5d"
      },
      "execution_count": 6,
      "outputs": [
        {
          "output_type": "execute_result",
          "data": {
            "text/plain": [
              "Index(['Open', 'High', 'Low', 'Close', 'Adj Close', 'Volume'], dtype='object')"
            ]
          },
          "metadata": {},
          "execution_count": 6
        }
      ]
    },
    {
      "cell_type": "code",
      "source": [
        "adj_close= df['Adj Close']\n",
        "adj_close.tail()"
      ],
      "metadata": {
        "colab": {
          "base_uri": "https://localhost:8080/"
        },
        "id": "XkjDLaBKUQeM",
        "outputId": "7bc4bd5b-a8c7-4a10-bb89-dc738a429cf2"
      },
      "execution_count": 7,
      "outputs": [
        {
          "output_type": "execute_result",
          "data": {
            "text/plain": [
              "Date\n",
              "2022-11-23    25.440001\n",
              "2022-11-24    25.959999\n",
              "2022-11-25    25.860001\n",
              "2022-11-28    24.940001\n",
              "2022-11-29    23.920000\n",
              "Name: Adj Close, dtype: float64"
            ]
          },
          "metadata": {},
          "execution_count": 7
        }
      ]
    },
    {
      "cell_type": "code",
      "source": [
        "returns = adj_close.pct_change()\n",
        "\n",
        "print(len(returns))\n",
        "returns.head()"
      ],
      "metadata": {
        "colab": {
          "base_uri": "https://localhost:8080/"
        },
        "id": "Yl1xBwhJUf1J",
        "outputId": "165470a7-d1e3-4030-a6e0-dfcbb3f32f8e"
      },
      "execution_count": 8,
      "outputs": [
        {
          "output_type": "stream",
          "name": "stdout",
          "text": [
            "744\n"
          ]
        },
        {
          "output_type": "execute_result",
          "data": {
            "text/plain": [
              "Date\n",
              "2020-01-02         NaN\n",
              "2020-01-03   -0.017555\n",
              "2020-01-06    0.000000\n",
              "2020-01-07    0.020793\n",
              "2020-01-08    0.014959\n",
              "Name: Adj Close, dtype: float64"
            ]
          },
          "metadata": {},
          "execution_count": 8
        }
      ]
    },
    {
      "cell_type": "code",
      "source": [
        "adj_close.plot()"
      ],
      "metadata": {
        "colab": {
          "base_uri": "https://localhost:8080/",
          "height": 295
        },
        "id": "lW1f2gcfx9Jl",
        "outputId": "b7d3d22c-5bb8-4ae2-f45c-85b057fa3521"
      },
      "execution_count": 9,
      "outputs": [
        {
          "output_type": "execute_result",
          "data": {
            "text/plain": [
              "<matplotlib.axes._subplots.AxesSubplot at 0x7ff625be0d90>"
            ]
          },
          "metadata": {},
          "execution_count": 9
        },
        {
          "output_type": "display_data",
          "data": {
            "text/plain": [
              "<Figure size 432x288 with 1 Axes>"
            ],
            "image/png": "[encoded data removed]"
          },
          "metadata": {
            "needs_background": "light"
          }
        }
      ]
    },
    {
      "cell_type": "code",
      "source": [
        "returns.plot()"
      ],
      "metadata": {
        "colab": {
          "base_uri": "https://localhost:8080/",
          "height": 295
        },
        "id": "JI1uP8RJHIN1",
        "outputId": "0311c1bd-9eda-4e41-95a2-ea715abcf7bd"
      },
      "execution_count": 10,
      "outputs": [
        {
          "output_type": "execute_result",
          "data": {
            "text/plain": [
              "<matplotlib.axes._subplots.AxesSubplot at 0x7ff625b0ea90>"
            ]
          },
          "metadata": {},
          "execution_count": 10
        },
        {
          "output_type": "display_data",
          "data": {
            "text/plain": [
              "<Figure size 432x288 with 1 Axes>"
            ],
            "image/png": "[encoded data removed]"
          },
          "metadata": {
            "needs_background": "light"
          }
        }
      ]
    },
    {
      "cell_type": "code",
      "source": [
        "returns"
      ],
      "metadata": {
        "colab": {
          "base_uri": "https://localhost:8080/"
        },
        "id": "ODeTORSVYUHK",
        "outputId": "bd0c7c6f-3e9f-4ffb-ea28-d4fea3d4d522"
      },
      "execution_count": 11,
      "outputs": [
        {
          "output_type": "execute_result",
          "data": {
            "text/plain": [
              "Date\n",
              "2020-01-02         NaN\n",
              "2020-01-03   -0.017555\n",
              "2020-01-06    0.000000\n",
              "2020-01-07    0.020793\n",
              "2020-01-08    0.014959\n",
              "                ...   \n",
              "2022-11-23    0.010326\n",
              "2022-11-24    0.020440\n",
              "2022-11-25   -0.003852\n",
              "2022-11-28   -0.035576\n",
              "2022-11-29   -0.040898\n",
              "Name: Adj Close, Length: 744, dtype: float64"
            ]
          },
          "metadata": {},
          "execution_count": 11
        }
      ]
    },
    {
      "cell_type": "code",
      "source": [
        "returns\n",
        "df_new = returns[1:744]\n",
        "df_new"
      ],
      "metadata": {
        "colab": {
          "base_uri": "https://localhost:8080/"
        },
        "id": "XFt83jlpi_6D",
        "outputId": "872464f0-4404-4c67-d208-2f4954a382b2"
      },
      "execution_count": 13,
      "outputs": [
        {
          "output_type": "execute_result",
          "data": {
            "text/plain": [
              "Date\n",
              "2020-01-03   -0.017555\n",
              "2020-01-06    0.000000\n",
              "2020-01-07    0.020793\n",
              "2020-01-08    0.014959\n",
              "2020-01-09    0.022891\n",
              "                ...   \n",
              "2022-11-23    0.010326\n",
              "2022-11-24    0.020440\n",
              "2022-11-25   -0.003852\n",
              "2022-11-28   -0.035576\n",
              "2022-11-29   -0.040898\n",
              "Name: Adj Close, Length: 743, dtype: float64"
            ]
          },
          "metadata": {},
          "execution_count": 13
        }
      ]
    },
    {
      "cell_type": "code",
      "source": [
        "last_price = adj_close[-1]\n",
        "last_price"
      ],
      "metadata": {
        "id": "blahe_uHv_rI",
        "colab": {
          "base_uri": "https://localhost:8080/"
        },
        "outputId": "223a548e-0305-4366-cd59-f651ee72fc0a"
      },
      "execution_count": 14,
      "outputs": [
        {
          "output_type": "execute_result",
          "data": {
            "text/plain": [
              "23.920000076293945"
            ]
          },
          "metadata": {},
          "execution_count": 14
        }
      ]
    },
    {
      "cell_type": "markdown",
      "source": [
        "We start with 1000 or 10000 simulation. We will try to draw the path for 252 trading days. To store the results of the simulation, pandas' dataframe was created."
      ],
      "metadata": {
        "id": "xubzpA6SMs69"
      }
    },
    {
      "cell_type": "code",
      "source": [
        "trials = 10000\n",
        "num_days = 40\n",
        "simulation_df = pd.DataFrame()"
      ],
      "metadata": {
        "id": "q85Nrtnc26MK"
      },
      "execution_count": 15,
      "outputs": []
    },
    {
      "cell_type": "markdown",
      "source": [
        "For Trial = 1, the first entry of the first for loop, we start with our volatility we calculated. Our price_series for the new trial is now blank. We calculate single instance of how a price might evolve. For the second till the desired instance, we calculate, in the second for loop, all the outputs for the first trial. that completes our first trial. \n",
        "The loop goes on till the desired trial is reached, and the simulated_df now consists a matrix of all trials and price paths in each trial.   "
      ],
      "metadata": {
        "id": "gJiUXD2zKDIH"
      }
    },
    {
      "cell_type": "code",
      "source": [
        "for x in range(trials):\n",
        "    count = 0\n",
        "    daily_vol = returns.std()\n",
        "    \n",
        "    price_series = []\n",
        "    \n",
        "    price = last_price * (1 + np.random.normal(0, daily_vol))\n",
        "    price_series.append(price)\n",
        "    \n",
        "    for y in range(num_days):\n",
        "        if count == 40:\n",
        "            break\n",
        "        price = price_series[count] * (1 + np.random.normal(0, daily_vol))\n",
        "        price_series.append(price)\n",
        "        count += 1\n",
        "    \n",
        "    simulation_df[x] = price_series\n",
        "    \n",
        "fig = plt.figure()\n",
        "fig.suptitle('Monte Carlo Simulation: SOW.DE')\n",
        "plt.plot(simulation_df)\n",
        "plt.axhline(y = last_price, color = 'r', linestyle = '-')\n",
        "plt.xlabel('Day')\n",
        "plt.ylabel('Price')\n",
        "plt.show()\n",
        "# code copied from/ inspired by youtube channel \"codebliss\""
      ],
      "metadata": {
        "colab": {
          "base_uri": "https://localhost:8080/",
          "height": 364
        },
        "id": "WGwGUPUiyn86",
        "outputId": "2c5b4aee-85bb-481c-e76f-0e5660ee17b7"
      },
      "execution_count": 16,
      "outputs": [
        {
          "output_type": "stream",
          "name": "stderr",
          "text": [
            "<ipython-input-16-11572e4f5090>:17: PerformanceWarning: DataFrame is highly fragmented.  This is usually the result of calling `frame.insert` many times, which has poor performance.  Consider joining all columns at once using pd.concat(axis=1) instead.  To get a de-fragmented frame, use `newframe = frame.copy()`\n",
            "  simulation_df[x] = price_series\n"
          ]
        },
        {
          "output_type": "display_data",
          "data": {
            "text/plain": [
              "<Figure size 432x288 with 1 Axes>"
            ],
            "image/png": "[encoded data removed]"
          },
          "metadata": {
            "needs_background": "light"
          }
        }
      ]
    },
    {
      "cell_type": "code",
      "source": [
        "simulation_df\n"
      ],
      "metadata": {
        "colab": {
          "base_uri": "https://localhost:8080/",
          "height": 1000
        },
        "id": "0tNIjQCd23d6",
        "outputId": "1b36be53-0656-4ce8-b29d-6c6ec4f6651c"
      },
      "execution_count": 17,
      "outputs": [
        {
          "output_type": "execute_result",
          "data": {
            "text/plain": [
              "         0          1          2          3          4          5     \\\n",
              "0   23.900895  23.555640  23.594718  24.291810  24.054551  23.613467   \n",
              "1   22.766306  23.283164  22.807019  23.838813  24.574670  24.035697   \n",
              "2   22.740476  23.681356  23.459217  23.834747  24.763552  24.426791   \n",
              "3   23.595187  22.697855  22.719875  23.851333  24.668624  24.997427   \n",
              "4   23.442271  21.701809  22.710748  23.881707  24.010235  25.192708   \n",
              "5   23.155257  21.141651  21.953825  23.938129  23.898979  25.101167   \n",
              "6   23.166173  21.051651  22.326420  25.150203  23.400629  24.247380   \n",
              "7   24.016426  21.510089  21.729035  24.998130  23.281194  23.234476   \n",
              "8   22.700677  21.417480  21.274935  25.285366  23.793655  23.493489   \n",
              "9   22.906841  21.111318  21.656579  25.243579  23.977469  24.144552   \n",
              "10  23.003020  20.581939  21.930239  25.733223  24.962075  22.713651   \n",
              "11  22.672562  21.527968  22.406988  25.743468  24.561839  22.367583   \n",
              "12  23.375926  21.127354  22.977082  26.825645  24.123694  22.529908   \n",
              "13  23.341064  20.506536  22.197947  26.171896  24.976042  23.261327   \n",
              "14  23.661671  20.283330  21.801572  25.126518  25.133411  23.021179   \n",
              "15  23.522830  20.364311  22.436419  24.535414  24.915016  23.249926   \n",
              "16  23.993854  19.911923  22.732709  24.851608  26.003779  23.205376   \n",
              "17  24.743061  19.822527  22.537562  24.191932  25.374877  23.257152   \n",
              "18  25.176773  19.642364  22.109035  24.297348  24.896346  23.079404   \n",
              "19  25.013269  20.060746  22.670652  23.842571  25.340670  23.899427   \n",
              "20  25.096920  20.002529  22.848270  23.700194  25.225371  23.347536   \n",
              "21  24.258129  19.986453  21.561546  24.137133  24.536588  23.800352   \n",
              "22  24.281186  19.704053  21.130768  23.808600  25.511539  24.123220   \n",
              "23  24.006915  19.830892  21.669432  24.222502  25.398900  23.996701   \n",
              "24  23.587169  19.670107  21.921963  24.241260  24.556617  23.579112   \n",
              "25  23.829519  19.503849  22.225096  24.121336  25.755214  22.933314   \n",
              "26  24.098288  19.771285  22.577128  24.802408  25.339934  23.800005   \n",
              "27  24.532619  19.433705  22.893279  25.872006  26.050314  23.744314   \n",
              "28  25.692401  20.166280  22.174211  25.880206  25.766495  23.983166   \n",
              "29  25.476960  20.090816  21.797369  26.354710  25.780683  24.124834   \n",
              "30  25.312932  20.005229  21.837241  25.712825  26.237670  23.931128   \n",
              "31  26.304932  20.341905  22.308705  25.393459  25.582077  23.265334   \n",
              "32  26.394764  20.831172  21.529253  26.054001  25.799315  22.881385   \n",
              "33  25.851762  20.619545  21.783956  26.516172  25.677271  22.082970   \n",
              "34  26.168518  20.643190  21.565226  26.841561  25.425046  21.755692   \n",
              "35  26.416936  21.235552  20.647284  27.624969  25.183988  22.179242   \n",
              "36  26.319853  21.100081  20.398890  28.589634  25.321275  21.783494   \n",
              "37  26.410151  21.376685  20.905783  27.686803  25.022393  21.612909   \n",
              "38  25.610048  21.587169  21.190452  27.563050  24.670761  21.932395   \n",
              "39  25.355837  22.487993  21.129545  28.005010  25.099414  22.045435   \n",
              "40  25.522879  22.087997  21.563442  30.006112  24.812056  22.488821   \n",
              "\n",
              "         6          7          8          9     ...       9990       9991  \\\n",
              "0   24.484925  23.660956  24.103733  23.995419  ...  24.069158  24.086253   \n",
              "1   24.698509  24.079620  24.112989  24.615271  ...  23.673165  23.672819   \n",
              "2   24.557257  24.608074  23.782836  25.026814  ...  22.994922  23.539382   \n",
              "3   24.488153  24.521815  23.324814  25.122970  ...  23.098922  22.908753   \n",
              "4   25.459755  24.541522  23.044756  25.531457  ...  22.878000  21.603871   \n",
              "5   24.933838  24.757204  22.360091  24.744707  ...  22.033268  22.058362   \n",
              "6   25.317705  24.711121  23.142329  25.103146  ...  22.554684  22.783238   \n",
              "7   24.813191  23.943326  21.978010  25.567828  ...  22.720246  22.225343   \n",
              "8   23.976072  25.140840  22.265216  25.611334  ...  22.091114  22.129901   \n",
              "9   23.838627  25.695532  22.718414  25.925772  ...  21.434915  22.843608   \n",
              "10  23.366005  26.286337  23.257499  26.129490  ...  21.821712  23.152150   \n",
              "11  23.116998  26.365721  23.519964  26.097815  ...  22.217629  23.152171   \n",
              "12  22.616863  25.936252  24.467342  24.923427  ...  23.167283  22.359709   \n",
              "13  23.054582  26.893466  24.264461  25.390923  ...  23.498703  21.977949   \n",
              "14  22.553962  27.119280  23.277049  25.249990  ...  23.343999  22.666824   \n",
              "15  22.665762  27.501194  23.150308  25.534213  ...  23.674832  23.029112   \n",
              "16  22.944886  27.064468  22.842594  25.560560  ...  24.040129  23.838257   \n",
              "17  21.973080  26.749394  23.373354  25.224815  ...  23.950468  23.716130   \n",
              "18  22.256418  26.592775  23.528415  25.397136  ...  23.755119  23.613765   \n",
              "19  22.462984  28.040214  24.387269  26.289314  ...  23.874482  24.025590   \n",
              "20  22.071787  28.040888  23.951534  25.849367  ...  22.998893  24.771116   \n",
              "21  23.078708  28.158958  25.305499  25.067959  ...  22.736911  24.279439   \n",
              "22  22.798952  28.315586  25.485004  25.814504  ...  22.485311  24.868366   \n",
              "23  22.826078  29.010300  25.456153  25.048408  ...  22.731537  24.896596   \n",
              "24  23.287229  29.409272  25.576543  24.951662  ...  23.724803  25.123301   \n",
              "25  22.239932  29.903886  25.769831  25.327499  ...  25.191105  25.078226   \n",
              "26  22.192925  29.717558  26.371057  24.929233  ...  26.169083  25.101424   \n",
              "27  22.488474  30.233592  26.862915  24.967720  ...  26.315060  24.758746   \n",
              "28  22.820716  30.316862  26.918637  25.033083  ...  26.022010  24.734722   \n",
              "29  23.027925  30.378899  26.612285  24.844037  ...  26.636211  24.223174   \n",
              "30  22.486759  29.700074  25.683576  24.456983  ...  26.574660  23.377463   \n",
              "31  22.426072  29.899782  25.290126  24.354628  ...  26.799834  22.938681   \n",
              "32  21.718290  29.900024  25.375387  23.692102  ...  27.381214  22.894718   \n",
              "33  22.035233  30.396404  24.223455  23.643224  ...  26.830068  23.008475   \n",
              "34  22.809618  29.755720  24.251035  24.348572  ...  26.513084  22.854090   \n",
              "35  23.048434  29.870181  24.488213  24.467328  ...  26.349961  23.033543   \n",
              "36  23.615379  28.750084  23.742116  23.725752  ...  25.800647  23.553683   \n",
              "37  23.430368  28.225620  24.825738  23.389994  ...  26.313157  24.884812   \n",
              "38  24.255224  29.103752  25.056943  22.948472  ...  26.386593  25.621058   \n",
              "39  24.443107  29.351528  25.607893  21.939276  ...  26.239588  26.061482   \n",
              "40  24.709620  28.892501  26.684667  22.180028  ...  26.240912  26.891516   \n",
              "\n",
              "         9992       9993       9994       9995       9996       9997  \\\n",
              "0   23.671113  23.949158  23.916067  23.649696  23.471584  23.976433   \n",
              "1   23.163588  23.894440  23.678598  23.401443  22.732707  24.750229   \n",
              "2   23.743723  24.493924  23.627706  22.969841  23.505826  24.760142   \n",
              "3   23.638356  23.646565  23.582233  23.848488  23.822984  24.867341   \n",
              "4   23.828290  23.882935  23.496764  22.930990  23.986201  24.636391   \n",
              "5   23.631638  25.095269  23.705812  22.205350  24.071609  24.448639   \n",
              "6   23.322151  25.208227  22.923216  22.124254  23.828213  24.961641   \n",
              "7   23.246663  24.702661  23.659437  22.328890  23.483684  24.749441   \n",
              "8   23.409444  24.971617  23.187698  22.034249  22.876189  25.404176   \n",
              "9   23.584684  25.298797  23.012985  21.948666  22.837788  26.068591   \n",
              "10  23.878971  24.774717  22.507034  21.511821  22.826229  26.493746   \n",
              "11  23.592849  24.907495  22.834493  21.063958  22.951237  26.020234   \n",
              "12  24.067007  24.326650  23.452410  21.418834  22.713878  25.826333   \n",
              "13  23.720593  24.970227  23.340778  22.324415  23.357958  26.190562   \n",
              "14  23.614485  25.408616  24.001613  22.484410  23.075111  25.775862   \n",
              "15  22.741057  25.172206  24.209230  23.329125  22.420519  25.676214   \n",
              "16  22.869596  24.986719  24.331403  23.187624  22.448919  24.493444   \n",
              "17  23.166693  24.948511  25.030224  22.595641  22.706730  24.857522   \n",
              "18  22.673615  25.306701  24.603889  22.592305  23.021134  25.230890   \n",
              "19  22.372297  25.507057  23.661421  22.692428  23.051028  25.009309   \n",
              "20  22.599326  25.479288  23.562118  22.309091  23.098469  24.792720   \n",
              "21  22.593958  25.335716  23.257885  21.706001  23.566969  25.694386   \n",
              "22  22.939661  25.067314  24.113024  21.461138  24.430779  26.006660   \n",
              "23  23.602588  25.266569  23.547025  21.496185  24.212098  24.430295   \n",
              "24  23.346290  25.802477  24.239613  21.363526  24.198932  24.280570   \n",
              "25  23.654081  24.884432  24.706927  20.799567  24.596751  24.218891   \n",
              "26  23.480930  23.852230  23.886291  20.514844  24.070594  24.432789   \n",
              "27  22.857550  23.610228  23.496807  20.800609  24.236300  24.192155   \n",
              "28  21.221660  23.588865  23.658814  20.803636  23.683525  24.471021   \n",
              "29  20.890194  23.986790  22.999418  20.931030  24.260791  23.137326   \n",
              "30  21.602258  23.874663  22.919589  21.991476  23.293256  24.179959   \n",
              "31  21.613204  24.044616  22.809216  21.908737  23.613348  23.268317   \n",
              "32  21.852919  22.880779  22.206417  22.908281  23.913519  23.121668   \n",
              "33  22.025920  22.266799  21.865162  23.401488  24.259952  23.375002   \n",
              "34  22.362805  22.123525  21.274880  24.439359  23.218140  23.404616   \n",
              "35  22.248237  22.104407  21.490498  23.408712  23.845594  23.576062   \n",
              "36  21.682608  21.715549  21.174947  23.093620  24.121772  23.696733   \n",
              "37  21.339819  22.375514  21.599941  23.462723  24.169313  22.802720   \n",
              "38  21.432760  23.016635  21.448741  23.330028  24.318297  22.078208   \n",
              "39  20.990242  23.560060  21.478533  22.978424  24.087943  21.817156   \n",
              "40  20.699317  23.772628  21.681448  23.595577  23.540844  22.240134   \n",
              "\n",
              "         9998       9999  \n",
              "0   24.051919  23.966208  \n",
              "1   23.597248  23.723057  \n",
              "2   23.280577  23.296779  \n",
              "3   23.309031  23.366281  \n",
              "4   23.337808  24.092762  \n",
              "5   23.463503  24.803535  \n",
              "6   23.500044  25.023066  \n",
              "7   23.058045  25.409402  \n",
              "8   22.967627  25.506837  \n",
              "9   23.139286  25.115680  \n",
              "10  23.411897  25.677973  \n",
              "11  23.680807  26.523533  \n",
              "12  23.703973  26.158145  \n",
              "13  24.209303  27.064724  \n",
              "14  24.105889  27.882011  \n",
              "15  23.815471  27.617597  \n",
              "16  23.600832  27.823438  \n",
              "17  22.506781  27.259874  \n",
              "18  22.549182  27.555774  \n",
              "19  22.933746  26.281166  \n",
              "20  22.591547  26.948880  \n",
              "21  22.445956  26.611538  \n",
              "22  23.303550  27.371238  \n",
              "23  22.573666  26.608140  \n",
              "24  22.368253  27.449039  \n",
              "25  23.173797  27.074050  \n",
              "26  23.067088  27.381956  \n",
              "27  23.297081  26.858955  \n",
              "28  23.200141  27.351378  \n",
              "29  23.863771  27.485597  \n",
              "30  23.446756  28.051293  \n",
              "31  24.133170  28.213815  \n",
              "32  23.575806  27.942618  \n",
              "33  23.948337  27.728902  \n",
              "34  24.012861  27.517948  \n",
              "35  24.151380  26.512186  \n",
              "36  24.610367  27.081059  \n",
              "37  24.510116  26.699446  \n",
              "38  25.064999  26.257237  \n",
              "39  24.900178  26.259042  \n",
              "40  24.050070  26.145269  \n",
              "\n",
              "[41 rows x 10000 columns]"
            ],
            "text/html": [
              "\n",
              "  <div id=\"df-0eb7a347-e4a3-419e-a804-af32b32a0234\">\n",
              "    <div class=\"colab-df-container\">\n",
              "      <div>\n",
              "<style scoped>\n",
              "    .dataframe tbody tr th:only-of-type {\n",
              "        vertical-align: middle;\n",
              "    }\n",
              "\n",
              "    .dataframe tbody tr th {\n",
              "        vertical-align: top;\n",
              "    }\n",
              "\n",
              "    .dataframe thead th {\n",
              "        text-align: right;\n",
              "    }\n",
              "</style>\n",
              "<table border=\"1\" class=\"dataframe\">\n",
              "  <thead>\n",
              "    <tr style=\"text-align: right;\">\n",
              "      <th></th>\n",
              "      <th>0</th>\n",
              "      <th>1</th>\n",
              "      <th>2</th>\n",
              "      <th>3</th>\n",
              "      <th>4</th>\n",
              "      <th>5</th>\n",
              "      <th>6</th>\n",
              "      <th>7</th>\n",
              "      <th>8</th>\n",
              "      <th>9</th>\n",
              "      <th>...</th>\n",
              "      <th>9990</th>\n",
              "      <th>9991</th>\n",
              "      <th>9992</th>\n",
              "      <th>9993</th>\n",
              "      <th>9994</th>\n",
              "      <th>9995</th>\n",
              "      <th>9996</th>\n",
              "      <th>9997</th>\n",
              "      <th>9998</th>\n",
              "      <th>9999</th>\n",
              "    </tr>\n",
              "  </thead>\n",
              "  <tbody>\n",
              "    <tr>\n",
              "      <th>0</th>\n",
              "      <td>23.900895</td>\n",
              "      <td>23.555640</td>\n",
              "      <td>23.594718</td>\n",
              "      <td>24.291810</td>\n",
              "      <td>24.054551</td>\n",
              "      <td>23.613467</td>\n",
              "      <td>24.484925</td>\n",
              "      <td>23.660956</td>\n",
              "      <td>24.103733</td>\n",
              "      <td>23.995419</td>\n",
              "      <td>...</td>\n",
              "      <td>24.069158</td>\n",
              "      <td>24.086253</td>\n",
              "      <td>23.671113</td>\n",
              "      <td>23.949158</td>\n",
              "      <td>23.916067</td>\n",
              "      <td>23.649696</td>\n",
              "      <td>23.471584</td>\n",
              "      <td>23.976433</td>\n",
              "      <td>24.051919</td>\n",
              "      <td>23.966208</td>\n",
              "    </tr>\n",
              "    <tr>\n",
              "      <th>1</th>\n",
              "      <td>22.766306</td>\n",
              "      <td>23.283164</td>\n",
              "      <td>22.807019</td>\n",
              "      <td>23.838813</td>\n",
              "      <td>24.574670</td>\n",
              "      <td>24.035697</td>\n",
              "      <td>24.698509</td>\n",
              "      <td>24.079620</td>\n",
              "      <td>24.112989</td>\n",
              "      <td>24.615271</td>\n",
              "      <td>...</td>\n",
              "      <td>23.673165</td>\n",
              "      <td>23.672819</td>\n",
              "      <td>23.163588</td>\n",
              "      <td>23.894440</td>\n",
              "      <td>23.678598</td>\n",
              "      <td>23.401443</td>\n",
              "      <td>22.732707</td>\n",
              "      <td>24.750229</td>\n",
              "      <td>23.597248</td>\n",
              "      <td>23.723057</td>\n",
              "    </tr>\n",
              "    <tr>\n",
              "      <th>2</th>\n",
              "      <td>22.740476</td>\n",
              "      <td>23.681356</td>\n",
              "      <td>23.459217</td>\n",
              "      <td>23.834747</td>\n",
              "      <td>24.763552</td>\n",
              "      <td>24.426791</td>\n",
              "      <td>24.557257</td>\n",
              "      <td>24.608074</td>\n",
              "      <td>23.782836</td>\n",
              "      <td>25.026814</td>\n",
              "      <td>...</td>\n",
              "      <td>22.994922</td>\n",
              "      <td>23.539382</td>\n",
              "      <td>23.743723</td>\n",
              "      <td>24.493924</td>\n",
              "      <td>23.627706</td>\n",
              "      <td>22.969841</td>\n",
              "      <td>23.505826</td>\n",
              "      <td>24.760142</td>\n",
              "      <td>23.280577</td>\n",
              "      <td>23.296779</td>\n",
              "    </tr>\n",
              "    <tr>\n",
              "      <th>3</th>\n",
              "      <td>23.595187</td>\n",
              "      <td>22.697855</td>\n",
              "      <td>22.719875</td>\n",
              "      <td>23.851333</td>\n",
              "      <td>24.668624</td>\n",
              "      <td>24.997427</td>\n",
              "      <td>24.488153</td>\n",
              "      <td>24.521815</td>\n",
              "      <td>23.324814</td>\n",
              "      <td>25.122970</td>\n",
              "      <td>...</td>\n",
              "      <td>23.098922</td>\n",
              "      <td>22.908753</td>\n",
              "      <td>23.638356</td>\n",
              "      <td>23.646565</td>\n",
              "      <td>23.582233</td>\n",
              "      <td>23.848488</td>\n",
              "      <td>23.822984</td>\n",
              "      <td>24.867341</td>\n",
              "      <td>23.309031</td>\n",
              "      <td>23.366281</td>\n",
              "    </tr>\n",
              "    <tr>\n",
              "      <th>4</th>\n",
              "      <td>23.442271</td>\n",
              "      <td>21.701809</td>\n",
              "      <td>22.710748</td>\n",
              "      <td>23.881707</td>\n",
              "      <td>24.010235</td>\n",
              "      <td>25.192708</td>\n",
              "      <td>25.459755</td>\n",
              "      <td>24.541522</td>\n",
              "      <td>23.044756</td>\n",
              "      <td>25.531457</td>\n",
              "      <td>...</td>\n",
              "      <td>22.878000</td>\n",
              "      <td>21.603871</td>\n",
              "      <td>23.828290</td>\n",
              "      <td>23.882935</td>\n",
              "      <td>23.496764</td>\n",
              "      <td>22.930990</td>\n",
              "      <td>23.986201</td>\n",
              "      <td>24.636391</td>\n",
              "      <td>23.337808</td>\n",
              "      <td>24.092762</td>\n",
              "    </tr>\n",
              "    <tr>\n",
              "      <th>5</th>\n",
              "      <td>23.155257</td>\n",
              "      <td>21.141651</td>\n",
              "      <td>21.953825</td>\n",
              "      <td>23.938129</td>\n",
              "      <td>23.898979</td>\n",
              "      <td>25.101167</td>\n",
              "      <td>24.933838</td>\n",
              "      <td>24.757204</td>\n",
              "      <td>22.360091</td>\n",
              "      <td>24.744707</td>\n",
              "      <td>...</td>\n",
              "      <td>22.033268</td>\n",
              "      <td>22.058362</td>\n",
              "      <td>23.631638</td>\n",
              "      <td>25.095269</td>\n",
              "      <td>23.705812</td>\n",
              "      <td>22.205350</td>\n",
              "      <td>24.071609</td>\n",
              "      <td>24.448639</td>\n",
              "      <td>23.463503</td>\n",
              "      <td>24.803535</td>\n",
              "    </tr>\n",
              "    <tr>\n",
              "      <th>6</th>\n",
              "      <td>23.166173</td>\n",
              "      <td>21.051651</td>\n",
              "      <td>22.326420</td>\n",
              "      <td>25.150203</td>\n",
              "      <td>23.400629</td>\n",
              "      <td>24.247380</td>\n",
              "      <td>25.317705</td>\n",
              "      <td>24.711121</td>\n",
              "      <td>23.142329</td>\n",
              "      <td>25.103146</td>\n",
              "      <td>...</td>\n",
              "      <td>22.554684</td>\n",
              "      <td>22.783238</td>\n",
              "      <td>23.322151</td>\n",
              "      <td>25.208227</td>\n",
              "      <td>22.923216</td>\n",
              "      <td>22.124254</td>\n",
              "      <td>23.828213</td>\n",
              "      <td>24.961641</td>\n",
              "      <td>23.500044</td>\n",
              "      <td>25.023066</td>\n",
              "    </tr>\n",
              "    <tr>\n",
              "      <th>7</th>\n",
              "      <td>24.016426</td>\n",
              "      <td>21.510089</td>\n",
              "      <td>21.729035</td>\n",
              "      <td>24.998130</td>\n",
              "      <td>23.281194</td>\n",
              "      <td>23.234476</td>\n",
              "      <td>24.813191</td>\n",
              "      <td>23.943326</td>\n",
              "      <td>21.978010</td>\n",
              "      <td>25.567828</td>\n",
              "      <td>...</td>\n",
              "      <td>22.720246</td>\n",
              "      <td>22.225343</td>\n",
              "      <td>23.246663</td>\n",
              "      <td>24.702661</td>\n",
              "      <td>23.659437</td>\n",
              "      <td>22.328890</td>\n",
              "      <td>23.483684</td>\n",
              "      <td>24.749441</td>\n",
              "      <td>23.058045</td>\n",
              "      <td>25.409402</td>\n",
              "    </tr>\n",
              "    <tr>\n",
              "      <th>8</th>\n",
              "      <td>22.700677</td>\n",
              "      <td>21.417480</td>\n",
              "      <td>21.274935</td>\n",
              "      <td>25.285366</td>\n",
              "      <td>23.793655</td>\n",
              "      <td>23.493489</td>\n",
              "      <td>23.976072</td>\n",
              "      <td>25.140840</td>\n",
              "      <td>22.265216</td>\n",
              "      <td>25.611334</td>\n",
              "      <td>...</td>\n",
              "      <td>22.091114</td>\n",
              "      <td>22.129901</td>\n",
              "      <td>23.409444</td>\n",
              "      <td>24.971617</td>\n",
              "      <td>23.187698</td>\n",
              "      <td>22.034249</td>\n",
              "      <td>22.876189</td>\n",
              "      <td>25.404176</td>\n",
              "      <td>22.967627</td>\n",
              "      <td>25.506837</td>\n",
              "    </tr>\n",
              "    <tr>\n",
              "      <th>9</th>\n",
              "      <td>22.906841</td>\n",
              "      <td>21.111318</td>\n",
              "      <td>21.656579</td>\n",
              "      <td>25.243579</td>\n",
              "      <td>23.977469</td>\n",
              "      <td>24.144552</td>\n",
              "      <td>23.838627</td>\n",
              "      <td>25.695532</td>\n",
              "      <td>22.718414</td>\n",
              "      <td>25.925772</td>\n",
              "      <td>...</td>\n",
              "      <td>21.434915</td>\n",
              "      <td>22.843608</td>\n",
              "      <td>23.584684</td>\n",
              "      <td>25.298797</td>\n",
              "      <td>23.012985</td>\n",
              "      <td>21.948666</td>\n",
              "      <td>22.837788</td>\n",
              "      <td>26.068591</td>\n",
              "      <td>23.139286</td>\n",
              "      <td>25.115680</td>\n",
              "    </tr>\n",
              "    <tr>\n",
              "      <th>10</th>\n",
              "      <td>23.003020</td>\n",
              "      <td>20.581939</td>\n",
              "      <td>21.930239</td>\n",
              "      <td>25.733223</td>\n",
              "      <td>24.962075</td>\n",
              "      <td>22.713651</td>\n",
              "      <td>23.366005</td>\n",
              "      <td>26.286337</td>\n",
              "      <td>23.257499</td>\n",
              "      <td>26.129490</td>\n",
              "      <td>...</td>\n",
              "      <td>21.821712</td>\n",
              "      <td>23.152150</td>\n",
              "      <td>23.878971</td>\n",
              "      <td>24.774717</td>\n",
              "      <td>22.507034</td>\n",
              "      <td>21.511821</td>\n",
              "      <td>22.826229</td>\n",
              "      <td>26.493746</td>\n",
              "      <td>23.411897</td>\n",
              "      <td>25.677973</td>\n",
              "    </tr>\n",
              "    <tr>\n",
              "      <th>11</th>\n",
              "      <td>22.672562</td>\n",
              "      <td>21.527968</td>\n",
              "      <td>22.406988</td>\n",
              "      <td>25.743468</td>\n",
              "      <td>24.561839</td>\n",
              "      <td>22.367583</td>\n",
              "      <td>23.116998</td>\n",
              "      <td>26.365721</td>\n",
              "      <td>23.519964</td>\n",
              "      <td>26.097815</td>\n",
              "      <td>...</td>\n",
              "      <td>22.217629</td>\n",
              "      <td>23.152171</td>\n",
              "      <td>23.592849</td>\n",
              "      <td>24.907495</td>\n",
              "      <td>22.834493</td>\n",
              "      <td>21.063958</td>\n",
              "      <td>22.951237</td>\n",
              "      <td>26.020234</td>\n",
              "      <td>23.680807</td>\n",
              "      <td>26.523533</td>\n",
              "    </tr>\n",
              "    <tr>\n",
              "      <th>12</th>\n",
              "      <td>23.375926</td>\n",
              "      <td>21.127354</td>\n",
              "      <td>22.977082</td>\n",
              "      <td>26.825645</td>\n",
              "      <td>24.123694</td>\n",
              "      <td>22.529908</td>\n",
              "      <td>22.616863</td>\n",
              "      <td>25.936252</td>\n",
              "      <td>24.467342</td>\n",
              "      <td>24.923427</td>\n",
              "      <td>...</td>\n",
              "      <td>23.167283</td>\n",
              "      <td>22.359709</td>\n",
              "      <td>24.067007</td>\n",
              "      <td>24.326650</td>\n",
              "      <td>23.452410</td>\n",
              "      <td>21.418834</td>\n",
              "      <td>22.713878</td>\n",
              "      <td>25.826333</td>\n",
              "      <td>23.703973</td>\n",
              "      <td>26.158145</td>\n",
              "    </tr>\n",
              "    <tr>\n",
              "      <th>13</th>\n",
              "      <td>23.341064</td>\n",
              "      <td>20.506536</td>\n",
              "      <td>22.197947</td>\n",
              "      <td>26.171896</td>\n",
              "      <td>24.976042</td>\n",
              "      <td>23.261327</td>\n",
              "      <td>23.054582</td>\n",
              "      <td>26.893466</td>\n",
              "      <td>24.264461</td>\n",
              "      <td>25.390923</td>\n",
              "      <td>...</td>\n",
              "      <td>23.498703</td>\n",
              "      <td>21.977949</td>\n",
              "      <td>23.720593</td>\n",
              "      <td>24.970227</td>\n",
              "      <td>23.340778</td>\n",
              "      <td>22.324415</td>\n",
              "      <td>23.357958</td>\n",
              "      <td>26.190562</td>\n",
              "      <td>24.209303</td>\n",
              "      <td>27.064724</td>\n",
              "    </tr>\n",
              "    <tr>\n",
              "      <th>14</th>\n",
              "      <td>23.661671</td>\n",
              "      <td>20.283330</td>\n",
              "      <td>21.801572</td>\n",
              "      <td>25.126518</td>\n",
              "      <td>25.133411</td>\n",
              "      <td>23.021179</td>\n",
              "      <td>22.553962</td>\n",
              "      <td>27.119280</td>\n",
              "      <td>23.277049</td>\n",
              "      <td>25.249990</td>\n",
              "      <td>...</td>\n",
              "      <td>23.343999</td>\n",
              "      <td>22.666824</td>\n",
              "      <td>23.614485</td>\n",
              "      <td>25.408616</td>\n",
              "      <td>24.001613</td>\n",
              "      <td>22.484410</td>\n",
              "      <td>23.075111</td>\n",
              "      <td>25.775862</td>\n",
              "      <td>24.105889</td>\n",
              "      <td>27.882011</td>\n",
              "    </tr>\n",
              "    <tr>\n",
              "      <th>15</th>\n",
              "      <td>23.522830</td>\n",
              "      <td>20.364311</td>\n",
              "      <td>22.436419</td>\n",
              "      <td>24.535414</td>\n",
              "      <td>24.915016</td>\n",
              "      <td>23.249926</td>\n",
              "      <td>22.665762</td>\n",
              "      <td>27.501194</td>\n",
              "      <td>23.150308</td>\n",
              "      <td>25.534213</td>\n",
              "      <td>...</td>\n",
              "      <td>23.674832</td>\n",
              "      <td>23.029112</td>\n",
              "      <td>22.741057</td>\n",
              "      <td>25.172206</td>\n",
              "      <td>24.209230</td>\n",
              "      <td>23.329125</td>\n",
              "      <td>22.420519</td>\n",
              "      <td>25.676214</td>\n",
              "      <td>23.815471</td>\n",
              "      <td>27.617597</td>\n",
              "    </tr>\n",
              "    <tr>\n",
              "      <th>16</th>\n",
              "      <td>23.993854</td>\n",
              "      <td>19.911923</td>\n",
              "      <td>22.732709</td>\n",
              "      <td>24.851608</td>\n",
              "      <td>26.003779</td>\n",
              "      <td>23.205376</td>\n",
              "      <td>22.944886</td>\n",
              "      <td>27.064468</td>\n",
              "      <td>22.842594</td>\n",
              "      <td>25.560560</td>\n",
              "      <td>...</td>\n",
              "      <td>24.040129</td>\n",
              "      <td>23.838257</td>\n",
              "      <td>22.869596</td>\n",
              "      <td>24.986719</td>\n",
              "      <td>24.331403</td>\n",
              "      <td>23.187624</td>\n",
              "      <td>22.448919</td>\n",
              "      <td>24.493444</td>\n",
              "      <td>23.600832</td>\n",
              "      <td>27.823438</td>\n",
              "    </tr>\n",
              "    <tr>\n",
              "      <th>17</th>\n",
              "      <td>24.743061</td>\n",
              "      <td>19.822527</td>\n",
              "      <td>22.537562</td>\n",
              "      <td>24.191932</td>\n",
              "      <td>25.374877</td>\n",
              "      <td>23.257152</td>\n",
              "      <td>21.973080</td>\n",
              "      <td>26.749394</td>\n",
              "      <td>23.373354</td>\n",
              "      <td>25.224815</td>\n",
              "      <td>...</td>\n",
              "      <td>23.950468</td>\n",
              "      <td>23.716130</td>\n",
              "      <td>23.166693</td>\n",
              "      <td>24.948511</td>\n",
              "      <td>25.030224</td>\n",
              "      <td>22.595641</td>\n",
              "      <td>22.706730</td>\n",
              "      <td>24.857522</td>\n",
              "      <td>22.506781</td>\n",
              "      <td>27.259874</td>\n",
              "    </tr>\n",
              "    <tr>\n",
              "      <th>18</th>\n",
              "      <td>25.176773</td>\n",
              "      <td>19.642364</td>\n",
              "      <td>22.109035</td>\n",
              "      <td>24.297348</td>\n",
              "      <td>24.896346</td>\n",
              "      <td>23.079404</td>\n",
              "      <td>22.256418</td>\n",
              "      <td>26.592775</td>\n",
              "      <td>23.528415</td>\n",
              "      <td>25.397136</td>\n",
              "      <td>...</td>\n",
              "      <td>23.755119</td>\n",
              "      <td>23.613765</td>\n",
              "      <td>22.673615</td>\n",
              "      <td>25.306701</td>\n",
              "      <td>24.603889</td>\n",
              "      <td>22.592305</td>\n",
              "      <td>23.021134</td>\n",
              "      <td>25.230890</td>\n",
              "      <td>22.549182</td>\n",
              "      <td>27.555774</td>\n",
              "    </tr>\n",
              "    <tr>\n",
              "      <th>19</th>\n",
              "      <td>25.013269</td>\n",
              "      <td>20.060746</td>\n",
              "      <td>22.670652</td>\n",
              "      <td>23.842571</td>\n",
              "      <td>25.340670</td>\n",
              "      <td>23.899427</td>\n",
              "      <td>22.462984</td>\n",
              "      <td>28.040214</td>\n",
              "      <td>24.387269</td>\n",
              "      <td>26.289314</td>\n",
              "      <td>...</td>\n",
              "      <td>23.874482</td>\n",
              "      <td>24.025590</td>\n",
              "      <td>22.372297</td>\n",
              "      <td>25.507057</td>\n",
              "      <td>23.661421</td>\n",
              "      <td>22.692428</td>\n",
              "      <td>23.051028</td>\n",
              "      <td>25.009309</td>\n",
              "      <td>22.933746</td>\n",
              "      <td>26.281166</td>\n",
              "    </tr>\n",
              "    <tr>\n",
              "      <th>20</th>\n",
              "      <td>25.096920</td>\n",
              "      <td>20.002529</td>\n",
              "      <td>22.848270</td>\n",
              "      <td>23.700194</td>\n",
              "      <td>25.225371</td>\n",
              "      <td>23.347536</td>\n",
              "      <td>22.071787</td>\n",
              "      <td>28.040888</td>\n",
              "      <td>23.951534</td>\n",
              "      <td>25.849367</td>\n",
              "      <td>...</td>\n",
              "      <td>22.998893</td>\n",
              "      <td>24.771116</td>\n",
              "      <td>22.599326</td>\n",
              "      <td>25.479288</td>\n",
              "      <td>23.562118</td>\n",
              "      <td>22.309091</td>\n",
              "      <td>23.098469</td>\n",
              "      <td>24.792720</td>\n",
              "      <td>22.591547</td>\n",
              "      <td>26.948880</td>\n",
              "    </tr>\n",
              "    <tr>\n",
              "      <th>21</th>\n",
              "      <td>24.258129</td>\n",
              "      <td>19.986453</td>\n",
              "      <td>21.561546</td>\n",
              "      <td>24.137133</td>\n",
              "      <td>24.536588</td>\n",
              "      <td>23.800352</td>\n",
              "      <td>23.078708</td>\n",
              "      <td>28.158958</td>\n",
              "      <td>25.305499</td>\n",
              "      <td>25.067959</td>\n",
              "      <td>...</td>\n",
              "      <td>22.736911</td>\n",
              "      <td>24.279439</td>\n",
              "      <td>22.593958</td>\n",
              "      <td>25.335716</td>\n",
              "      <td>23.257885</td>\n",
              "      <td>21.706001</td>\n",
              "      <td>23.566969</td>\n",
              "      <td>25.694386</td>\n",
              "      <td>22.445956</td>\n",
              "      <td>26.611538</td>\n",
              "    </tr>\n",
              "    <tr>\n",
              "      <th>22</th>\n",
              "      <td>24.281186</td>\n",
              "      <td>19.704053</td>\n",
              "      <td>21.130768</td>\n",
              "      <td>23.808600</td>\n",
              "      <td>25.511539</td>\n",
              "      <td>24.123220</td>\n",
              "      <td>22.798952</td>\n",
              "      <td>28.315586</td>\n",
              "      <td>25.485004</td>\n",
              "      <td>25.814504</td>\n",
              "      <td>...</td>\n",
              "      <td>22.485311</td>\n",
              "      <td>24.868366</td>\n",
              "      <td>22.939661</td>\n",
              "      <td>25.067314</td>\n",
              "      <td>24.113024</td>\n",
              "      <td>21.461138</td>\n",
              "      <td>24.430779</td>\n",
              "      <td>26.006660</td>\n",
              "      <td>23.303550</td>\n",
              "      <td>27.371238</td>\n",
              "    </tr>\n",
              "    <tr>\n",
              "      <th>23</th>\n",
              "      <td>24.006915</td>\n",
              "      <td>19.830892</td>\n",
              "      <td>21.669432</td>\n",
              "      <td>24.222502</td>\n",
              "      <td>25.398900</td>\n",
              "      <td>23.996701</td>\n",
              "      <td>22.826078</td>\n",
              "      <td>29.010300</td>\n",
              "      <td>25.456153</td>\n",
              "      <td>25.048408</td>\n",
              "      <td>...</td>\n",
              "      <td>22.731537</td>\n",
              "      <td>24.896596</td>\n",
              "      <td>23.602588</td>\n",
              "      <td>25.266569</td>\n",
              "      <td>23.547025</td>\n",
              "      <td>21.496185</td>\n",
              "      <td>24.212098</td>\n",
              "      <td>24.430295</td>\n",
              "      <td>22.573666</td>\n",
              "      <td>26.608140</td>\n",
              "    </tr>\n",
              "    <tr>\n",
              "      <th>24</th>\n",
              "      <td>23.587169</td>\n",
              "      <td>19.670107</td>\n",
              "      <td>21.921963</td>\n",
              "      <td>24.241260</td>\n",
              "      <td>24.556617</td>\n",
              "      <td>23.579112</td>\n",
              "      <td>23.287229</td>\n",
              "      <td>29.409272</td>\n",
              "      <td>25.576543</td>\n",
              "      <td>24.951662</td>\n",
              "      <td>...</td>\n",
              "      <td>23.724803</td>\n",
              "      <td>25.123301</td>\n",
              "      <td>23.346290</td>\n",
              "      <td>25.802477</td>\n",
              "      <td>24.239613</td>\n",
              "      <td>21.363526</td>\n",
              "      <td>24.198932</td>\n",
              "      <td>24.280570</td>\n",
              "      <td>22.368253</td>\n",
              "      <td>27.449039</td>\n",
              "    </tr>\n",
              "    <tr>\n",
              "      <th>25</th>\n",
              "      <td>23.829519</td>\n",
              "      <td>19.503849</td>\n",
              "      <td>22.225096</td>\n",
              "      <td>24.121336</td>\n",
              "      <td>25.755214</td>\n",
              "      <td>22.933314</td>\n",
              "      <td>22.239932</td>\n",
              "      <td>29.903886</td>\n",
              "      <td>25.769831</td>\n",
              "      <td>25.327499</td>\n",
              "      <td>...</td>\n",
              "      <td>25.191105</td>\n",
              "      <td>25.078226</td>\n",
              "      <td>23.654081</td>\n",
              "      <td>24.884432</td>\n",
              "      <td>24.706927</td>\n",
              "      <td>20.799567</td>\n",
              "      <td>24.596751</td>\n",
              "      <td>24.218891</td>\n",
              "      <td>23.173797</td>\n",
              "      <td>27.074050</td>\n",
              "    </tr>\n",
              "    <tr>\n",
              "      <th>26</th>\n",
              "      <td>24.098288</td>\n",
              "      <td>19.771285</td>\n",
              "      <td>22.577128</td>\n",
              "      <td>24.802408</td>\n",
              "      <td>25.339934</td>\n",
              "      <td>23.800005</td>\n",
              "      <td>22.192925</td>\n",
              "      <td>29.717558</td>\n",
              "      <td>26.371057</td>\n",
              "      <td>24.929233</td>\n",
              "      <td>...</td>\n",
              "      <td>26.169083</td>\n",
              "      <td>25.101424</td>\n",
              "      <td>23.480930</td>\n",
              "      <td>23.852230</td>\n",
              "      <td>23.886291</td>\n",
              "      <td>20.514844</td>\n",
              "      <td>24.070594</td>\n",
              "      <td>24.432789</td>\n",
              "      <td>23.067088</td>\n",
              "      <td>27.381956</td>\n",
              "    </tr>\n",
              "    <tr>\n",
              "      <th>27</th>\n",
              "      <td>24.532619</td>\n",
              "      <td>19.433705</td>\n",
              "      <td>22.893279</td>\n",
              "      <td>25.872006</td>\n",
              "      <td>26.050314</td>\n",
              "      <td>23.744314</td>\n",
              "      <td>22.488474</td>\n",
              "      <td>30.233592</td>\n",
              "      <td>26.862915</td>\n",
              "      <td>24.967720</td>\n",
              "      <td>...</td>\n",
              "      <td>26.315060</td>\n",
              "      <td>24.758746</td>\n",
              "      <td>22.857550</td>\n",
              "      <td>23.610228</td>\n",
              "      <td>23.496807</td>\n",
              "      <td>20.800609</td>\n",
              "      <td>24.236300</td>\n",
              "      <td>24.192155</td>\n",
              "      <td>23.297081</td>\n",
              "      <td>26.858955</td>\n",
              "    </tr>\n",
              "    <tr>\n",
              "      <th>28</th>\n",
              "      <td>25.692401</td>\n",
              "      <td>20.166280</td>\n",
              "      <td>22.174211</td>\n",
              "      <td>25.880206</td>\n",
              "      <td>25.766495</td>\n",
              "      <td>23.983166</td>\n",
              "      <td>22.820716</td>\n",
              "      <td>30.316862</td>\n",
              "      <td>26.918637</td>\n",
              "      <td>25.033083</td>\n",
              "      <td>...</td>\n",
              "      <td>26.022010</td>\n",
              "      <td>24.734722</td>\n",
              "      <td>21.221660</td>\n",
              "      <td>23.588865</td>\n",
              "      <td>23.658814</td>\n",
              "      <td>20.803636</td>\n",
              "      <td>23.683525</td>\n",
              "      <td>24.471021</td>\n",
              "      <td>23.200141</td>\n",
              "      <td>27.351378</td>\n",
              "    </tr>\n",
              "    <tr>\n",
              "      <th>29</th>\n",
              "      <td>25.476960</td>\n",
              "      <td>20.090816</td>\n",
              "      <td>21.797369</td>\n",
              "      <td>26.354710</td>\n",
              "      <td>25.780683</td>\n",
              "      <td>24.124834</td>\n",
              "      <td>23.027925</td>\n",
              "      <td>30.378899</td>\n",
              "      <td>26.612285</td>\n",
              "      <td>24.844037</td>\n",
              "      <td>...</td>\n",
              "      <td>26.636211</td>\n",
              "      <td>24.223174</td>\n",
              "      <td>20.890194</td>\n",
              "      <td>23.986790</td>\n",
              "      <td>22.999418</td>\n",
              "      <td>20.931030</td>\n",
              "      <td>24.260791</td>\n",
              "      <td>23.137326</td>\n",
              "      <td>23.863771</td>\n",
              "      <td>27.485597</td>\n",
              "    </tr>\n",
              "    <tr>\n",
              "      <th>30</th>\n",
              "      <td>25.312932</td>\n",
              "      <td>20.005229</td>\n",
              "      <td>21.837241</td>\n",
              "      <td>25.712825</td>\n",
              "      <td>26.237670</td>\n",
              "      <td>23.931128</td>\n",
              "      <td>22.486759</td>\n",
              "      <td>29.700074</td>\n",
              "      <td>25.683576</td>\n",
              "      <td>24.456983</td>\n",
              "      <td>...</td>\n",
              "      <td>26.574660</td>\n",
              "      <td>23.377463</td>\n",
              "      <td>21.602258</td>\n",
              "      <td>23.874663</td>\n",
              "      <td>22.919589</td>\n",
              "      <td>21.991476</td>\n",
              "      <td>23.293256</td>\n",
              "      <td>24.179959</td>\n",
              "      <td>23.446756</td>\n",
              "      <td>28.051293</td>\n",
              "    </tr>\n",
              "    <tr>\n",
              "      <th>31</th>\n",
              "      <td>26.304932</td>\n",
              "      <td>20.341905</td>\n",
              "      <td>22.308705</td>\n",
              "      <td>25.393459</td>\n",
              "      <td>25.582077</td>\n",
              "      <td>23.265334</td>\n",
              "      <td>22.426072</td>\n",
              "      <td>29.899782</td>\n",
              "      <td>25.290126</td>\n",
              "      <td>24.354628</td>\n",
              "      <td>...</td>\n",
              "      <td>26.799834</td>\n",
              "      <td>22.938681</td>\n",
              "      <td>21.613204</td>\n",
              "      <td>24.044616</td>\n",
              "      <td>22.809216</td>\n",
              "      <td>21.908737</td>\n",
              "      <td>23.613348</td>\n",
              "      <td>23.268317</td>\n",
              "      <td>24.133170</td>\n",
              "      <td>28.213815</td>\n",
              "    </tr>\n",
              "    <tr>\n",
              "      <th>32</th>\n",
              "      <td>26.394764</td>\n",
              "      <td>20.831172</td>\n",
              "      <td>21.529253</td>\n",
              "      <td>26.054001</td>\n",
              "      <td>25.799315</td>\n",
              "      <td>22.881385</td>\n",
              "      <td>21.718290</td>\n",
              "      <td>29.900024</td>\n",
              "      <td>25.375387</td>\n",
              "      <td>23.692102</td>\n",
              "      <td>...</td>\n",
              "      <td>27.381214</td>\n",
              "      <td>22.894718</td>\n",
              "      <td>21.852919</td>\n",
              "      <td>22.880779</td>\n",
              "      <td>22.206417</td>\n",
              "      <td>22.908281</td>\n",
              "      <td>23.913519</td>\n",
              "      <td>23.121668</td>\n",
              "      <td>23.575806</td>\n",
              "      <td>27.942618</td>\n",
              "    </tr>\n",
              "    <tr>\n",
              "      <th>33</th>\n",
              "      <td>25.851762</td>\n",
              "      <td>20.619545</td>\n",
              "      <td>21.783956</td>\n",
              "      <td>26.516172</td>\n",
              "      <td>25.677271</td>\n",
              "      <td>22.082970</td>\n",
              "      <td>22.035233</td>\n",
              "      <td>30.396404</td>\n",
              "      <td>24.223455</td>\n",
              "      <td>23.643224</td>\n",
              "      <td>...</td>\n",
              "      <td>26.830068</td>\n",
              "      <td>23.008475</td>\n",
              "      <td>22.025920</td>\n",
              "      <td>22.266799</td>\n",
              "      <td>21.865162</td>\n",
              "      <td>23.401488</td>\n",
              "      <td>24.259952</td>\n",
              "      <td>23.375002</td>\n",
              "      <td>23.948337</td>\n",
              "      <td>27.728902</td>\n",
              "    </tr>\n",
              "    <tr>\n",
              "      <th>34</th>\n",
              "      <td>26.168518</td>\n",
              "      <td>20.643190</td>\n",
              "      <td>21.565226</td>\n",
              "      <td>26.841561</td>\n",
              "      <td>25.425046</td>\n",
              "      <td>21.755692</td>\n",
              "      <td>22.809618</td>\n",
              "      <td>29.755720</td>\n",
              "      <td>24.251035</td>\n",
              "      <td>24.348572</td>\n",
              "      <td>...</td>\n",
              "      <td>26.513084</td>\n",
              "      <td>22.854090</td>\n",
              "      <td>22.362805</td>\n",
              "      <td>22.123525</td>\n",
              "      <td>21.274880</td>\n",
              "      <td>24.439359</td>\n",
              "      <td>23.218140</td>\n",
              "      <td>23.404616</td>\n",
              "      <td>24.012861</td>\n",
              "      <td>27.517948</td>\n",
              "    </tr>\n",
              "    <tr>\n",
              "      <th>35</th>\n",
              "      <td>26.416936</td>\n",
              "      <td>21.235552</td>\n",
              "      <td>20.647284</td>\n",
              "      <td>27.624969</td>\n",
              "      <td>25.183988</td>\n",
              "      <td>22.179242</td>\n",
              "      <td>23.048434</td>\n",
              "      <td>29.870181</td>\n",
              "      <td>24.488213</td>\n",
              "      <td>24.467328</td>\n",
              "      <td>...</td>\n",
              "      <td>26.349961</td>\n",
              "      <td>23.033543</td>\n",
              "      <td>22.248237</td>\n",
              "      <td>22.104407</td>\n",
              "      <td>21.490498</td>\n",
              "      <td>23.408712</td>\n",
              "      <td>23.845594</td>\n",
              "      <td>23.576062</td>\n",
              "      <td>24.151380</td>\n",
              "      <td>26.512186</td>\n",
              "    </tr>\n",
              "    <tr>\n",
              "      <th>36</th>\n",
              "      <td>26.319853</td>\n",
              "      <td>21.100081</td>\n",
              "      <td>20.398890</td>\n",
              "      <td>28.589634</td>\n",
              "      <td>25.321275</td>\n",
              "      <td>21.783494</td>\n",
              "      <td>23.615379</td>\n",
              "      <td>28.750084</td>\n",
              "      <td>23.742116</td>\n",
              "      <td>23.725752</td>\n",
              "      <td>...</td>\n",
              "      <td>25.800647</td>\n",
              "      <td>23.553683</td>\n",
              "      <td>21.682608</td>\n",
              "      <td>21.715549</td>\n",
              "      <td>21.174947</td>\n",
              "      <td>23.093620</td>\n",
              "      <td>24.121772</td>\n",
              "      <td>23.696733</td>\n",
              "      <td>24.610367</td>\n",
              "      <td>27.081059</td>\n",
              "    </tr>\n",
              "    <tr>\n",
              "      <th>37</th>\n",
              "      <td>26.410151</td>\n",
              "      <td>21.376685</td>\n",
              "      <td>20.905783</td>\n",
              "      <td>27.686803</td>\n",
              "      <td>25.022393</td>\n",
              "      <td>21.612909</td>\n",
              "      <td>23.430368</td>\n",
              "      <td>28.225620</td>\n",
              "      <td>24.825738</td>\n",
              "      <td>23.389994</td>\n",
              "      <td>...</td>\n",
              "      <td>26.313157</td>\n",
              "      <td>24.884812</td>\n",
              "      <td>21.339819</td>\n",
              "      <td>22.375514</td>\n",
              "      <td>21.599941</td>\n",
              "      <td>23.462723</td>\n",
              "      <td>24.169313</td>\n",
              "      <td>22.802720</td>\n",
              "      <td>24.510116</td>\n",
              "      <td>26.699446</td>\n",
              "    </tr>\n",
              "    <tr>\n",
              "      <th>38</th>\n",
              "      <td>25.610048</td>\n",
              "      <td>21.587169</td>\n",
              "      <td>21.190452</td>\n",
              "      <td>27.563050</td>\n",
              "      <td>24.670761</td>\n",
              "      <td>21.932395</td>\n",
              "      <td>24.255224</td>\n",
              "      <td>29.103752</td>\n",
              "      <td>25.056943</td>\n",
              "      <td>22.948472</td>\n",
              "      <td>...</td>\n",
              "      <td>26.386593</td>\n",
              "      <td>25.621058</td>\n",
              "      <td>21.432760</td>\n",
              "      <td>23.016635</td>\n",
              "      <td>21.448741</td>\n",
              "      <td>23.330028</td>\n",
              "      <td>24.318297</td>\n",
              "      <td>22.078208</td>\n",
              "      <td>25.064999</td>\n",
              "      <td>26.257237</td>\n",
              "    </tr>\n",
              "    <tr>\n",
              "      <th>39</th>\n",
              "      <td>25.355837</td>\n",
              "      <td>22.487993</td>\n",
              "      <td>21.129545</td>\n",
              "      <td>28.005010</td>\n",
              "      <td>25.099414</td>\n",
              "      <td>22.045435</td>\n",
              "      <td>24.443107</td>\n",
              "      <td>29.351528</td>\n",
              "      <td>25.607893</td>\n",
              "      <td>21.939276</td>\n",
              "      <td>...</td>\n",
              "      <td>26.239588</td>\n",
              "      <td>26.061482</td>\n",
              "      <td>20.990242</td>\n",
              "      <td>23.560060</td>\n",
              "      <td>21.478533</td>\n",
              "      <td>22.978424</td>\n",
              "      <td>24.087943</td>\n",
              "      <td>21.817156</td>\n",
              "      <td>24.900178</td>\n",
              "      <td>26.259042</td>\n",
              "    </tr>\n",
              "    <tr>\n",
              "      <th>40</th>\n",
              "      <td>25.522879</td>\n",
              "      <td>22.087997</td>\n",
              "      <td>21.563442</td>\n",
              "      <td>30.006112</td>\n",
              "      <td>24.812056</td>\n",
              "      <td>22.488821</td>\n",
              "      <td>24.709620</td>\n",
              "      <td>28.892501</td>\n",
              "      <td>26.684667</td>\n",
              "      <td>22.180028</td>\n",
              "      <td>...</td>\n",
              "      <td>26.240912</td>\n",
              "      <td>26.891516</td>\n",
              "      <td>20.699317</td>\n",
              "      <td>23.772628</td>\n",
              "      <td>21.681448</td>\n",
              "      <td>23.595577</td>\n",
              "      <td>23.540844</td>\n",
              "      <td>22.240134</td>\n",
              "      <td>24.050070</td>\n",
              "      <td>26.145269</td>\n",
              "    </tr>\n",
              "  </tbody>\n",
              "</table>\n",
              "<p>41 rows × 10000 columns</p>\n",
              "</div>\n",
              "      <button class=\"colab-df-convert\" onclick=\"convertToInteractive('df-0eb7a347-e4a3-419e-a804-af32b32a0234')\"\n",
              "              title=\"Convert this dataframe to an interactive table.\"\n",
              "              style=\"display:none;\">\n",
              "        \n",
              "  <svg xmlns=\"http://www.w3.org/2000/svg\" height=\"24px\"viewBox=\"0 0 24 24\"\n",
              "       width=\"24px\">\n",
              "    <path d=\"M0 0h24v24H0V0z\" fill=\"none\"/>\n",
              "    <path d=\"M18.56 5.44l.94 2.06.94-2.06 2.06-.94-2.06-.94-.94-2.06-.94 2.06-2.06.94zm-11 1L8.5 8.5l.94-2.06 2.06-.94-2.06-.94L8.5 2.5l-.94 2.06-2.06.94zm10 10l.94 2.06.94-2.06 2.06-.94-2.06-.94-.94-2.06-.94 2.06-2.06.94z\"/><path d=\"M17.41 7.96l-1.37-1.37c-.4-.4-.92-.59-1.43-.59-.52 0-1.04.2-1.43.59L10.3 9.45l-7.72 7.72c-.78.78-.78 2.05 0 2.83L4 21.41c.39.39.9.59 1.41.59.51 0 1.02-.2 1.41-.59l7.78-7.78 2.81-2.81c.8-.78.8-2.07 0-2.86zM5.41 20L4 18.59l7.72-7.72 1.47 1.35L5.41 20z\"/>\n",
              "  </svg>\n",
              "      </button>\n",
              "      \n",
              "  <style>\n",
              "    .colab-df-container {\n",
              "      display:flex;\n",
              "      flex-wrap:wrap;\n",
              "      gap: 12px;\n",
              "    }\n",
              "\n",
              "    .colab-df-convert {\n",
              "      background-color: #E8F0FE;\n",
              "      border: none;\n",
              "      border-radius: 50%;\n",
              "      cursor: pointer;\n",
              "      display: none;\n",
              "      fill: #1967D2;\n",
              "      height: 32px;\n",
              "      padding: 0 0 0 0;\n",
              "      width: 32px;\n",
              "    }\n",
              "\n",
              "    .colab-df-convert:hover {\n",
              "      background-color: #E2EBFA;\n",
              "      box-shadow: 0px 1px 2px rgba(60, 64, 67, 0.3), 0px 1px 3px 1px rgba(60, 64, 67, 0.15);\n",
              "      fill: #174EA6;\n",
              "    }\n",
              "\n",
              "    [theme=dark] .colab-df-convert {\n",
              "      background-color: #3B4455;\n",
              "      fill: #D2E3FC;\n",
              "    }\n",
              "\n",
              "    [theme=dark] .colab-df-convert:hover {\n",
              "      background-color: #434B5C;\n",
              "      box-shadow: 0px 1px 3px 1px rgba(0, 0, 0, 0.15);\n",
              "      filter: drop-shadow(0px 1px 2px rgba(0, 0, 0, 0.3));\n",
              "      fill: #FFFFFF;\n",
              "    }\n",
              "  </style>\n",
              "\n",
              "      <script>\n",
              "        const buttonEl =\n",
              "          document.querySelector('#df-0eb7a347-e4a3-419e-a804-af32b32a0234 button.colab-df-convert');\n",
              "        buttonEl.style.display =\n",
              "          google.colab.kernel.accessAllowed ? 'block' : 'none';\n",
              "\n",
              "        async function convertToInteractive(key) {\n",
              "          const element = document.querySelector('#df-0eb7a347-e4a3-419e-a804-af32b32a0234');\n",
              "          const dataTable =\n",
              "            await google.colab.kernel.invokeFunction('convertToInteractive',\n",
              "                                                     [key], {});\n",
              "          if (!dataTable) return;\n",
              "\n",
              "          const docLinkHtml = 'Like what you see? Visit the ' +\n",
              "            '<a target=\"_blank\" href=https://colab.research.google.com/notebooks/data_table.ipynb>data table notebook</a>'\n",
              "            + ' to learn more about interactive tables.';\n",
              "          element.innerHTML = '';\n",
              "          dataTable['output_type'] = 'display_data';\n",
              "          await google.colab.output.renderOutput(dataTable, element);\n",
              "          const docLink = document.createElement('div');\n",
              "          docLink.innerHTML = docLinkHtml;\n",
              "          element.appendChild(docLink);\n",
              "        }\n",
              "      </script>\n",
              "    </div>\n",
              "  </div>\n",
              "  "
            ]
          },
          "metadata": {},
          "execution_count": 17
        }
      ]
    },
    {
      "cell_type": "code",
      "source": [
        "final = simulation_df.iloc[-1]\n",
        "final"
      ],
      "metadata": {
        "colab": {
          "base_uri": "https://localhost:8080/"
        },
        "id": "wyBbOXM36-kc",
        "outputId": "a58c12ac-d86c-4c03-fdc4-7551331892f8"
      },
      "execution_count": 18,
      "outputs": [
        {
          "output_type": "execute_result",
          "data": {
            "text/plain": [
              "0       25.522879\n",
              "1       22.087997\n",
              "2       21.563442\n",
              "3       30.006112\n",
              "4       24.812056\n",
              "          ...    \n",
              "9995    23.595577\n",
              "9996    23.540844\n",
              "9997    22.240134\n",
              "9998    24.050070\n",
              "9999    26.145269\n",
              "Name: 40, Length: 10000, dtype: float64"
            ]
          },
          "metadata": {},
          "execution_count": 18
        }
      ]
    },
    {
      "cell_type": "code",
      "source": [
        "final.max()"
      ],
      "metadata": {
        "colab": {
          "base_uri": "https://localhost:8080/"
        },
        "id": "rX3w3TuODBjL",
        "outputId": "27b47725-747e-47ba-9561-c40ada12c160"
      },
      "execution_count": 19,
      "outputs": [
        {
          "output_type": "execute_result",
          "data": {
            "text/plain": [
              "42.577719290566364"
            ]
          },
          "metadata": {},
          "execution_count": 19
        }
      ]
    },
    {
      "cell_type": "code",
      "source": [
        "final.min()"
      ],
      "metadata": {
        "colab": {
          "base_uri": "https://localhost:8080/"
        },
        "id": "f5xFr8bxDFAf",
        "outputId": "b54f64e2-61dc-4f03-9b29-5e287b02a20f"
      },
      "execution_count": 20,
      "outputs": [
        {
          "output_type": "execute_result",
          "data": {
            "text/plain": [
              "13.143331795657703"
            ]
          },
          "metadata": {},
          "execution_count": 20
        }
      ]
    },
    {
      "cell_type": "code",
      "source": [
        "average = np.mean(final)\n",
        "\n",
        "std = np.std(final)\n",
        "average, std"
      ],
      "metadata": {
        "colab": {
          "base_uri": "https://localhost:8080/"
        },
        "id": "XOCY8emb50nB",
        "outputId": "f50fdd90-322a-4688-9179-cdc42ff67d3b"
      },
      "execution_count": 21,
      "outputs": [
        {
          "output_type": "execute_result",
          "data": {
            "text/plain": [
              "(23.882642737697182, 3.408071697828587)"
            ]
          },
          "metadata": {},
          "execution_count": 21
        }
      ]
    },
    {
      "cell_type": "code",
      "source": [
        "#kdeplot using seaborn library\n",
        "sns.kdeplot(final, shade = True)\n"
      ],
      "metadata": {
        "colab": {
          "base_uri": "https://localhost:8080/",
          "height": 297
        },
        "id": "-xtWJwiTB6Vf",
        "outputId": "66fa22da-6ca2-44b9-92e0-21e41ae34953"
      },
      "execution_count": 22,
      "outputs": [
        {
          "output_type": "execute_result",
          "data": {
            "text/plain": [
              "<matplotlib.axes._subplots.AxesSubplot at 0x7ff625610760>"
            ]
          },
          "metadata": {},
          "execution_count": 22
        },
        {
          "output_type": "display_data",
          "data": {
            "text/plain": [
              "<Figure size 432x288 with 1 Axes>"
            ],
            "image/png": "[encoded data removed]"
          },
          "metadata": {
            "needs_background": "light"
          }
        }
      ]
    },
    {
      "cell_type": "code",
      "source": [
        "\n",
        "#for cdf instead of usual pdf, use this instead\n",
        "sns.kdeplot(final, cumulative=True)"
      ],
      "metadata": {
        "colab": {
          "base_uri": "https://localhost:8080/",
          "height": 297
        },
        "id": "KxnqikU2EJws",
        "outputId": "3e5bc54f-14a8-4cd4-a5c4-96199446cbc2"
      },
      "execution_count": 23,
      "outputs": [
        {
          "output_type": "execute_result",
          "data": {
            "text/plain": [
              "<matplotlib.axes._subplots.AxesSubplot at 0x7ff61c49edf0>"
            ]
          },
          "metadata": {},
          "execution_count": 23
        },
        {
          "output_type": "display_data",
          "data": {
            "text/plain": [
              "<Figure size 432x288 with 1 Axes>"
            ],
            "image/png": "[encoded data removed]"
          },
          "metadata": {
            "needs_background": "light"
          }
        }
      ]
    },
    {
      "cell_type": "code",
      "source": [
        "#bins_desired = [0,80,160,240,320,400,480,560,640,720]\n",
        "bins_desired = [0,4,8,12,16,20,24,28,32,36,40,44,48]\n",
        "\n",
        "plt.hist(final, bins = bins_desired, edgecolor = 'red')"
      ],
      "metadata": {
        "colab": {
          "base_uri": "https://localhost:8080/",
          "height": 336
        },
        "id": "yhjZFBG_9QeZ",
        "outputId": "ede669d4-0ceb-45b4-99f5-4ac9dc859c33"
      },
      "execution_count": 25,
      "outputs": [
        {
          "output_type": "execute_result",
          "data": {
            "text/plain": [
              "(array([0.000e+00, 0.000e+00, 0.000e+00, 2.600e+01, 1.190e+03, 4.171e+03,\n",
              "        3.438e+03, 1.010e+03, 1.490e+02, 1.400e+01, 2.000e+00, 0.000e+00]),\n",
              " array([ 0,  4,  8, 12, 16, 20, 24, 28, 32, 36, 40, 44, 48]),\n",
              " <a list of 12 Patch objects>)"
            ]
          },
          "metadata": {},
          "execution_count": 25
        },
        {
          "output_type": "display_data",
          "data": {
            "text/plain": [
              "<Figure size 432x288 with 1 Axes>"
            ],
            "image/png": "[encoded data removed]"
          },
          "metadata": {
            "needs_background": "light"
          }
        }
      ]
    },
    {
      "cell_type": "code",
      "source": [
        "counter_less140 = final[final<last_price]\n",
        "counter_less140\n",
        "prob = len(counter_less140) / trials \n",
        "print(prob)"
      ],
      "metadata": {
        "colab": {
          "base_uri": "https://localhost:8080/"
        },
        "id": "mFUpEdqXDfCY",
        "outputId": "1442d058-aa5f-44c0-a089-07aef0218a60"
      },
      "execution_count": 26,
      "outputs": [
        {
          "output_type": "stream",
          "name": "stdout",
          "text": [
            "0.5292\n"
          ]
        }
      ]
    },
    {
      "cell_type": "code",
      "source": [
        "time_value = last_price* 1.02\n",
        "print(len(final[final<time_value])/trials)"
      ],
      "metadata": {
        "colab": {
          "base_uri": "https://localhost:8080/"
        },
        "id": "24zGtNBPGxrx",
        "outputId": "0f09e377-044e-4570-cf70-588457eb6100"
      },
      "execution_count": 27,
      "outputs": [
        {
          "output_type": "stream",
          "name": "stdout",
          "text": [
            "0.5842\n"
          ]
        }
      ]
    }
  ]
}