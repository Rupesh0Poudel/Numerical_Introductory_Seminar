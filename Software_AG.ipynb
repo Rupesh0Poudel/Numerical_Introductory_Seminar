{
  "nbformat": 4,
  "nbformat_minor": 0,
  "metadata": {
    "colab": {
      "provenance": [],
      "authorship_tag": "ABX9TyMUN1Gkv9eLzyqtJTTgMEvf",
      "include_colab_link": true
    },
    "kernelspec": {
      "name": "python3",
      "display_name": "Python 3"
    },
    "language_info": {
      "name": "python"
    }
  },
  "cells": [
    {
      "cell_type": "markdown",
      "metadata": {
        "id": "view-in-github",
        "colab_type": "text"
      },
      "source": [
        "<a href=\"https://colab.research.google.com/github/Rupesh0Poudel/Numerical_Introductory_Seminar/blob/main/Software_AG.ipynb\" target=\"_parent\"><img src=\"https://colab.research.google.com/assets/colab-badge.svg\" alt=\"Open In Colab\"/></a>"
      ]
    },
    {
      "cell_type": "code",
      "source": [
        "pip install yfinance"
      ],
      "metadata": {
        "id": "z7stKR_vQA61",
        "colab": {
          "base_uri": "https://localhost:8080/"
        },
        "outputId": "05052af9-ce45-4112-9ad2-d3581cc93aa2"
      },
      "execution_count": 1,
      "outputs": [
        {
          "output_type": "stream",
          "name": "stdout",
          "text": [
            "Looking in indexes: https://pypi.org/simple, https://us-python.pkg.dev/colab-wheels/public/simple/\n",
            "Collecting yfinance\n",
            "  Downloading yfinance-0.1.89-py2.py3-none-any.whl (29 kB)\n",
            "Requirement already satisfied: multitasking>=0.0.7 in /usr/local/lib/python3.8/dist-packages (from yfinance) (0.0.11)\n",
            "Requirement already satisfied: appdirs>=1.4.4 in /usr/local/lib/python3.8/dist-packages (from yfinance) (1.4.4)\n",
            "Collecting requests>=2.26\n",
            "  Downloading requests-2.28.1-py3-none-any.whl (62 kB)\n",
            "\u001b[K     |████████████████████████████████| 62 kB 358 kB/s \n",
            "\u001b[?25hRequirement already satisfied: numpy>=1.16.5 in /usr/local/lib/python3.8/dist-packages (from yfinance) (1.21.6)\n",
            "Requirement already satisfied: pandas>=1.3.0 in /usr/local/lib/python3.8/dist-packages (from yfinance) (1.3.5)\n",
            "Requirement already satisfied: pytz>=2017.3 in /usr/local/lib/python3.8/dist-packages (from pandas>=1.3.0->yfinance) (2022.6)\n",
            "Requirement already satisfied: python-dateutil>=2.7.3 in /usr/local/lib/python3.8/dist-packages (from pandas>=1.3.0->yfinance) (2.8.2)\n",
            "Requirement already satisfied: six>=1.5 in /usr/local/lib/python3.8/dist-packages (from python-dateutil>=2.7.3->pandas>=1.3.0->yfinance) (1.15.0)\n",
            "Requirement already satisfied: certifi>=2017.4.17 in /usr/local/lib/python3.8/dist-packages (from requests>=2.26->yfinance) (2022.9.24)\n",
            "Requirement already satisfied: urllib3<1.27,>=1.21.1 in /usr/local/lib/python3.8/dist-packages (from requests>=2.26->yfinance) (1.24.3)\n",
            "Requirement already satisfied: charset-normalizer<3,>=2 in /usr/local/lib/python3.8/dist-packages (from requests>=2.26->yfinance) (2.1.1)\n",
            "Requirement already satisfied: idna<4,>=2.5 in /usr/local/lib/python3.8/dist-packages (from requests>=2.26->yfinance) (2.10)\n",
            "Installing collected packages: requests, yfinance\n",
            "  Attempting uninstall: requests\n",
            "    Found existing installation: requests 2.23.0\n",
            "    Uninstalling requests-2.23.0:\n",
            "      Successfully uninstalled requests-2.23.0\n",
            "Successfully installed requests-2.28.1 yfinance-0.1.89\n"
          ]
        }
      ]
    },
    {
      "cell_type": "code",
      "execution_count": 2,
      "metadata": {
        "id": "5fyfpO1eOxUO"
      },
      "outputs": [],
      "source": [
        "import yfinance as yf\n",
        "import pandas as pd\n",
        "import numpy as np\n",
        "import matplotlib.pyplot as plt\n",
        "import seaborn as sns"
      ]
    },
    {
      "cell_type": "code",
      "source": [
        "df = yf.download(\"SOW.DE\", start = \"2020-1-1\", end=\"2022-11-30\")\n",
        "\n"
      ],
      "metadata": {
        "id": "NXAM4YcoQXOZ",
        "colab": {
          "base_uri": "https://localhost:8080/"
        },
        "outputId": "89d7d454-c636-4d2c-90b1-9576d3c26d55"
      },
      "execution_count": 3,
      "outputs": [
        {
          "output_type": "stream",
          "name": "stdout",
          "text": [
            "\r[*********************100%***********************]  1 of 1 completed\n"
          ]
        }
      ]
    },
    {
      "cell_type": "code",
      "source": [
        "print(df.tail)"
      ],
      "metadata": {
        "id": "u4ZZ1gVlR8Fq",
        "colab": {
          "base_uri": "https://localhost:8080/"
        },
        "outputId": "a9527646-1268-4a76-b68b-c67b0025b0b1"
      },
      "execution_count": 4,
      "outputs": [
        {
          "output_type": "stream",
          "name": "stdout",
          "text": [
            "<bound method NDFrame.tail of                  Open       High        Low      Close  Adj Close  Volume\n",
            "Date                                                                     \n",
            "2020-01-02  31.110001  31.450001  31.110001  31.330000  29.218414   90538\n",
            "2020-01-03  31.290001  31.290001  30.730000  30.780001  28.705486  101324\n",
            "2020-01-06  30.709999  30.780001  30.080000  30.780001  28.705486  209811\n",
            "2020-01-07  30.850000  31.730000  30.840000  31.420000  29.302349  164562\n",
            "2020-01-08  31.049999  31.889999  30.879999  31.889999  29.740671  114655\n",
            "...               ...        ...        ...        ...        ...     ...\n",
            "2022-11-23  25.000000  25.440001  25.000000  25.440001  25.440001   74041\n",
            "2022-11-24  25.400000  26.040001  25.400000  25.959999  25.959999   55223\n",
            "2022-11-25  25.820000  25.980000  25.600000  25.860001  25.860001   68366\n",
            "2022-11-28  25.700001  25.719999  24.920000  24.940001  24.940001   71718\n",
            "2022-11-29  24.879999  25.000000  23.879999  23.920000  23.920000   88713\n",
            "\n",
            "[744 rows x 6 columns]>\n"
          ]
        }
      ]
    },
    {
      "cell_type": "code",
      "source": [
        "df.head()\n",
        "df.columns"
      ],
      "metadata": {
        "colab": {
          "base_uri": "https://localhost:8080/"
        },
        "id": "6rqBV-u2S1km",
        "outputId": "dd418092-5f04-4605-fb25-67b0e25b54aa"
      },
      "execution_count": 5,
      "outputs": [
        {
          "output_type": "execute_result",
          "data": {
            "text/plain": [
              "Index(['Open', 'High', 'Low', 'Close', 'Adj Close', 'Volume'], dtype='object')"
            ]
          },
          "metadata": {},
          "execution_count": 5
        }
      ]
    },
    {
      "cell_type": "code",
      "source": [
        "adj_close= df['Adj Close']\n",
        "adj_close.tail()"
      ],
      "metadata": {
        "colab": {
          "base_uri": "https://localhost:8080/"
        },
        "id": "XkjDLaBKUQeM",
        "outputId": "17d83de2-f60a-45db-ae36-86a60cf7d79c"
      },
      "execution_count": 6,
      "outputs": [
        {
          "output_type": "execute_result",
          "data": {
            "text/plain": [
              "Date\n",
              "2022-11-23    25.440001\n",
              "2022-11-24    25.959999\n",
              "2022-11-25    25.860001\n",
              "2022-11-28    24.940001\n",
              "2022-11-29    23.920000\n",
              "Name: Adj Close, dtype: float64"
            ]
          },
          "metadata": {},
          "execution_count": 6
        }
      ]
    },
    {
      "cell_type": "code",
      "source": [
        "returns = adj_close.pct_change()\n",
        "\n",
        "print(len(returns))\n",
        "returns.head()"
      ],
      "metadata": {
        "colab": {
          "base_uri": "https://localhost:8080/"
        },
        "id": "Yl1xBwhJUf1J",
        "outputId": "35332829-2308-4f24-b8fb-70b06e837f3f"
      },
      "execution_count": 7,
      "outputs": [
        {
          "output_type": "stream",
          "name": "stdout",
          "text": [
            "744\n"
          ]
        },
        {
          "output_type": "execute_result",
          "data": {
            "text/plain": [
              "Date\n",
              "2020-01-02         NaN\n",
              "2020-01-03   -0.017555\n",
              "2020-01-06    0.000000\n",
              "2020-01-07    0.020793\n",
              "2020-01-08    0.014959\n",
              "Name: Adj Close, dtype: float64"
            ]
          },
          "metadata": {},
          "execution_count": 7
        }
      ]
    },
    {
      "cell_type": "code",
      "source": [
        "adj_close.plot()"
      ],
      "metadata": {
        "colab": {
          "base_uri": "https://localhost:8080/",
          "height": 294
        },
        "id": "lW1f2gcfx9Jl",
        "outputId": "48fe82fd-4383-4765-d325-63f407022336"
      },
      "execution_count": 8,
      "outputs": [
        {
          "output_type": "execute_result",
          "data": {
            "text/plain": [
              "<matplotlib.axes._subplots.AxesSubplot at 0x7f856346a130>"
            ]
          },
          "metadata": {},
          "execution_count": 8
        },
        {
          "output_type": "display_data",
          "data": {
            "text/plain": [
              "<Figure size 432x288 with 1 Axes>"
            ],
            "image/png": "[encoded data removed]"
          },
          "metadata": {
            "needs_background": "light"
          }
        }
      ]
    },
    {
      "cell_type": "code",
      "source": [
        "returns.plot()"
      ],
      "metadata": {
        "colab": {
          "base_uri": "https://localhost:8080/",
          "height": 294
        },
        "id": "JI1uP8RJHIN1",
        "outputId": "83e82404-2511-4049-fcfc-2214969be815"
      },
      "execution_count": 9,
      "outputs": [
        {
          "output_type": "execute_result",
          "data": {
            "text/plain": [
              "<matplotlib.axes._subplots.AxesSubplot at 0x7f85633cda00>"
            ]
          },
          "metadata": {},
          "execution_count": 9
        },
        {
          "output_type": "display_data",
          "data": {
            "text/plain": [
              "<Figure size 432x288 with 1 Axes>"
            ],
            "image/png": "[encoded data removed]"
          },
          "metadata": {
            "needs_background": "light"
          }
        }
      ]
    },
    {
      "cell_type": "code",
      "source": [
        "returns"
      ],
      "metadata": {
        "colab": {
          "base_uri": "https://localhost:8080/"
        },
        "id": "ODeTORSVYUHK",
        "outputId": "c996bd51-9e11-4f82-e74b-588012d97c74"
      },
      "execution_count": 10,
      "outputs": [
        {
          "output_type": "execute_result",
          "data": {
            "text/plain": [
              "Date\n",
              "2020-01-02         NaN\n",
              "2020-01-03   -0.017555\n",
              "2020-01-06    0.000000\n",
              "2020-01-07    0.020793\n",
              "2020-01-08    0.014959\n",
              "                ...   \n",
              "2022-11-23    0.010326\n",
              "2022-11-24    0.020440\n",
              "2022-11-25   -0.003852\n",
              "2022-11-28   -0.035576\n",
              "2022-11-29   -0.040898\n",
              "Name: Adj Close, Length: 744, dtype: float64"
            ]
          },
          "metadata": {},
          "execution_count": 10
        }
      ]
    },
    {
      "cell_type": "code",
      "source": [
        "returns\n",
        "df_new = returns[1:744]\n",
        "df_new"
      ],
      "metadata": {
        "colab": {
          "base_uri": "https://localhost:8080/"
        },
        "id": "XFt83jlpi_6D",
        "outputId": "ade12bdd-e70e-46f5-ac26-e6c78791973f"
      },
      "execution_count": 11,
      "outputs": [
        {
          "output_type": "execute_result",
          "data": {
            "text/plain": [
              "Date\n",
              "2020-01-03   -0.017555\n",
              "2020-01-06    0.000000\n",
              "2020-01-07    0.020793\n",
              "2020-01-08    0.014959\n",
              "2020-01-09    0.022891\n",
              "                ...   \n",
              "2022-11-23    0.010326\n",
              "2022-11-24    0.020440\n",
              "2022-11-25   -0.003852\n",
              "2022-11-28   -0.035576\n",
              "2022-11-29   -0.040898\n",
              "Name: Adj Close, Length: 743, dtype: float64"
            ]
          },
          "metadata": {},
          "execution_count": 11
        }
      ]
    },
    {
      "cell_type": "code",
      "source": [
        "last_price = adj_close[-1]\n",
        "last_price"
      ],
      "metadata": {
        "id": "blahe_uHv_rI",
        "colab": {
          "base_uri": "https://localhost:8080/"
        },
        "outputId": "74a6dba2-9ac5-42b6-c5a0-37c614ba17ea"
      },
      "execution_count": 12,
      "outputs": [
        {
          "output_type": "execute_result",
          "data": {
            "text/plain": [
              "23.920000076293945"
            ]
          },
          "metadata": {},
          "execution_count": 12
        }
      ]
    },
    {
      "cell_type": "markdown",
      "source": [
        "We start with 10000 simulation. We will try to draw the path for 40\n",
        "trading days. To store the results of the simulation, pandas' dataframe was created."
      ],
      "metadata": {
        "id": "xubzpA6SMs69"
      }
    },
    {
      "cell_type": "code",
      "source": [
        "trials = 10000\n",
        "num_days = 40\n",
        "simulation_df = pd.DataFrame()"
      ],
      "metadata": {
        "id": "q85Nrtnc26MK"
      },
      "execution_count": 13,
      "outputs": []
    },
    {
      "cell_type": "markdown",
      "source": [
        "For Trial = 1, the first entry of the first for loop, we start with our volatility we calculated. Our price_series for the new trial is now blank. We calculate single instance of how a price might evolve. For the second till the desired instance, we calculate, in the second for loop, all the outputs for the first trial. that completes our first trial. \n",
        "The loop goes on till the desired trial is reached, and the simulated_df now consists a matrix of all trials and price paths in each trial.   "
      ],
      "metadata": {
        "id": "gJiUXD2zKDIH"
      }
    },
    {
      "cell_type": "code",
      "source": [
        "for x in range(trials):\n",
        "    count = 0\n",
        "    daily_vol = returns.std()\n",
        "    \n",
        "    price_series = []\n",
        "    \n",
        "    price = last_price * (1 + np.random.normal(0, daily_vol))\n",
        "    price_series.append(price)\n",
        "    \n",
        "    for y in range(num_days):\n",
        "        if count == 40:\n",
        "            break\n",
        "        price = price_series[count] * (1 + np.random.normal(0, daily_vol))\n",
        "        price_series.append(price)\n",
        "        count += 1\n",
        "    \n",
        "    simulation_df[x] = price_series\n",
        "    \n",
        "fig = plt.figure()\n",
        "fig.suptitle('Monte Carlo Simulation: SOW.DE')\n",
        "plt.plot(simulation_df)\n",
        "plt.axhline(y = last_price, color = 'r', linestyle = '-')\n",
        "plt.xlabel('Day')\n",
        "plt.ylabel('Price')\n",
        "plt.show()\n",
        "# code copied from/ inspired by youtube channel \"codebliss\""
      ],
      "metadata": {
        "colab": {
          "base_uri": "https://localhost:8080/",
          "height": 363
        },
        "id": "WGwGUPUiyn86",
        "outputId": "d45f0f9d-9092-44d4-ad63-3758494da6db"
      },
      "execution_count": 14,
      "outputs": [
        {
          "output_type": "stream",
          "name": "stderr",
          "text": [
            "<ipython-input-14-11572e4f5090>:17: PerformanceWarning: DataFrame is highly fragmented.  This is usually the result of calling `frame.insert` many times, which has poor performance.  Consider joining all columns at once using pd.concat(axis=1) instead.  To get a de-fragmented frame, use `newframe = frame.copy()`\n",
            "  simulation_df[x] = price_series\n"
          ]
        },
        {
          "output_type": "display_data",
          "data": {
            "text/plain": [
              "<Figure size 432x288 with 1 Axes>"
            ],
            "image/png": "[encoded data removed]"
          },
          "metadata": {
            "needs_background": "light"
          }
        }
      ]
    },
    {
      "cell_type": "code",
      "source": [
        "simulation_df\n"
      ],
      "metadata": {
        "colab": {
          "base_uri": "https://localhost:8080/",
          "height": 1000
        },
        "id": "0tNIjQCd23d6",
        "outputId": "4e3455f8-8890-4909-9eb5-5013cf6b5135"
      },
      "execution_count": 15,
      "outputs": [
        {
          "output_type": "execute_result",
          "data": {
            "text/plain": [
              "         0          1          2          3          4          5     \\\n",
              "0   24.184995  24.309281  23.602762  24.864075  24.548371  23.125174   \n",
              "1   24.743179  24.299083  23.143718  25.468186  25.127874  23.874832   \n",
              "2   24.108451  24.267497  23.304917  26.368539  26.138940  23.616132   \n",
              "3   25.255928  23.507273  23.193951  25.217775  26.359279  24.275080   \n",
              "4   24.971234  23.223884  23.943802  25.269640  24.870358  24.099916   \n",
              "5   25.643021  23.453068  23.878068  24.597140  25.159031  24.905723   \n",
              "6   25.468132  23.341592  23.899825  24.533510  24.854069  25.126064   \n",
              "7   25.614689  23.323922  23.550712  24.597272  24.846227  24.526084   \n",
              "8   26.185803  22.659422  23.493891  23.825337  23.575709  25.662247   \n",
              "9   26.938253  22.445290  22.295245  25.176891  23.525692  25.781613   \n",
              "10  26.531329  21.320188  22.521179  24.788161  24.709243  25.232990   \n",
              "11  26.497538  20.333872  23.155718  25.006157  24.092099  25.581962   \n",
              "12  27.576880  20.884780  23.164628  23.936332  24.342488  25.943595   \n",
              "13  27.515971  21.603782  22.596350  23.826791  24.411058  25.939473   \n",
              "14  27.090258  21.213244  22.952877  23.203540  24.254243  26.106851   \n",
              "15  26.243955  19.890530  22.361760  24.337862  24.172182  25.566267   \n",
              "16  26.357257  19.950052  22.716488  24.456830  24.461658  25.650922   \n",
              "17  25.599949  20.230675  22.193074  24.790355  24.909842  25.287819   \n",
              "18  25.661801  19.771896  22.025667  25.054234  25.329457  24.288905   \n",
              "19  25.824484  19.703388  22.284335  24.715352  25.960596  25.061231   \n",
              "20  26.277491  19.029759  21.658082  24.218504  26.483271  25.420291   \n",
              "21  25.886491  18.790131  22.423973  24.069747  27.020655  26.589235   \n",
              "22  25.016298  18.686829  22.377084  23.985275  27.700698  27.053531   \n",
              "23  24.985755  18.937289  22.736294  23.336868  27.686644  26.916320   \n",
              "24  24.045009  19.584708  22.499954  23.056986  27.479939  26.523831   \n",
              "25  24.760557  20.090180  22.927693  22.826553  27.970517  25.839482   \n",
              "26  24.381870  19.660968  22.174369  22.579120  27.738147  24.964069   \n",
              "27  24.544054  19.883575  21.005688  23.384638  27.422993  24.318213   \n",
              "28  24.964773  19.772889  21.213919  22.672194  28.948070  24.430722   \n",
              "29  25.013522  19.167408  20.861622  23.344557  29.529075  24.037379   \n",
              "30  25.438290  19.744147  21.300083  24.063442  30.179220  24.217331   \n",
              "31  24.986962  20.390532  22.077000  24.062468  30.136284  24.455046   \n",
              "32  25.053674  20.296389  21.723007  24.832631  29.763801  24.127838   \n",
              "33  24.807990  20.713345  21.444549  24.947699  30.142440  23.915516   \n",
              "34  25.335709  21.468533  21.898290  24.781217  30.069231  23.970877   \n",
              "35  24.435889  22.041256  21.444897  25.116293  30.655431  23.684681   \n",
              "36  24.742546  22.579230  20.696053  24.542031  30.598650  23.122036   \n",
              "37  24.871895  23.177435  20.827517  23.472232  29.531798  23.685672   \n",
              "38  25.251257  24.245107  19.991748  22.937319  29.794390  23.482259   \n",
              "39  24.928842  24.096159  20.522260  22.085059  29.530795  23.375011   \n",
              "40  25.246791  24.437585  20.530808  22.429350  30.056543  22.417492   \n",
              "\n",
              "         6          7          8          9     ...       9990       9991  \\\n",
              "0   24.761886  23.285760  22.968436  24.138083  ...  24.540054  24.156526   \n",
              "1   24.454052  24.037699  23.594854  23.657008  ...  24.657478  24.164192   \n",
              "2   24.522057  23.051044  23.704377  24.092567  ...  25.400574  24.602261   \n",
              "3   25.154214  22.488575  23.235619  24.095687  ...  25.748910  24.604840   \n",
              "4   25.600311  23.360657  22.899983  23.404596  ...  26.149830  24.399160   \n",
              "5   26.084469  24.409259  22.779336  22.667210  ...  27.124631  24.483091   \n",
              "6   25.942401  25.103179  23.056965  22.772087  ...  26.359082  24.536201   \n",
              "7   25.520084  25.119317  23.414838  23.360635  ...  25.852543  24.047397   \n",
              "8   24.371001  25.069999  23.363591  24.164093  ...  25.710566  24.889608   \n",
              "9   23.671868  25.023792  23.597400  23.919167  ...  25.433992  25.435774   \n",
              "10  24.690165  25.085343  24.884624  24.192319  ...  25.441049  25.671389   \n",
              "11  25.270958  24.127915  24.850989  24.070873  ...  26.034004  25.454025   \n",
              "12  24.860293  23.915382  24.894850  23.915496  ...  25.291645  26.419769   \n",
              "13  23.768823  24.305752  23.890582  24.068841  ...  24.925294  26.770881   \n",
              "14  23.250365  24.022841  23.036127  23.609283  ...  23.798504  25.904383   \n",
              "15  24.788209  23.900438  23.166336  22.298169  ...  23.407470  26.185625   \n",
              "16  24.623364  24.721459  22.603368  21.900662  ...  22.432667  26.323443   \n",
              "17  23.447465  24.673379  23.103405  22.116645  ...  22.603158  26.568454   \n",
              "18  21.914561  25.009864  23.262550  21.872378  ...  23.030890  26.864701   \n",
              "19  22.535630  24.803208  23.549318  21.946751  ...  23.587230  26.858010   \n",
              "20  22.086222  23.902176  23.245043  23.072869  ...  22.805393  27.445700   \n",
              "21  21.329558  23.730983  22.651459  23.481516  ...  22.934198  28.125688   \n",
              "22  21.530530  23.531532  21.856652  23.891408  ...  23.384984  28.489488   \n",
              "23  21.925138  23.357430  21.460430  23.110739  ...  23.727099  29.558335   \n",
              "24  22.087412  23.530887  21.958368  23.595219  ...  23.183966  28.887925   \n",
              "25  21.525927  23.561252  21.969968  22.925056  ...  23.466052  28.913824   \n",
              "26  21.977467  23.588902  22.448353  23.622060  ...  23.538569  29.637586   \n",
              "27  22.108871  23.729074  22.339125  23.123647  ...  23.449710  29.501260   \n",
              "28  21.499052  23.710910  22.481020  23.411985  ...  22.992517  29.630600   \n",
              "29  21.895827  24.194384  22.579126  23.627055  ...  23.389483  29.557782   \n",
              "30  21.677325  24.437206  21.741315  23.629844  ...  23.544540  29.075115   \n",
              "31  21.986811  24.778228  21.216189  24.508625  ...  23.656557  28.634759   \n",
              "32  22.428784  25.151484  21.503387  25.039815  ...  24.211204  28.784197   \n",
              "33  22.566066  25.281402  21.437412  24.426626  ...  24.178461  28.303504   \n",
              "34  22.504455  25.143751  21.406269  25.644493  ...  25.189177  28.382739   \n",
              "35  22.643698  24.877398  21.606224  25.539823  ...  25.953076  28.600399   \n",
              "36  22.180792  24.826386  21.978488  24.742840  ...  26.055213  29.103118   \n",
              "37  22.429495  25.630072  21.704873  24.327430  ...  26.445452  29.405243   \n",
              "38  21.887522  24.946627  21.789153  24.108748  ...  27.118866  29.404761   \n",
              "39  22.909015  24.527194  21.589835  24.075896  ...  28.350590  30.422328   \n",
              "40  22.951274  25.314312  21.799107  24.646184  ...  28.591244  30.263424   \n",
              "\n",
              "         9992       9993       9994       9995       9996       9997  \\\n",
              "0   24.426994  23.548711  23.370207  22.873197  25.274749  23.421054   \n",
              "1   23.967525  23.606641  23.064137  22.434759  25.359809  24.338633   \n",
              "2   24.641661  22.918103  24.163945  22.305454  24.506910  24.483314   \n",
              "3   24.026163  23.198499  24.556189  22.541845  24.360959  24.624980   \n",
              "4   23.790048  23.986514  24.901503  23.068734  23.760643  24.534132   \n",
              "5   23.425849  23.030883  26.188737  22.880183  23.571400  25.101452   \n",
              "6   23.508373  23.234816  26.530877  21.836249  22.501239  24.869096   \n",
              "7   22.460162  22.191322  27.003859  21.800704  22.088197  25.944217   \n",
              "8   22.112500  22.191684  27.646059  20.853581  22.459661  25.636229   \n",
              "9   22.231747  21.972300  26.289003  21.264749  21.916111  25.456337   \n",
              "10  21.015988  21.404770  26.761748  21.275058  21.459237  25.561987   \n",
              "11  21.093305  21.409678  26.878387  21.170935  21.608310  24.014809   \n",
              "12  20.841728  21.988082  27.733180  21.124391  21.552716  22.733105   \n",
              "13  20.031501  21.903279  28.377163  21.194396  21.750194  23.143625   \n",
              "14  19.947206  22.236006  28.574741  20.584438  21.416245  22.562462   \n",
              "15  19.860192  22.010418  28.108075  20.579513  21.781803  22.597550   \n",
              "16  19.582221  22.904139  27.772703  20.781323  22.012869  23.041807   \n",
              "17  19.442340  23.501681  28.398133  21.152828  21.102014  22.754212   \n",
              "18  19.691278  24.214491  28.240896  20.663886  21.424512  22.612151   \n",
              "19  20.069831  23.919654  29.199245  21.434720  22.623628  21.991301   \n",
              "20  19.706247  24.406484  28.348658  21.520035  22.891217  21.734209   \n",
              "21  19.315512  23.793452  28.300671  22.128693  23.590530  21.803864   \n",
              "22  19.677267  23.955032  28.763780  21.192707  23.622239  22.114430   \n",
              "23  18.947411  23.939023  27.431176  20.579343  24.091485  22.497727   \n",
              "24  19.261396  24.206345  28.444686  20.941732  23.887021  22.878818   \n",
              "25  18.755595  24.846146  29.215378  21.388321  23.771162  22.853809   \n",
              "26  19.483357  25.141767  29.490159  20.782688  24.401765  23.001162   \n",
              "27  20.392912  25.368707  28.525030  21.104194  23.678182  22.985939   \n",
              "28  19.872924  25.244661  28.707273  21.311917  23.610689  23.054203   \n",
              "29  19.467890  25.110248  29.348009  21.363026  23.188243  22.982172   \n",
              "30  18.939725  24.622547  28.811771  21.836338  24.247528  23.365485   \n",
              "31  17.934053  25.018030  29.203452  22.642959  24.803752  23.905945   \n",
              "32  17.999251  24.874104  29.796943  22.841232  24.632017  24.117271   \n",
              "33  18.442549  24.728771  30.085005  22.254162  24.876633  24.127726   \n",
              "34  18.015187  24.601387  30.657870  22.215496  25.778694  24.067159   \n",
              "35  18.202541  24.891435  30.731129  22.415741  26.536215  22.992173   \n",
              "36  17.870424  25.450800  30.856350  21.925823  26.765322  23.271383   \n",
              "37  17.556635  25.014126  31.595178  21.437618  26.699706  23.738843   \n",
              "38  17.511769  24.281711  31.258235  21.319146  26.432437  23.447321   \n",
              "39  18.202130  24.899272  32.575079  20.784372  25.564780  23.672642   \n",
              "40  18.371601  25.234279  32.797783  20.154395  26.535699  24.364770   \n",
              "\n",
              "         9998       9999  \n",
              "0   23.978480  24.187669  \n",
              "1   24.108790  24.631792  \n",
              "2   23.925936  25.931018  \n",
              "3   23.327193  26.049866  \n",
              "4   24.260579  26.408448  \n",
              "5   24.393433  26.906391  \n",
              "6   24.057779  27.743349  \n",
              "7   24.427411  27.904252  \n",
              "8   24.637496  28.669565  \n",
              "9   24.571722  29.223933  \n",
              "10  24.674767  29.141514  \n",
              "11  24.199284  28.535103  \n",
              "12  23.961706  27.823620  \n",
              "13  24.548516  28.341300  \n",
              "14  24.508174  28.924128  \n",
              "15  24.621116  28.835196  \n",
              "16  25.193776  29.533649  \n",
              "17  25.275042  29.666819  \n",
              "18  24.464941  30.096970  \n",
              "19  23.633256  29.611777  \n",
              "20  23.004602  29.187114  \n",
              "21  22.845556  28.836154  \n",
              "22  22.284615  28.788498  \n",
              "23  21.828085  29.193184  \n",
              "24  21.963622  28.299563  \n",
              "25  21.156746  27.831035  \n",
              "26  21.476282  27.735775  \n",
              "27  21.608838  27.773418  \n",
              "28  21.666128  27.784144  \n",
              "29  21.842850  27.233848  \n",
              "30  21.345791  26.863582  \n",
              "31  22.030253  27.668281  \n",
              "32  21.950540  27.057994  \n",
              "33  22.601817  26.607151  \n",
              "34  22.678004  26.441544  \n",
              "35  23.418846  27.467050  \n",
              "36  23.052655  27.287217  \n",
              "37  22.564820  27.548027  \n",
              "38  23.153938  27.810508  \n",
              "39  23.466475  27.413128  \n",
              "40  23.045375  27.811674  \n",
              "\n",
              "[41 rows x 10000 columns]"
            ],
            "text/html": [
              "\n",
              "  <div id=\"df-287c2295-7aa0-4cb7-83dd-29e299d611bf\">\n",
              "    <div class=\"colab-df-container\">\n",
              "      <div>\n",
              "<style scoped>\n",
              "    .dataframe tbody tr th:only-of-type {\n",
              "        vertical-align: middle;\n",
              "    }\n",
              "\n",
              "    .dataframe tbody tr th {\n",
              "        vertical-align: top;\n",
              "    }\n",
              "\n",
              "    .dataframe thead th {\n",
              "        text-align: right;\n",
              "    }\n",
              "</style>\n",
              "<table border=\"1\" class=\"dataframe\">\n",
              "  <thead>\n",
              "    <tr style=\"text-align: right;\">\n",
              "      <th></th>\n",
              "      <th>0</th>\n",
              "      <th>1</th>\n",
              "      <th>2</th>\n",
              "      <th>3</th>\n",
              "      <th>4</th>\n",
              "      <th>5</th>\n",
              "      <th>6</th>\n",
              "      <th>7</th>\n",
              "      <th>8</th>\n",
              "      <th>9</th>\n",
              "      <th>...</th>\n",
              "      <th>9990</th>\n",
              "      <th>9991</th>\n",
              "      <th>9992</th>\n",
              "      <th>9993</th>\n",
              "      <th>9994</th>\n",
              "      <th>9995</th>\n",
              "      <th>9996</th>\n",
              "      <th>9997</th>\n",
              "      <th>9998</th>\n",
              "      <th>9999</th>\n",
              "    </tr>\n",
              "  </thead>\n",
              "  <tbody>\n",
              "    <tr>\n",
              "      <th>0</th>\n",
              "      <td>24.184995</td>\n",
              "      <td>24.309281</td>\n",
              "      <td>23.602762</td>\n",
              "      <td>24.864075</td>\n",
              "      <td>24.548371</td>\n",
              "      <td>23.125174</td>\n",
              "      <td>24.761886</td>\n",
              "      <td>23.285760</td>\n",
              "      <td>22.968436</td>\n",
              "      <td>24.138083</td>\n",
              "      <td>...</td>\n",
              "      <td>24.540054</td>\n",
              "      <td>24.156526</td>\n",
              "      <td>24.426994</td>\n",
              "      <td>23.548711</td>\n",
              "      <td>23.370207</td>\n",
              "      <td>22.873197</td>\n",
              "      <td>25.274749</td>\n",
              "      <td>23.421054</td>\n",
              "      <td>23.978480</td>\n",
              "      <td>24.187669</td>\n",
              "    </tr>\n",
              "    <tr>\n",
              "      <th>1</th>\n",
              "      <td>24.743179</td>\n",
              "      <td>24.299083</td>\n",
              "      <td>23.143718</td>\n",
              "      <td>25.468186</td>\n",
              "      <td>25.127874</td>\n",
              "      <td>23.874832</td>\n",
              "      <td>24.454052</td>\n",
              "      <td>24.037699</td>\n",
              "      <td>23.594854</td>\n",
              "      <td>23.657008</td>\n",
              "      <td>...</td>\n",
              "      <td>24.657478</td>\n",
              "      <td>24.164192</td>\n",
              "      <td>23.967525</td>\n",
              "      <td>23.606641</td>\n",
              "      <td>23.064137</td>\n",
              "      <td>22.434759</td>\n",
              "      <td>25.359809</td>\n",
              "      <td>24.338633</td>\n",
              "      <td>24.108790</td>\n",
              "      <td>24.631792</td>\n",
              "    </tr>\n",
              "    <tr>\n",
              "      <th>2</th>\n",
              "      <td>24.108451</td>\n",
              "      <td>24.267497</td>\n",
              "      <td>23.304917</td>\n",
              "      <td>26.368539</td>\n",
              "      <td>26.138940</td>\n",
              "      <td>23.616132</td>\n",
              "      <td>24.522057</td>\n",
              "      <td>23.051044</td>\n",
              "      <td>23.704377</td>\n",
              "      <td>24.092567</td>\n",
              "      <td>...</td>\n",
              "      <td>25.400574</td>\n",
              "      <td>24.602261</td>\n",
              "      <td>24.641661</td>\n",
              "      <td>22.918103</td>\n",
              "      <td>24.163945</td>\n",
              "      <td>22.305454</td>\n",
              "      <td>24.506910</td>\n",
              "      <td>24.483314</td>\n",
              "      <td>23.925936</td>\n",
              "      <td>25.931018</td>\n",
              "    </tr>\n",
              "    <tr>\n",
              "      <th>3</th>\n",
              "      <td>25.255928</td>\n",
              "      <td>23.507273</td>\n",
              "      <td>23.193951</td>\n",
              "      <td>25.217775</td>\n",
              "      <td>26.359279</td>\n",
              "      <td>24.275080</td>\n",
              "      <td>25.154214</td>\n",
              "      <td>22.488575</td>\n",
              "      <td>23.235619</td>\n",
              "      <td>24.095687</td>\n",
              "      <td>...</td>\n",
              "      <td>25.748910</td>\n",
              "      <td>24.604840</td>\n",
              "      <td>24.026163</td>\n",
              "      <td>23.198499</td>\n",
              "      <td>24.556189</td>\n",
              "      <td>22.541845</td>\n",
              "      <td>24.360959</td>\n",
              "      <td>24.624980</td>\n",
              "      <td>23.327193</td>\n",
              "      <td>26.049866</td>\n",
              "    </tr>\n",
              "    <tr>\n",
              "      <th>4</th>\n",
              "      <td>24.971234</td>\n",
              "      <td>23.223884</td>\n",
              "      <td>23.943802</td>\n",
              "      <td>25.269640</td>\n",
              "      <td>24.870358</td>\n",
              "      <td>24.099916</td>\n",
              "      <td>25.600311</td>\n",
              "      <td>23.360657</td>\n",
              "      <td>22.899983</td>\n",
              "      <td>23.404596</td>\n",
              "      <td>...</td>\n",
              "      <td>26.149830</td>\n",
              "      <td>24.399160</td>\n",
              "      <td>23.790048</td>\n",
              "      <td>23.986514</td>\n",
              "      <td>24.901503</td>\n",
              "      <td>23.068734</td>\n",
              "      <td>23.760643</td>\n",
              "      <td>24.534132</td>\n",
              "      <td>24.260579</td>\n",
              "      <td>26.408448</td>\n",
              "    </tr>\n",
              "    <tr>\n",
              "      <th>5</th>\n",
              "      <td>25.643021</td>\n",
              "      <td>23.453068</td>\n",
              "      <td>23.878068</td>\n",
              "      <td>24.597140</td>\n",
              "      <td>25.159031</td>\n",
              "      <td>24.905723</td>\n",
              "      <td>26.084469</td>\n",
              "      <td>24.409259</td>\n",
              "      <td>22.779336</td>\n",
              "      <td>22.667210</td>\n",
              "      <td>...</td>\n",
              "      <td>27.124631</td>\n",
              "      <td>24.483091</td>\n",
              "      <td>23.425849</td>\n",
              "      <td>23.030883</td>\n",
              "      <td>26.188737</td>\n",
              "      <td>22.880183</td>\n",
              "      <td>23.571400</td>\n",
              "      <td>25.101452</td>\n",
              "      <td>24.393433</td>\n",
              "      <td>26.906391</td>\n",
              "    </tr>\n",
              "    <tr>\n",
              "      <th>6</th>\n",
              "      <td>25.468132</td>\n",
              "      <td>23.341592</td>\n",
              "      <td>23.899825</td>\n",
              "      <td>24.533510</td>\n",
              "      <td>24.854069</td>\n",
              "      <td>25.126064</td>\n",
              "      <td>25.942401</td>\n",
              "      <td>25.103179</td>\n",
              "      <td>23.056965</td>\n",
              "      <td>22.772087</td>\n",
              "      <td>...</td>\n",
              "      <td>26.359082</td>\n",
              "      <td>24.536201</td>\n",
              "      <td>23.508373</td>\n",
              "      <td>23.234816</td>\n",
              "      <td>26.530877</td>\n",
              "      <td>21.836249</td>\n",
              "      <td>22.501239</td>\n",
              "      <td>24.869096</td>\n",
              "      <td>24.057779</td>\n",
              "      <td>27.743349</td>\n",
              "    </tr>\n",
              "    <tr>\n",
              "      <th>7</th>\n",
              "      <td>25.614689</td>\n",
              "      <td>23.323922</td>\n",
              "      <td>23.550712</td>\n",
              "      <td>24.597272</td>\n",
              "      <td>24.846227</td>\n",
              "      <td>24.526084</td>\n",
              "      <td>25.520084</td>\n",
              "      <td>25.119317</td>\n",
              "      <td>23.414838</td>\n",
              "      <td>23.360635</td>\n",
              "      <td>...</td>\n",
              "      <td>25.852543</td>\n",
              "      <td>24.047397</td>\n",
              "      <td>22.460162</td>\n",
              "      <td>22.191322</td>\n",
              "      <td>27.003859</td>\n",
              "      <td>21.800704</td>\n",
              "      <td>22.088197</td>\n",
              "      <td>25.944217</td>\n",
              "      <td>24.427411</td>\n",
              "      <td>27.904252</td>\n",
              "    </tr>\n",
              "    <tr>\n",
              "      <th>8</th>\n",
              "      <td>26.185803</td>\n",
              "      <td>22.659422</td>\n",
              "      <td>23.493891</td>\n",
              "      <td>23.825337</td>\n",
              "      <td>23.575709</td>\n",
              "      <td>25.662247</td>\n",
              "      <td>24.371001</td>\n",
              "      <td>25.069999</td>\n",
              "      <td>23.363591</td>\n",
              "      <td>24.164093</td>\n",
              "      <td>...</td>\n",
              "      <td>25.710566</td>\n",
              "      <td>24.889608</td>\n",
              "      <td>22.112500</td>\n",
              "      <td>22.191684</td>\n",
              "      <td>27.646059</td>\n",
              "      <td>20.853581</td>\n",
              "      <td>22.459661</td>\n",
              "      <td>25.636229</td>\n",
              "      <td>24.637496</td>\n",
              "      <td>28.669565</td>\n",
              "    </tr>\n",
              "    <tr>\n",
              "      <th>9</th>\n",
              "      <td>26.938253</td>\n",
              "      <td>22.445290</td>\n",
              "      <td>22.295245</td>\n",
              "      <td>25.176891</td>\n",
              "      <td>23.525692</td>\n",
              "      <td>25.781613</td>\n",
              "      <td>23.671868</td>\n",
              "      <td>25.023792</td>\n",
              "      <td>23.597400</td>\n",
              "      <td>23.919167</td>\n",
              "      <td>...</td>\n",
              "      <td>25.433992</td>\n",
              "      <td>25.435774</td>\n",
              "      <td>22.231747</td>\n",
              "      <td>21.972300</td>\n",
              "      <td>26.289003</td>\n",
              "      <td>21.264749</td>\n",
              "      <td>21.916111</td>\n",
              "      <td>25.456337</td>\n",
              "      <td>24.571722</td>\n",
              "      <td>29.223933</td>\n",
              "    </tr>\n",
              "    <tr>\n",
              "      <th>10</th>\n",
              "      <td>26.531329</td>\n",
              "      <td>21.320188</td>\n",
              "      <td>22.521179</td>\n",
              "      <td>24.788161</td>\n",
              "      <td>24.709243</td>\n",
              "      <td>25.232990</td>\n",
              "      <td>24.690165</td>\n",
              "      <td>25.085343</td>\n",
              "      <td>24.884624</td>\n",
              "      <td>24.192319</td>\n",
              "      <td>...</td>\n",
              "      <td>25.441049</td>\n",
              "      <td>25.671389</td>\n",
              "      <td>21.015988</td>\n",
              "      <td>21.404770</td>\n",
              "      <td>26.761748</td>\n",
              "      <td>21.275058</td>\n",
              "      <td>21.459237</td>\n",
              "      <td>25.561987</td>\n",
              "      <td>24.674767</td>\n",
              "      <td>29.141514</td>\n",
              "    </tr>\n",
              "    <tr>\n",
              "      <th>11</th>\n",
              "      <td>26.497538</td>\n",
              "      <td>20.333872</td>\n",
              "      <td>23.155718</td>\n",
              "      <td>25.006157</td>\n",
              "      <td>24.092099</td>\n",
              "      <td>25.581962</td>\n",
              "      <td>25.270958</td>\n",
              "      <td>24.127915</td>\n",
              "      <td>24.850989</td>\n",
              "      <td>24.070873</td>\n",
              "      <td>...</td>\n",
              "      <td>26.034004</td>\n",
              "      <td>25.454025</td>\n",
              "      <td>21.093305</td>\n",
              "      <td>21.409678</td>\n",
              "      <td>26.878387</td>\n",
              "      <td>21.170935</td>\n",
              "      <td>21.608310</td>\n",
              "      <td>24.014809</td>\n",
              "      <td>24.199284</td>\n",
              "      <td>28.535103</td>\n",
              "    </tr>\n",
              "    <tr>\n",
              "      <th>12</th>\n",
              "      <td>27.576880</td>\n",
              "      <td>20.884780</td>\n",
              "      <td>23.164628</td>\n",
              "      <td>23.936332</td>\n",
              "      <td>24.342488</td>\n",
              "      <td>25.943595</td>\n",
              "      <td>24.860293</td>\n",
              "      <td>23.915382</td>\n",
              "      <td>24.894850</td>\n",
              "      <td>23.915496</td>\n",
              "      <td>...</td>\n",
              "      <td>25.291645</td>\n",
              "      <td>26.419769</td>\n",
              "      <td>20.841728</td>\n",
              "      <td>21.988082</td>\n",
              "      <td>27.733180</td>\n",
              "      <td>21.124391</td>\n",
              "      <td>21.552716</td>\n",
              "      <td>22.733105</td>\n",
              "      <td>23.961706</td>\n",
              "      <td>27.823620</td>\n",
              "    </tr>\n",
              "    <tr>\n",
              "      <th>13</th>\n",
              "      <td>27.515971</td>\n",
              "      <td>21.603782</td>\n",
              "      <td>22.596350</td>\n",
              "      <td>23.826791</td>\n",
              "      <td>24.411058</td>\n",
              "      <td>25.939473</td>\n",
              "      <td>23.768823</td>\n",
              "      <td>24.305752</td>\n",
              "      <td>23.890582</td>\n",
              "      <td>24.068841</td>\n",
              "      <td>...</td>\n",
              "      <td>24.925294</td>\n",
              "      <td>26.770881</td>\n",
              "      <td>20.031501</td>\n",
              "      <td>21.903279</td>\n",
              "      <td>28.377163</td>\n",
              "      <td>21.194396</td>\n",
              "      <td>21.750194</td>\n",
              "      <td>23.143625</td>\n",
              "      <td>24.548516</td>\n",
              "      <td>28.341300</td>\n",
              "    </tr>\n",
              "    <tr>\n",
              "      <th>14</th>\n",
              "      <td>27.090258</td>\n",
              "      <td>21.213244</td>\n",
              "      <td>22.952877</td>\n",
              "      <td>23.203540</td>\n",
              "      <td>24.254243</td>\n",
              "      <td>26.106851</td>\n",
              "      <td>23.250365</td>\n",
              "      <td>24.022841</td>\n",
              "      <td>23.036127</td>\n",
              "      <td>23.609283</td>\n",
              "      <td>...</td>\n",
              "      <td>23.798504</td>\n",
              "      <td>25.904383</td>\n",
              "      <td>19.947206</td>\n",
              "      <td>22.236006</td>\n",
              "      <td>28.574741</td>\n",
              "      <td>20.584438</td>\n",
              "      <td>21.416245</td>\n",
              "      <td>22.562462</td>\n",
              "      <td>24.508174</td>\n",
              "      <td>28.924128</td>\n",
              "    </tr>\n",
              "    <tr>\n",
              "      <th>15</th>\n",
              "      <td>26.243955</td>\n",
              "      <td>19.890530</td>\n",
              "      <td>22.361760</td>\n",
              "      <td>24.337862</td>\n",
              "      <td>24.172182</td>\n",
              "      <td>25.566267</td>\n",
              "      <td>24.788209</td>\n",
              "      <td>23.900438</td>\n",
              "      <td>23.166336</td>\n",
              "      <td>22.298169</td>\n",
              "      <td>...</td>\n",
              "      <td>23.407470</td>\n",
              "      <td>26.185625</td>\n",
              "      <td>19.860192</td>\n",
              "      <td>22.010418</td>\n",
              "      <td>28.108075</td>\n",
              "      <td>20.579513</td>\n",
              "      <td>21.781803</td>\n",
              "      <td>22.597550</td>\n",
              "      <td>24.621116</td>\n",
              "      <td>28.835196</td>\n",
              "    </tr>\n",
              "    <tr>\n",
              "      <th>16</th>\n",
              "      <td>26.357257</td>\n",
              "      <td>19.950052</td>\n",
              "      <td>22.716488</td>\n",
              "      <td>24.456830</td>\n",
              "      <td>24.461658</td>\n",
              "      <td>25.650922</td>\n",
              "      <td>24.623364</td>\n",
              "      <td>24.721459</td>\n",
              "      <td>22.603368</td>\n",
              "      <td>21.900662</td>\n",
              "      <td>...</td>\n",
              "      <td>22.432667</td>\n",
              "      <td>26.323443</td>\n",
              "      <td>19.582221</td>\n",
              "      <td>22.904139</td>\n",
              "      <td>27.772703</td>\n",
              "      <td>20.781323</td>\n",
              "      <td>22.012869</td>\n",
              "      <td>23.041807</td>\n",
              "      <td>25.193776</td>\n",
              "      <td>29.533649</td>\n",
              "    </tr>\n",
              "    <tr>\n",
              "      <th>17</th>\n",
              "      <td>25.599949</td>\n",
              "      <td>20.230675</td>\n",
              "      <td>22.193074</td>\n",
              "      <td>24.790355</td>\n",
              "      <td>24.909842</td>\n",
              "      <td>25.287819</td>\n",
              "      <td>23.447465</td>\n",
              "      <td>24.673379</td>\n",
              "      <td>23.103405</td>\n",
              "      <td>22.116645</td>\n",
              "      <td>...</td>\n",
              "      <td>22.603158</td>\n",
              "      <td>26.568454</td>\n",
              "      <td>19.442340</td>\n",
              "      <td>23.501681</td>\n",
              "      <td>28.398133</td>\n",
              "      <td>21.152828</td>\n",
              "      <td>21.102014</td>\n",
              "      <td>22.754212</td>\n",
              "      <td>25.275042</td>\n",
              "      <td>29.666819</td>\n",
              "    </tr>\n",
              "    <tr>\n",
              "      <th>18</th>\n",
              "      <td>25.661801</td>\n",
              "      <td>19.771896</td>\n",
              "      <td>22.025667</td>\n",
              "      <td>25.054234</td>\n",
              "      <td>25.329457</td>\n",
              "      <td>24.288905</td>\n",
              "      <td>21.914561</td>\n",
              "      <td>25.009864</td>\n",
              "      <td>23.262550</td>\n",
              "      <td>21.872378</td>\n",
              "      <td>...</td>\n",
              "      <td>23.030890</td>\n",
              "      <td>26.864701</td>\n",
              "      <td>19.691278</td>\n",
              "      <td>24.214491</td>\n",
              "      <td>28.240896</td>\n",
              "      <td>20.663886</td>\n",
              "      <td>21.424512</td>\n",
              "      <td>22.612151</td>\n",
              "      <td>24.464941</td>\n",
              "      <td>30.096970</td>\n",
              "    </tr>\n",
              "    <tr>\n",
              "      <th>19</th>\n",
              "      <td>25.824484</td>\n",
              "      <td>19.703388</td>\n",
              "      <td>22.284335</td>\n",
              "      <td>24.715352</td>\n",
              "      <td>25.960596</td>\n",
              "      <td>25.061231</td>\n",
              "      <td>22.535630</td>\n",
              "      <td>24.803208</td>\n",
              "      <td>23.549318</td>\n",
              "      <td>21.946751</td>\n",
              "      <td>...</td>\n",
              "      <td>23.587230</td>\n",
              "      <td>26.858010</td>\n",
              "      <td>20.069831</td>\n",
              "      <td>23.919654</td>\n",
              "      <td>29.199245</td>\n",
              "      <td>21.434720</td>\n",
              "      <td>22.623628</td>\n",
              "      <td>21.991301</td>\n",
              "      <td>23.633256</td>\n",
              "      <td>29.611777</td>\n",
              "    </tr>\n",
              "    <tr>\n",
              "      <th>20</th>\n",
              "      <td>26.277491</td>\n",
              "      <td>19.029759</td>\n",
              "      <td>21.658082</td>\n",
              "      <td>24.218504</td>\n",
              "      <td>26.483271</td>\n",
              "      <td>25.420291</td>\n",
              "      <td>22.086222</td>\n",
              "      <td>23.902176</td>\n",
              "      <td>23.245043</td>\n",
              "      <td>23.072869</td>\n",
              "      <td>...</td>\n",
              "      <td>22.805393</td>\n",
              "      <td>27.445700</td>\n",
              "      <td>19.706247</td>\n",
              "      <td>24.406484</td>\n",
              "      <td>28.348658</td>\n",
              "      <td>21.520035</td>\n",
              "      <td>22.891217</td>\n",
              "      <td>21.734209</td>\n",
              "      <td>23.004602</td>\n",
              "      <td>29.187114</td>\n",
              "    </tr>\n",
              "    <tr>\n",
              "      <th>21</th>\n",
              "      <td>25.886491</td>\n",
              "      <td>18.790131</td>\n",
              "      <td>22.423973</td>\n",
              "      <td>24.069747</td>\n",
              "      <td>27.020655</td>\n",
              "      <td>26.589235</td>\n",
              "      <td>21.329558</td>\n",
              "      <td>23.730983</td>\n",
              "      <td>22.651459</td>\n",
              "      <td>23.481516</td>\n",
              "      <td>...</td>\n",
              "      <td>22.934198</td>\n",
              "      <td>28.125688</td>\n",
              "      <td>19.315512</td>\n",
              "      <td>23.793452</td>\n",
              "      <td>28.300671</td>\n",
              "      <td>22.128693</td>\n",
              "      <td>23.590530</td>\n",
              "      <td>21.803864</td>\n",
              "      <td>22.845556</td>\n",
              "      <td>28.836154</td>\n",
              "    </tr>\n",
              "    <tr>\n",
              "      <th>22</th>\n",
              "      <td>25.016298</td>\n",
              "      <td>18.686829</td>\n",
              "      <td>22.377084</td>\n",
              "      <td>23.985275</td>\n",
              "      <td>27.700698</td>\n",
              "      <td>27.053531</td>\n",
              "      <td>21.530530</td>\n",
              "      <td>23.531532</td>\n",
              "      <td>21.856652</td>\n",
              "      <td>23.891408</td>\n",
              "      <td>...</td>\n",
              "      <td>23.384984</td>\n",
              "      <td>28.489488</td>\n",
              "      <td>19.677267</td>\n",
              "      <td>23.955032</td>\n",
              "      <td>28.763780</td>\n",
              "      <td>21.192707</td>\n",
              "      <td>23.622239</td>\n",
              "      <td>22.114430</td>\n",
              "      <td>22.284615</td>\n",
              "      <td>28.788498</td>\n",
              "    </tr>\n",
              "    <tr>\n",
              "      <th>23</th>\n",
              "      <td>24.985755</td>\n",
              "      <td>18.937289</td>\n",
              "      <td>22.736294</td>\n",
              "      <td>23.336868</td>\n",
              "      <td>27.686644</td>\n",
              "      <td>26.916320</td>\n",
              "      <td>21.925138</td>\n",
              "      <td>23.357430</td>\n",
              "      <td>21.460430</td>\n",
              "      <td>23.110739</td>\n",
              "      <td>...</td>\n",
              "      <td>23.727099</td>\n",
              "      <td>29.558335</td>\n",
              "      <td>18.947411</td>\n",
              "      <td>23.939023</td>\n",
              "      <td>27.431176</td>\n",
              "      <td>20.579343</td>\n",
              "      <td>24.091485</td>\n",
              "      <td>22.497727</td>\n",
              "      <td>21.828085</td>\n",
              "      <td>29.193184</td>\n",
              "    </tr>\n",
              "    <tr>\n",
              "      <th>24</th>\n",
              "      <td>24.045009</td>\n",
              "      <td>19.584708</td>\n",
              "      <td>22.499954</td>\n",
              "      <td>23.056986</td>\n",
              "      <td>27.479939</td>\n",
              "      <td>26.523831</td>\n",
              "      <td>22.087412</td>\n",
              "      <td>23.530887</td>\n",
              "      <td>21.958368</td>\n",
              "      <td>23.595219</td>\n",
              "      <td>...</td>\n",
              "      <td>23.183966</td>\n",
              "      <td>28.887925</td>\n",
              "      <td>19.261396</td>\n",
              "      <td>24.206345</td>\n",
              "      <td>28.444686</td>\n",
              "      <td>20.941732</td>\n",
              "      <td>23.887021</td>\n",
              "      <td>22.878818</td>\n",
              "      <td>21.963622</td>\n",
              "      <td>28.299563</td>\n",
              "    </tr>\n",
              "    <tr>\n",
              "      <th>25</th>\n",
              "      <td>24.760557</td>\n",
              "      <td>20.090180</td>\n",
              "      <td>22.927693</td>\n",
              "      <td>22.826553</td>\n",
              "      <td>27.970517</td>\n",
              "      <td>25.839482</td>\n",
              "      <td>21.525927</td>\n",
              "      <td>23.561252</td>\n",
              "      <td>21.969968</td>\n",
              "      <td>22.925056</td>\n",
              "      <td>...</td>\n",
              "      <td>23.466052</td>\n",
              "      <td>28.913824</td>\n",
              "      <td>18.755595</td>\n",
              "      <td>24.846146</td>\n",
              "      <td>29.215378</td>\n",
              "      <td>21.388321</td>\n",
              "      <td>23.771162</td>\n",
              "      <td>22.853809</td>\n",
              "      <td>21.156746</td>\n",
              "      <td>27.831035</td>\n",
              "    </tr>\n",
              "    <tr>\n",
              "      <th>26</th>\n",
              "      <td>24.381870</td>\n",
              "      <td>19.660968</td>\n",
              "      <td>22.174369</td>\n",
              "      <td>22.579120</td>\n",
              "      <td>27.738147</td>\n",
              "      <td>24.964069</td>\n",
              "      <td>21.977467</td>\n",
              "      <td>23.588902</td>\n",
              "      <td>22.448353</td>\n",
              "      <td>23.622060</td>\n",
              "      <td>...</td>\n",
              "      <td>23.538569</td>\n",
              "      <td>29.637586</td>\n",
              "      <td>19.483357</td>\n",
              "      <td>25.141767</td>\n",
              "      <td>29.490159</td>\n",
              "      <td>20.782688</td>\n",
              "      <td>24.401765</td>\n",
              "      <td>23.001162</td>\n",
              "      <td>21.476282</td>\n",
              "      <td>27.735775</td>\n",
              "    </tr>\n",
              "    <tr>\n",
              "      <th>27</th>\n",
              "      <td>24.544054</td>\n",
              "      <td>19.883575</td>\n",
              "      <td>21.005688</td>\n",
              "      <td>23.384638</td>\n",
              "      <td>27.422993</td>\n",
              "      <td>24.318213</td>\n",
              "      <td>22.108871</td>\n",
              "      <td>23.729074</td>\n",
              "      <td>22.339125</td>\n",
              "      <td>23.123647</td>\n",
              "      <td>...</td>\n",
              "      <td>23.449710</td>\n",
              "      <td>29.501260</td>\n",
              "      <td>20.392912</td>\n",
              "      <td>25.368707</td>\n",
              "      <td>28.525030</td>\n",
              "      <td>21.104194</td>\n",
              "      <td>23.678182</td>\n",
              "      <td>22.985939</td>\n",
              "      <td>21.608838</td>\n",
              "      <td>27.773418</td>\n",
              "    </tr>\n",
              "    <tr>\n",
              "      <th>28</th>\n",
              "      <td>24.964773</td>\n",
              "      <td>19.772889</td>\n",
              "      <td>21.213919</td>\n",
              "      <td>22.672194</td>\n",
              "      <td>28.948070</td>\n",
              "      <td>24.430722</td>\n",
              "      <td>21.499052</td>\n",
              "      <td>23.710910</td>\n",
              "      <td>22.481020</td>\n",
              "      <td>23.411985</td>\n",
              "      <td>...</td>\n",
              "      <td>22.992517</td>\n",
              "      <td>29.630600</td>\n",
              "      <td>19.872924</td>\n",
              "      <td>25.244661</td>\n",
              "      <td>28.707273</td>\n",
              "      <td>21.311917</td>\n",
              "      <td>23.610689</td>\n",
              "      <td>23.054203</td>\n",
              "      <td>21.666128</td>\n",
              "      <td>27.784144</td>\n",
              "    </tr>\n",
              "    <tr>\n",
              "      <th>29</th>\n",
              "      <td>25.013522</td>\n",
              "      <td>19.167408</td>\n",
              "      <td>20.861622</td>\n",
              "      <td>23.344557</td>\n",
              "      <td>29.529075</td>\n",
              "      <td>24.037379</td>\n",
              "      <td>21.895827</td>\n",
              "      <td>24.194384</td>\n",
              "      <td>22.579126</td>\n",
              "      <td>23.627055</td>\n",
              "      <td>...</td>\n",
              "      <td>23.389483</td>\n",
              "      <td>29.557782</td>\n",
              "      <td>19.467890</td>\n",
              "      <td>25.110248</td>\n",
              "      <td>29.348009</td>\n",
              "      <td>21.363026</td>\n",
              "      <td>23.188243</td>\n",
              "      <td>22.982172</td>\n",
              "      <td>21.842850</td>\n",
              "      <td>27.233848</td>\n",
              "    </tr>\n",
              "    <tr>\n",
              "      <th>30</th>\n",
              "      <td>25.438290</td>\n",
              "      <td>19.744147</td>\n",
              "      <td>21.300083</td>\n",
              "      <td>24.063442</td>\n",
              "      <td>30.179220</td>\n",
              "      <td>24.217331</td>\n",
              "      <td>21.677325</td>\n",
              "      <td>24.437206</td>\n",
              "      <td>21.741315</td>\n",
              "      <td>23.629844</td>\n",
              "      <td>...</td>\n",
              "      <td>23.544540</td>\n",
              "      <td>29.075115</td>\n",
              "      <td>18.939725</td>\n",
              "      <td>24.622547</td>\n",
              "      <td>28.811771</td>\n",
              "      <td>21.836338</td>\n",
              "      <td>24.247528</td>\n",
              "      <td>23.365485</td>\n",
              "      <td>21.345791</td>\n",
              "      <td>26.863582</td>\n",
              "    </tr>\n",
              "    <tr>\n",
              "      <th>31</th>\n",
              "      <td>24.986962</td>\n",
              "      <td>20.390532</td>\n",
              "      <td>22.077000</td>\n",
              "      <td>24.062468</td>\n",
              "      <td>30.136284</td>\n",
              "      <td>24.455046</td>\n",
              "      <td>21.986811</td>\n",
              "      <td>24.778228</td>\n",
              "      <td>21.216189</td>\n",
              "      <td>24.508625</td>\n",
              "      <td>...</td>\n",
              "      <td>23.656557</td>\n",
              "      <td>28.634759</td>\n",
              "      <td>17.934053</td>\n",
              "      <td>25.018030</td>\n",
              "      <td>29.203452</td>\n",
              "      <td>22.642959</td>\n",
              "      <td>24.803752</td>\n",
              "      <td>23.905945</td>\n",
              "      <td>22.030253</td>\n",
              "      <td>27.668281</td>\n",
              "    </tr>\n",
              "    <tr>\n",
              "      <th>32</th>\n",
              "      <td>25.053674</td>\n",
              "      <td>20.296389</td>\n",
              "      <td>21.723007</td>\n",
              "      <td>24.832631</td>\n",
              "      <td>29.763801</td>\n",
              "      <td>24.127838</td>\n",
              "      <td>22.428784</td>\n",
              "      <td>25.151484</td>\n",
              "      <td>21.503387</td>\n",
              "      <td>25.039815</td>\n",
              "      <td>...</td>\n",
              "      <td>24.211204</td>\n",
              "      <td>28.784197</td>\n",
              "      <td>17.999251</td>\n",
              "      <td>24.874104</td>\n",
              "      <td>29.796943</td>\n",
              "      <td>22.841232</td>\n",
              "      <td>24.632017</td>\n",
              "      <td>24.117271</td>\n",
              "      <td>21.950540</td>\n",
              "      <td>27.057994</td>\n",
              "    </tr>\n",
              "    <tr>\n",
              "      <th>33</th>\n",
              "      <td>24.807990</td>\n",
              "      <td>20.713345</td>\n",
              "      <td>21.444549</td>\n",
              "      <td>24.947699</td>\n",
              "      <td>30.142440</td>\n",
              "      <td>23.915516</td>\n",
              "      <td>22.566066</td>\n",
              "      <td>25.281402</td>\n",
              "      <td>21.437412</td>\n",
              "      <td>24.426626</td>\n",
              "      <td>...</td>\n",
              "      <td>24.178461</td>\n",
              "      <td>28.303504</td>\n",
              "      <td>18.442549</td>\n",
              "      <td>24.728771</td>\n",
              "      <td>30.085005</td>\n",
              "      <td>22.254162</td>\n",
              "      <td>24.876633</td>\n",
              "      <td>24.127726</td>\n",
              "      <td>22.601817</td>\n",
              "      <td>26.607151</td>\n",
              "    </tr>\n",
              "    <tr>\n",
              "      <th>34</th>\n",
              "      <td>25.335709</td>\n",
              "      <td>21.468533</td>\n",
              "      <td>21.898290</td>\n",
              "      <td>24.781217</td>\n",
              "      <td>30.069231</td>\n",
              "      <td>23.970877</td>\n",
              "      <td>22.504455</td>\n",
              "      <td>25.143751</td>\n",
              "      <td>21.406269</td>\n",
              "      <td>25.644493</td>\n",
              "      <td>...</td>\n",
              "      <td>25.189177</td>\n",
              "      <td>28.382739</td>\n",
              "      <td>18.015187</td>\n",
              "      <td>24.601387</td>\n",
              "      <td>30.657870</td>\n",
              "      <td>22.215496</td>\n",
              "      <td>25.778694</td>\n",
              "      <td>24.067159</td>\n",
              "      <td>22.678004</td>\n",
              "      <td>26.441544</td>\n",
              "    </tr>\n",
              "    <tr>\n",
              "      <th>35</th>\n",
              "      <td>24.435889</td>\n",
              "      <td>22.041256</td>\n",
              "      <td>21.444897</td>\n",
              "      <td>25.116293</td>\n",
              "      <td>30.655431</td>\n",
              "      <td>23.684681</td>\n",
              "      <td>22.643698</td>\n",
              "      <td>24.877398</td>\n",
              "      <td>21.606224</td>\n",
              "      <td>25.539823</td>\n",
              "      <td>...</td>\n",
              "      <td>25.953076</td>\n",
              "      <td>28.600399</td>\n",
              "      <td>18.202541</td>\n",
              "      <td>24.891435</td>\n",
              "      <td>30.731129</td>\n",
              "      <td>22.415741</td>\n",
              "      <td>26.536215</td>\n",
              "      <td>22.992173</td>\n",
              "      <td>23.418846</td>\n",
              "      <td>27.467050</td>\n",
              "    </tr>\n",
              "    <tr>\n",
              "      <th>36</th>\n",
              "      <td>24.742546</td>\n",
              "      <td>22.579230</td>\n",
              "      <td>20.696053</td>\n",
              "      <td>24.542031</td>\n",
              "      <td>30.598650</td>\n",
              "      <td>23.122036</td>\n",
              "      <td>22.180792</td>\n",
              "      <td>24.826386</td>\n",
              "      <td>21.978488</td>\n",
              "      <td>24.742840</td>\n",
              "      <td>...</td>\n",
              "      <td>26.055213</td>\n",
              "      <td>29.103118</td>\n",
              "      <td>17.870424</td>\n",
              "      <td>25.450800</td>\n",
              "      <td>30.856350</td>\n",
              "      <td>21.925823</td>\n",
              "      <td>26.765322</td>\n",
              "      <td>23.271383</td>\n",
              "      <td>23.052655</td>\n",
              "      <td>27.287217</td>\n",
              "    </tr>\n",
              "    <tr>\n",
              "      <th>37</th>\n",
              "      <td>24.871895</td>\n",
              "      <td>23.177435</td>\n",
              "      <td>20.827517</td>\n",
              "      <td>23.472232</td>\n",
              "      <td>29.531798</td>\n",
              "      <td>23.685672</td>\n",
              "      <td>22.429495</td>\n",
              "      <td>25.630072</td>\n",
              "      <td>21.704873</td>\n",
              "      <td>24.327430</td>\n",
              "      <td>...</td>\n",
              "      <td>26.445452</td>\n",
              "      <td>29.405243</td>\n",
              "      <td>17.556635</td>\n",
              "      <td>25.014126</td>\n",
              "      <td>31.595178</td>\n",
              "      <td>21.437618</td>\n",
              "      <td>26.699706</td>\n",
              "      <td>23.738843</td>\n",
              "      <td>22.564820</td>\n",
              "      <td>27.548027</td>\n",
              "    </tr>\n",
              "    <tr>\n",
              "      <th>38</th>\n",
              "      <td>25.251257</td>\n",
              "      <td>24.245107</td>\n",
              "      <td>19.991748</td>\n",
              "      <td>22.937319</td>\n",
              "      <td>29.794390</td>\n",
              "      <td>23.482259</td>\n",
              "      <td>21.887522</td>\n",
              "      <td>24.946627</td>\n",
              "      <td>21.789153</td>\n",
              "      <td>24.108748</td>\n",
              "      <td>...</td>\n",
              "      <td>27.118866</td>\n",
              "      <td>29.404761</td>\n",
              "      <td>17.511769</td>\n",
              "      <td>24.281711</td>\n",
              "      <td>31.258235</td>\n",
              "      <td>21.319146</td>\n",
              "      <td>26.432437</td>\n",
              "      <td>23.447321</td>\n",
              "      <td>23.153938</td>\n",
              "      <td>27.810508</td>\n",
              "    </tr>\n",
              "    <tr>\n",
              "      <th>39</th>\n",
              "      <td>24.928842</td>\n",
              "      <td>24.096159</td>\n",
              "      <td>20.522260</td>\n",
              "      <td>22.085059</td>\n",
              "      <td>29.530795</td>\n",
              "      <td>23.375011</td>\n",
              "      <td>22.909015</td>\n",
              "      <td>24.527194</td>\n",
              "      <td>21.589835</td>\n",
              "      <td>24.075896</td>\n",
              "      <td>...</td>\n",
              "      <td>28.350590</td>\n",
              "      <td>30.422328</td>\n",
              "      <td>18.202130</td>\n",
              "      <td>24.899272</td>\n",
              "      <td>32.575079</td>\n",
              "      <td>20.784372</td>\n",
              "      <td>25.564780</td>\n",
              "      <td>23.672642</td>\n",
              "      <td>23.466475</td>\n",
              "      <td>27.413128</td>\n",
              "    </tr>\n",
              "    <tr>\n",
              "      <th>40</th>\n",
              "      <td>25.246791</td>\n",
              "      <td>24.437585</td>\n",
              "      <td>20.530808</td>\n",
              "      <td>22.429350</td>\n",
              "      <td>30.056543</td>\n",
              "      <td>22.417492</td>\n",
              "      <td>22.951274</td>\n",
              "      <td>25.314312</td>\n",
              "      <td>21.799107</td>\n",
              "      <td>24.646184</td>\n",
              "      <td>...</td>\n",
              "      <td>28.591244</td>\n",
              "      <td>30.263424</td>\n",
              "      <td>18.371601</td>\n",
              "      <td>25.234279</td>\n",
              "      <td>32.797783</td>\n",
              "      <td>20.154395</td>\n",
              "      <td>26.535699</td>\n",
              "      <td>24.364770</td>\n",
              "      <td>23.045375</td>\n",
              "      <td>27.811674</td>\n",
              "    </tr>\n",
              "  </tbody>\n",
              "</table>\n",
              "<p>41 rows × 10000 columns</p>\n",
              "</div>\n",
              "      <button class=\"colab-df-convert\" onclick=\"convertToInteractive('df-287c2295-7aa0-4cb7-83dd-29e299d611bf')\"\n",
              "              title=\"Convert this dataframe to an interactive table.\"\n",
              "              style=\"display:none;\">\n",
              "        \n",
              "  <svg xmlns=\"http://www.w3.org/2000/svg\" height=\"24px\"viewBox=\"0 0 24 24\"\n",
              "       width=\"24px\">\n",
              "    <path d=\"M0 0h24v24H0V0z\" fill=\"none\"/>\n",
              "    <path d=\"M18.56 5.44l.94 2.06.94-2.06 2.06-.94-2.06-.94-.94-2.06-.94 2.06-2.06.94zm-11 1L8.5 8.5l.94-2.06 2.06-.94-2.06-.94L8.5 2.5l-.94 2.06-2.06.94zm10 10l.94 2.06.94-2.06 2.06-.94-2.06-.94-.94-2.06-.94 2.06-2.06.94z\"/><path d=\"M17.41 7.96l-1.37-1.37c-.4-.4-.92-.59-1.43-.59-.52 0-1.04.2-1.43.59L10.3 9.45l-7.72 7.72c-.78.78-.78 2.05 0 2.83L4 21.41c.39.39.9.59 1.41.59.51 0 1.02-.2 1.41-.59l7.78-7.78 2.81-2.81c.8-.78.8-2.07 0-2.86zM5.41 20L4 18.59l7.72-7.72 1.47 1.35L5.41 20z\"/>\n",
              "  </svg>\n",
              "      </button>\n",
              "      \n",
              "  <style>\n",
              "    .colab-df-container {\n",
              "      display:flex;\n",
              "      flex-wrap:wrap;\n",
              "      gap: 12px;\n",
              "    }\n",
              "\n",
              "    .colab-df-convert {\n",
              "      background-color: #E8F0FE;\n",
              "      border: none;\n",
              "      border-radius: 50%;\n",
              "      cursor: pointer;\n",
              "      display: none;\n",
              "      fill: #1967D2;\n",
              "      height: 32px;\n",
              "      padding: 0 0 0 0;\n",
              "      width: 32px;\n",
              "    }\n",
              "\n",
              "    .colab-df-convert:hover {\n",
              "      background-color: #E2EBFA;\n",
              "      box-shadow: 0px 1px 2px rgba(60, 64, 67, 0.3), 0px 1px 3px 1px rgba(60, 64, 67, 0.15);\n",
              "      fill: #174EA6;\n",
              "    }\n",
              "\n",
              "    [theme=dark] .colab-df-convert {\n",
              "      background-color: #3B4455;\n",
              "      fill: #D2E3FC;\n",
              "    }\n",
              "\n",
              "    [theme=dark] .colab-df-convert:hover {\n",
              "      background-color: #434B5C;\n",
              "      box-shadow: 0px 1px 3px 1px rgba(0, 0, 0, 0.15);\n",
              "      filter: drop-shadow(0px 1px 2px rgba(0, 0, 0, 0.3));\n",
              "      fill: #FFFFFF;\n",
              "    }\n",
              "  </style>\n",
              "\n",
              "      <script>\n",
              "        const buttonEl =\n",
              "          document.querySelector('#df-287c2295-7aa0-4cb7-83dd-29e299d611bf button.colab-df-convert');\n",
              "        buttonEl.style.display =\n",
              "          google.colab.kernel.accessAllowed ? 'block' : 'none';\n",
              "\n",
              "        async function convertToInteractive(key) {\n",
              "          const element = document.querySelector('#df-287c2295-7aa0-4cb7-83dd-29e299d611bf');\n",
              "          const dataTable =\n",
              "            await google.colab.kernel.invokeFunction('convertToInteractive',\n",
              "                                                     [key], {});\n",
              "          if (!dataTable) return;\n",
              "\n",
              "          const docLinkHtml = 'Like what you see? Visit the ' +\n",
              "            '<a target=\"_blank\" href=https://colab.research.google.com/notebooks/data_table.ipynb>data table notebook</a>'\n",
              "            + ' to learn more about interactive tables.';\n",
              "          element.innerHTML = '';\n",
              "          dataTable['output_type'] = 'display_data';\n",
              "          await google.colab.output.renderOutput(dataTable, element);\n",
              "          const docLink = document.createElement('div');\n",
              "          docLink.innerHTML = docLinkHtml;\n",
              "          element.appendChild(docLink);\n",
              "        }\n",
              "      </script>\n",
              "    </div>\n",
              "  </div>\n",
              "  "
            ]
          },
          "metadata": {},
          "execution_count": 15
        }
      ]
    },
    {
      "cell_type": "code",
      "source": [
        "final = simulation_df.iloc[-1]\n",
        "final"
      ],
      "metadata": {
        "colab": {
          "base_uri": "https://localhost:8080/"
        },
        "id": "wyBbOXM36-kc",
        "outputId": "7fe196ed-4302-4af1-ebe4-6fff4ef76bde"
      },
      "execution_count": 16,
      "outputs": [
        {
          "output_type": "execute_result",
          "data": {
            "text/plain": [
              "0       25.246791\n",
              "1       24.437585\n",
              "2       20.530808\n",
              "3       22.429350\n",
              "4       30.056543\n",
              "          ...    \n",
              "9995    20.154395\n",
              "9996    26.535699\n",
              "9997    24.364770\n",
              "9998    23.045375\n",
              "9999    27.811674\n",
              "Name: 40, Length: 10000, dtype: float64"
            ]
          },
          "metadata": {},
          "execution_count": 16
        }
      ]
    },
    {
      "cell_type": "code",
      "source": [
        "final.max()"
      ],
      "metadata": {
        "colab": {
          "base_uri": "https://localhost:8080/"
        },
        "id": "rX3w3TuODBjL",
        "outputId": "ea28a211-2e49-452a-ff27-b43abec8147a"
      },
      "execution_count": 17,
      "outputs": [
        {
          "output_type": "execute_result",
          "data": {
            "text/plain": [
              "38.46807294452022"
            ]
          },
          "metadata": {},
          "execution_count": 17
        }
      ]
    },
    {
      "cell_type": "code",
      "source": [
        "final.min()"
      ],
      "metadata": {
        "colab": {
          "base_uri": "https://localhost:8080/"
        },
        "id": "f5xFr8bxDFAf",
        "outputId": "d25c0979-554d-4bdc-ba84-b3c707bc8448"
      },
      "execution_count": 18,
      "outputs": [
        {
          "output_type": "execute_result",
          "data": {
            "text/plain": [
              "13.706059162886634"
            ]
          },
          "metadata": {},
          "execution_count": 18
        }
      ]
    },
    {
      "cell_type": "code",
      "source": [
        "average = np.mean(final)\n",
        "\n",
        "std = np.std(final)\n",
        "average, std"
      ],
      "metadata": {
        "colab": {
          "base_uri": "https://localhost:8080/"
        },
        "id": "XOCY8emb50nB",
        "outputId": "b99d4842-ef31-4a63-ff28-6eeb73a4163d"
      },
      "execution_count": 19,
      "outputs": [
        {
          "output_type": "execute_result",
          "data": {
            "text/plain": [
              "(23.94331318100519, 3.4550532707814674)"
            ]
          },
          "metadata": {},
          "execution_count": 19
        }
      ]
    },
    {
      "cell_type": "code",
      "source": [
        "#kdeplot using seaborn library\n",
        "sns.kdeplot(final, shade = True)\n"
      ],
      "metadata": {
        "colab": {
          "base_uri": "https://localhost:8080/",
          "height": 296
        },
        "id": "-xtWJwiTB6Vf",
        "outputId": "fee0a4a4-6895-43e8-881d-2c8f8503ecff"
      },
      "execution_count": 20,
      "outputs": [
        {
          "output_type": "execute_result",
          "data": {
            "text/plain": [
              "<matplotlib.axes._subplots.AxesSubplot at 0x7f855aee28b0>"
            ]
          },
          "metadata": {},
          "execution_count": 20
        },
        {
          "output_type": "display_data",
          "data": {
            "text/plain": [
              "<Figure size 432x288 with 1 Axes>"
            ],
            "image/png": "[encoded data removed]"
          },
          "metadata": {
            "needs_background": "light"
          }
        }
      ]
    },
    {
      "cell_type": "code",
      "source": [
        "\n",
        "#for cdf instead of usual pdf, use this instead\n",
        "sns.kdeplot(final, cumulative=True)"
      ],
      "metadata": {
        "colab": {
          "base_uri": "https://localhost:8080/",
          "height": 296
        },
        "id": "KxnqikU2EJws",
        "outputId": "c59acd40-2839-4c47-a09d-ca1772e4c7fe"
      },
      "execution_count": 21,
      "outputs": [
        {
          "output_type": "execute_result",
          "data": {
            "text/plain": [
              "<matplotlib.axes._subplots.AxesSubplot at 0x7f855a2cd520>"
            ]
          },
          "metadata": {},
          "execution_count": 21
        },
        {
          "output_type": "display_data",
          "data": {
            "text/plain": [
              "<Figure size 432x288 with 1 Axes>"
            ],
            "image/png": "[encoded data removed]"
          },
          "metadata": {
            "needs_background": "light"
          }
        }
      ]
    },
    {
      "cell_type": "code",
      "source": [
        "#bins_desired = [0,80,160,240,320,400,480,560,640,720]\n",
        "bins_desired = [10,12,14,16,18,20,22,24,26,28,30,32,34,36,38,40,42,44]\n",
        "\n",
        "plt.hist(final, bins = bins_desired, edgecolor = 'red')"
      ],
      "metadata": {
        "colab": {
          "base_uri": "https://localhost:8080/",
          "height": 369
        },
        "id": "yhjZFBG_9QeZ",
        "outputId": "83f2f86c-7a60-4c03-8aa0-56b388a9464f"
      },
      "execution_count": 24,
      "outputs": [
        {
          "output_type": "execute_result",
          "data": {
            "text/plain": [
              "(array([0.000e+00, 2.000e+00, 2.400e+01, 2.620e+02, 9.190e+02, 1.820e+03,\n",
              "        2.312e+03, 2.067e+03, 1.354e+03, 7.400e+02, 3.190e+02, 1.290e+02,\n",
              "        3.900e+01, 1.100e+01, 2.000e+00, 0.000e+00, 0.000e+00]),\n",
              " array([10, 12, 14, 16, 18, 20, 22, 24, 26, 28, 30, 32, 34, 36, 38, 40, 42,\n",
              "        44]),\n",
              " <a list of 17 Patch objects>)"
            ]
          },
          "metadata": {},
          "execution_count": 24
        },
        {
          "output_type": "display_data",
          "data": {
            "text/plain": [
              "<Figure size 432x288 with 1 Axes>"
            ],
            "image/png": "[encoded data removed]"
          },
          "metadata": {
            "needs_background": "light"
          }
        }
      ]
    },
    {
      "cell_type": "code",
      "source": [
        "counter_less140 = final[final<last_price]\n",
        "counter_less140\n",
        "prob = len(counter_less140) / trials \n",
        "print(prob)"
      ],
      "metadata": {
        "colab": {
          "base_uri": "https://localhost:8080/"
        },
        "id": "mFUpEdqXDfCY",
        "outputId": "fea2dafc-52f0-440d-e5bc-1047ac875136"
      },
      "execution_count": 25,
      "outputs": [
        {
          "output_type": "stream",
          "name": "stdout",
          "text": [
            "0.525\n"
          ]
        }
      ]
    },
    {
      "cell_type": "code",
      "source": [
        "time_value = last_price* 1.02\n",
        "print(len(final[final<time_value])/trials)"
      ],
      "metadata": {
        "colab": {
          "base_uri": "https://localhost:8080/"
        },
        "id": "24zGtNBPGxrx",
        "outputId": "45da136e-3c7f-45be-f913-9aac46b8d225"
      },
      "execution_count": 26,
      "outputs": [
        {
          "output_type": "stream",
          "name": "stdout",
          "text": [
            "0.5821\n"
          ]
        }
      ]
    }
  ]
}